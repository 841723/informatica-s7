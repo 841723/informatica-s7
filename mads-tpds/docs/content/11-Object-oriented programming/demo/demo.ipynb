{
 "cells": [
  {
   "cell_type": "markdown",
   "metadata": {},
   "source": [
    "# Object Oriented Programming (OOP)\n",
    "- Object oriented programming is a programming paradigm that provides a means of structuring programs so that properties and behaviors are bundled into individual objects.\n",
    "- We haven't defined own classes so far, but we have been using features of OOP all the time, e.g. when working with Pandas DataFrames."
   ]
  },
  {
   "cell_type": "code",
   "execution_count": 1,
   "metadata": {},
   "outputs": [
    {
     "data": {
      "text/plain": [
       "',first,last\\r\\n0,Anna,Smith\\r\\n1,Berta,Jones\\r\\n'"
      ]
     },
     "execution_count": 1,
     "metadata": {},
     "output_type": "execute_result"
    }
   ],
   "source": [
    "import pandas as pd\n",
    "df = pd.DataFrame({'first':['Anna', 'Berta'], 'last':['Smith', 'Jones']})\n",
    "type(df)\n",
    "\n",
    "# Attributes / Properties\n",
    "df.shape\n",
    "df.columns\n",
    "\n",
    "# Methods / Behaviours\n",
    "df.describe()\n",
    "df.to_csv()"
   ]
  },
  {
   "cell_type": "code",
   "execution_count": 4,
   "metadata": {},
   "outputs": [
    {
     "name": "stdout",
     "output_type": "stream",
     "text": [
      "Index(['firstname', 'lastname'], dtype='object')\n"
     ]
    }
   ],
   "source": [
    "df.columns = [\"firstname\", \"lastname\"]\n",
    "print(df.columns)"
   ]
  },
  {
   "cell_type": "markdown",
   "metadata": {},
   "source": [
    "- The **class** is a Pandas DataFrame: it is a blueprint/recipe for creating concrete objects. \n",
    "- df is an **object**: it is one **instance of the class** DataFrame.\n",
    "- We can create many DataFrame objects/instances. \n",
    "- All of them share the same general **properties** or **attributes** of DataFrames: they all have a `shape` and `columns` and an `index` attribute.\n",
    "- All of them share the same general **methods** or **behaviors** of DataFrames: they all have a `head()`, `mean()`, and `to_csv` method."
   ]
  },
  {
   "attachments": {},
   "cell_type": "markdown",
   "metadata": {},
   "source": [
    "# Step 1: Simple class with Attributes"
   ]
  },
  {
   "cell_type": "markdown",
   "metadata": {},
   "source": [
    "For specific purposes, we may want to create our own data structures, which provide tailored attributes and behaviour for our use case. Let us define a class on our own"
   ]
  },
  {
   "cell_type": "code",
   "execution_count": 1,
   "metadata": {},
   "outputs": [],
   "source": [
    "class Employee:\n",
    "    \"\"\"This class is going to define attributes and behaviours of an employee of company XYZ.\"\"\"\n",
    "    pass"
   ]
  },
  {
   "cell_type": "code",
   "execution_count": 2,
   "metadata": {},
   "outputs": [
    {
     "name": "stdout",
     "output_type": "stream",
     "text": [
      "\u001b[1;31mInit signature:\u001b[0m \u001b[0mEmployee\u001b[0m\u001b[1;33m(\u001b[0m\u001b[1;33m)\u001b[0m\u001b[1;33m\u001b[0m\u001b[1;33m\u001b[0m\u001b[0m\n",
      "\u001b[1;31mDocstring:\u001b[0m      This class is going to define attributes and behaviours of an employee of company XYZ.\n",
      "\u001b[1;31mType:\u001b[0m           type\n",
      "\u001b[1;31mSubclasses:\u001b[0m     "
     ]
    }
   ],
   "source": [
    "Employee?"
   ]
  },
  {
   "cell_type": "markdown",
   "metadata": {},
   "source": [
    "# Attributes\n",
    "\n",
    "- id\n",
    "- Start date (end date)\n",
    "- Position \n",
    "- Organization/Department\n",
    "- Salary\n",
    "- Sex\n",
    "\n",
    "# Behaviour\n",
    "- Coming late\n",
    "- Drinking too much coffee\n",
    "- Working hours\n",
    "- Quit\n",
    "- Change department\n",
    "- Getting higher pay"
   ]
  },
  {
   "cell_type": "code",
   "execution_count": 3,
   "metadata": {},
   "outputs": [],
   "source": [
    "class Employee:\n",
    "\n",
    "    def __init__(self, id, first, last = 'Schwörer'):\n",
    "        self.id = id\n",
    "        self.first = first\n",
    "        self.last = last"
   ]
  },
  {
   "cell_type": "code",
   "execution_count": 4,
   "metadata": {},
   "outputs": [
    {
     "name": "stdout",
     "output_type": "stream",
     "text": [
      "1\n",
      "Till\n"
     ]
    },
    {
     "data": {
      "text/plain": [
       "'Schwörer'"
      ]
     },
     "execution_count": 4,
     "metadata": {},
     "output_type": "execute_result"
    }
   ],
   "source": [
    "emp1 = Employee(id = 1, first = 'Till')\n",
    "print(emp1.id)\n",
    "print(emp1.first)\n",
    "emp1.last\n"
   ]
  },
  {
   "cell_type": "markdown",
   "metadata": {},
   "source": [
    "- Class names use the **CaptilizedWords** convention (e.g. as in DataFrame)\n",
    "- Functions defined inside a class are called **methods**.\n",
    "- The `__init__` method (also called **constructor**) is a special method that is called when we **create a new instance** of the class. It is used to initialize the attributes of the class.\n",
    "- The first argument of the __init__ method is always `self`, which refers to the object itself. "
   ]
  },
  {
   "cell_type": "code",
   "execution_count": null,
   "metadata": {},
   "outputs": [],
   "source": [
    "employee1 = Employee(1, \"Till\", \"Schwörer\")\n",
    "employee2 = Employee(id = 2, first = \"Anna\", last = \"Abendrot\")"
   ]
  },
  {
   "cell_type": "markdown",
   "metadata": {},
   "source": [
    "- We can query the attributes using the dot notation\n",
    "- We can overwrite attributes"
   ]
  },
  {
   "cell_type": "code",
   "execution_count": null,
   "metadata": {},
   "outputs": [],
   "source": [
    "print(employee1.last)\n",
    "employee1.last = 'Meier'\n",
    "print(employee1.last)"
   ]
  },
  {
   "cell_type": "code",
   "execution_count": null,
   "metadata": {},
   "outputs": [],
   "source": [
    "df.columns = ['firstname','lastname']\n",
    "df"
   ]
  },
  {
   "cell_type": "markdown",
   "metadata": {},
   "source": [
    "- Attributes can be public, protected or private:\n",
    "    - **Public attributes** are the default. They are meant to be accessed directly.\n",
    "    - **Protected attributes** are a convention to tell other programmers that they should not access the attribute directly. \n",
    "    - **Private attributes** cannot be accessed directly."
   ]
  },
  {
   "cell_type": "code",
   "execution_count": 5,
   "metadata": {},
   "outputs": [],
   "source": [
    "class Employee:\n",
    "\n",
    "    def __init__(self, first, last, pay):\n",
    "        self.first = first # public\n",
    "        self._last = last  # protected\n",
    "        self.__pay = pay   # private"
   ]
  },
  {
   "cell_type": "code",
   "execution_count": 6,
   "metadata": {},
   "outputs": [
    {
     "data": {
      "text/plain": [
       "'Max'"
      ]
     },
     "execution_count": 6,
     "metadata": {},
     "output_type": "execute_result"
    }
   ],
   "source": [
    "max = Employee('Max','Mustermann',1e7)\n",
    "max.first"
   ]
  },
  {
   "cell_type": "markdown",
   "metadata": {},
   "source": [
    "max._last = 'Meier'\n",
    "max._last"
   ]
  },
  {
   "cell_type": "code",
   "execution_count": 8,
   "metadata": {},
   "outputs": [
    {
     "ename": "AttributeError",
     "evalue": "'Employee' object has no attribute '__pay'",
     "output_type": "error",
     "traceback": [
      "\u001b[1;31m---------------------------------------------------------------------------\u001b[0m",
      "\u001b[1;31mAttributeError\u001b[0m                            Traceback (most recent call last)",
      "Cell \u001b[1;32mIn[8], line 1\u001b[0m\n\u001b[1;32m----> 1\u001b[0m \u001b[38;5;28;43mmax\u001b[39;49m\u001b[38;5;241;43m.\u001b[39;49m\u001b[43m__pay\u001b[49m\n",
      "\u001b[1;31mAttributeError\u001b[0m: 'Employee' object has no attribute '__pay'"
     ]
    }
   ],
   "source": [
    "max.__pay"
   ]
  },
  {
   "attachments": {},
   "cell_type": "markdown",
   "metadata": {},
   "source": [
    "# Step 2: Class with Attributes and methods\n",
    "\n",
    "- The following Employee class has not only **instance attributes** (first, last, pay), but also **class attributes** (raise_rate). They are shared by all instances of the class (unless overruled by instance attributes).\n",
    "- It also has an **instance method** (apply_raise) that changes the pay attribute of the instance. The first argument of an instance method is always `self`, which refers to the object itself."
   ]
  },
  {
   "cell_type": "code",
   "execution_count": 12,
   "metadata": {},
   "outputs": [],
   "source": [
    "class Employee:\n",
    "\n",
    "    def __init__(self, first, last, pay):\n",
    "        self.first = first\n",
    "        self.last = last\n",
    "        self.pay = pay\n",
    "\n",
    "    def apply_raise(self, raise_rate = 1.05):\n",
    "        self.pay = int(self.pay * raise_rate)"
   ]
  },
  {
   "cell_type": "code",
   "execution_count": 13,
   "metadata": {},
   "outputs": [
    {
     "name": "stdout",
     "output_type": "stream",
     "text": [
      "50000\n",
      "52500\n",
      "63000\n"
     ]
    }
   ],
   "source": [
    "max = Employee('Max', 'Mustermann', 50000)\n",
    "print(max.pay)\n",
    "max.apply_raise()\n",
    "print(max.pay)\n",
    "max.apply_raise(1.20)\n",
    "print(max.pay)"
   ]
  },
  {
   "cell_type": "code",
   "execution_count": 14,
   "metadata": {},
   "outputs": [],
   "source": [
    "class Employee:\n",
    "\n",
    "    # Default raise rate\n",
    "    raise_rate = 1.05\n",
    "\n",
    "    def __init__(self, first, last, pay):\n",
    "        self.first = first\n",
    "        self.last = last\n",
    "        self.pay = pay\n",
    "\n",
    "    def apply_raise(self, raise_rate = None):\n",
    "        if raise_rate==None:\n",
    "            raise_rate = self.raise_rate \n",
    "        self.pay = int(self.pay * raise_rate)"
   ]
  },
  {
   "cell_type": "code",
   "execution_count": 15,
   "metadata": {},
   "outputs": [],
   "source": [
    "till = Employee(\"Till\", \"Schwörer\", 3000)"
   ]
  },
  {
   "cell_type": "code",
   "execution_count": 16,
   "metadata": {},
   "outputs": [
    {
     "data": {
      "text/plain": [
       "1.05"
      ]
     },
     "execution_count": 16,
     "metadata": {},
     "output_type": "execute_result"
    }
   ],
   "source": [
    "till.apply_raise(1.3)\n",
    "till.raise_rate"
   ]
  },
  {
   "attachments": {},
   "cell_type": "markdown",
   "metadata": {},
   "source": [
    "# Step 3: \n",
    "\n",
    "- The following Employee class has not only an **instance method** (`apply_raise`) but also a **class method** (`from_string`). It is defined via the `@classmethod` decorator. The first argument of a class method is always `cls`, which refers to the class itself."
   ]
  },
  {
   "cell_type": "code",
   "execution_count": 17,
   "metadata": {},
   "outputs": [],
   "source": [
    "class Employee:\n",
    "\n",
    "    # Default raise rate\n",
    "    raise_rate = 1.05\n",
    "\n",
    "    def __init__(self, first, last, pay):\n",
    "        self.first = first\n",
    "        self.last = last\n",
    "        self.pay = pay\n",
    "\n",
    "    def apply_raise(self, raise_rate = None):\n",
    "        if raise_rate==None:\n",
    "            raise_rate = self.raise_rate \n",
    "        self.pay = int(self.pay * raise_rate)\n",
    "\n",
    "    @classmethod     # Decorator\n",
    "    def from_string(cls, emp_string):\n",
    "        first, last, pay = emp_string.split('-')\n",
    "        return cls(first, last, pay)"
   ]
  },
  {
   "cell_type": "code",
   "execution_count": 20,
   "metadata": {},
   "outputs": [
    {
     "data": {
      "text/plain": [
       "3000"
      ]
     },
     "execution_count": 20,
     "metadata": {},
     "output_type": "execute_result"
    }
   ],
   "source": [
    "till = Employee('Till', 'Schwörer', 3000)\n",
    "till.pay"
   ]
  },
  {
   "cell_type": "code",
   "execution_count": 21,
   "metadata": {},
   "outputs": [
    {
     "data": {
      "text/plain": [
       "'10000'"
      ]
     },
     "execution_count": 21,
     "metadata": {},
     "output_type": "execute_result"
    }
   ],
   "source": [
    "# Demonstrate how to use the class method\n",
    "\n",
    "till = Employee.from_string('Anna-Karenina-10000')\n",
    "till.pay"
   ]
  },
  {
   "cell_type": "markdown",
   "metadata": {},
   "source": [
    "# Step 4: Inheritance\n",
    "\n",
    "- Inheritance is a way to form new classes using classes that have already been defined. \n",
    "- In the following example the class `Data Scientist` and `Manager` both inherit attributes and methods from the class `Employee`.\n",
    "- The `Data Scientist` class has an additional attribute `prog_lang` and the `Manager` class has an additional attribute `employees` and an additional method `add_employee`."
   ]
  },
  {
   "cell_type": "code",
   "execution_count": 22,
   "metadata": {},
   "outputs": [],
   "source": [
    "class DataScientist(Employee):\n",
    "\n",
    "    raise_rate = 1.1\n",
    "\n",
    "    def __init__(self, first, last, pay, lang = [], exp = {}):\n",
    "        super().__init__(first, last, pay)\n",
    "        self.lang = lang \n",
    "        self.exp = exp\n",
    "\n",
    "    def raise_exp(self, skill, new_level):\n",
    "        self.exp[skill] = new_level"
   ]
  },
  {
   "cell_type": "code",
   "execution_count": 23,
   "metadata": {},
   "outputs": [],
   "source": [
    "class Manager(Employee):\n",
    "    def __init__(self, first, last, pay, employees=[]):\n",
    "        super().__init__(first, last, pay)\n",
    "        self.employees = employees\n",
    "        self.n_employees = len(employees)\n",
    "\n",
    "    def add_employee(self, emp):\n",
    "        if emp not in self.employees:\n",
    "            self.employees.append(emp) \n",
    "\n",
    "    def remove_employee(self, emp):\n",
    "        if emp in self.employees:\n",
    "            self.employees.remove(emp)      "
   ]
  },
  {
   "cell_type": "code",
   "execution_count": 24,
   "metadata": {},
   "outputs": [
    {
     "data": {
      "text/plain": [
       "{'Python': 10, 'SQL': 10}"
      ]
     },
     "execution_count": 24,
     "metadata": {},
     "output_type": "execute_result"
    }
   ],
   "source": [
    "till = DataScientist('Till', 'Schwörer', 1e7, ['Python'], {'Python':10, 'SQL':7})\n",
    "till.raise_exp(skill = 'SQL', new_level = 10)\n",
    "till.exp"
   ]
  },
  {
   "cell_type": "code",
   "execution_count": 26,
   "metadata": {},
   "outputs": [
    {
     "data": {
      "text/plain": [
       "[<__main__.DataScientist at 0x1dbe7c443d0>]"
      ]
     },
     "execution_count": 26,
     "metadata": {},
     "output_type": "execute_result"
    }
   ],
   "source": [
    "joe = Manager('Joe','Kaeser', 50000)\n",
    "joe.add_employee(till)\n",
    "joe.employees"
   ]
  },
  {
   "cell_type": "code",
   "execution_count": 27,
   "metadata": {},
   "outputs": [
    {
     "data": {
      "text/plain": [
       "[]"
      ]
     },
     "execution_count": 27,
     "metadata": {},
     "output_type": "execute_result"
    }
   ],
   "source": [
    "joe.remove_employee(till)\n",
    "joe.employees"
   ]
  },
  {
   "cell_type": "markdown",
   "metadata": {},
   "source": [
    "# Step 5: Polymorphism\n",
    "\n",
    "- Another important principle of OOP is polymorphism.\n",
    "- Polymorphism is what allows to use functions such as `len()`, `sum()`, `min()` and `max()` on different types of objects (e.g. strings, lists, dictionaries, sets, arrays, DataFrames, ...).\n",
    "- We are using the folloing (double underscore) **dunder methods**:\n",
    "    - `__str__` for a nice printing representation of the object \n",
    "    - `__repr__` for a string representation that helps to recreate the object\n",
    "    - `__len__` for the length of the object\n",
    "    - `__add__` for the addition of two objects"
   ]
  },
  {
   "cell_type": "code",
   "execution_count": null,
   "metadata": {},
   "outputs": [],
   "source": [
    "class Employee:\n",
    "\n",
    "    # Default raise rate\n",
    "    raise_rate = 1.05\n",
    "\n",
    "    def __init__(self, first, last, pay):\n",
    "        self.first = first\n",
    "        self.last = last\n",
    "        self.pay = pay\n",
    "\n",
    "    def apply_raise(self, raise_rate = None):\n",
    "        if raise_rate==None:\n",
    "            raise_rate = self.raise_rate \n",
    "        self.pay = int(self.pay * raise_rate)\n",
    "\n",
    "    # Dunder methods (double underscore)\n",
    "    \n",
    "    def __str__(self):\n",
    "        return f'Prof. Dr, {self.last}, {self.first} '\n",
    "    \n",
    "    def __repr__(self):\n",
    "        return f'Employee(\"{self.first}\", \"{self.last}\", \"{self.pay}\")'\n",
    "\n",
    "    def __len__(self):\n",
    "        return len(f'{self.first} {self.last}')\n",
    "    \n",
    "    def __add__(self, other):\n",
    "        return self.pay + other"
   ]
  },
  {
   "cell_type": "code",
   "execution_count": null,
   "metadata": {},
   "outputs": [],
   "source": [
    "till = Employee('Till','Schwörer',3000)"
   ]
  },
  {
   "cell_type": "code",
   "execution_count": null,
   "metadata": {},
   "outputs": [],
   "source": [
    "till.__str__()"
   ]
  },
  {
   "cell_type": "code",
   "execution_count": null,
   "metadata": {},
   "outputs": [],
   "source": [
    "str(till)\n",
    "print(till)"
   ]
  },
  {
   "cell_type": "code",
   "execution_count": null,
   "metadata": {},
   "outputs": [],
   "source": [
    "repr(till)"
   ]
  },
  {
   "cell_type": "code",
   "execution_count": null,
   "metadata": {},
   "outputs": [],
   "source": [
    "len(till)"
   ]
  }
 ],
 "metadata": {
  "kernelspec": {
   "display_name": "tpds",
   "language": "python",
   "name": "python3"
  },
  "language_info": {
   "codemirror_mode": {
    "name": "ipython",
    "version": 3
   },
   "file_extension": ".py",
   "mimetype": "text/x-python",
   "name": "python",
   "nbconvert_exporter": "python",
   "pygments_lexer": "ipython3",
   "version": "3.11.0"
  },
  "orig_nbformat": 4
 },
 "nbformat": 4,
 "nbformat_minor": 2
}
