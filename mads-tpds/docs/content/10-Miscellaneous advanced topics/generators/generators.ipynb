{
 "cells": [
  {
   "cell_type": "markdown",
   "metadata": {},
   "source": [
    "# 1. Iterables and iterators"
   ]
  },
  {
   "cell_type": "markdown",
   "metadata": {},
   "source": [
    "## What are iterables?"
   ]
  },
  {
   "cell_type": "markdown",
   "metadata": {},
   "source": [
    "\n",
    "- Any object that you can loop over with a for loop\n",
    "- Any object that can return its members one at a time\n",
    "- For instance: lists, tuples, sets, dictionaries, strings, files, generators, etc."
   ]
  },
  {
   "cell_type": "code",
   "execution_count": null,
   "metadata": {},
   "outputs": [],
   "source": [
    "x = ['Anna', 28]\n",
    "for item in x:\n",
    "    print(item)"
   ]
  },
  {
   "cell_type": "markdown",
   "metadata": {},
   "source": [
    "## What happens in a for loop?"
   ]
  },
  {
   "cell_type": "markdown",
   "metadata": {},
   "source": [
    "In a for loop, the `iter()` function is called on the iterable object, and then the `next` function is called on the iterator object until a `StopIteration` exception is raised."
   ]
  },
  {
   "cell_type": "code",
   "execution_count": null,
   "metadata": {},
   "outputs": [],
   "source": [
    "x = ['Anna', 28]\n",
    "x_iterator = iter(x)\n",
    "while True:\n",
    "    try:\n",
    "        print(next(x_iterator))\n",
    "    except StopIteration:\n",
    "        break"
   ]
  },
  {
   "cell_type": "markdown",
   "metadata": {},
   "source": [
    "Let's look at this process step by step:\n",
    "\n",
    "- Each iterable object has a \"double underscore\" method or dunder methos called `__iter__()` that **returns an iterator object**. \n",
    "- Alternatively, we can use the `iter()` function. It will call the `__iter__()` method of the list."
   ]
  },
  {
   "cell_type": "code",
   "execution_count": null,
   "metadata": {},
   "outputs": [],
   "source": [
    "x_iterator = x.__iter__() \n",
    "x_iterator = iter(x)        # Same as above, but more common\n",
    "type(x_iterator)"
   ]
  },
  {
   "cell_type": "markdown",
   "metadata": {},
   "source": [
    "- Each **iterator object** has a dunder method called `__next__()` that **returns the next item in the sequence.**\n",
    "- Alternatively, we can use the `next()` function.\n",
    "- If we reach the end of the sequence, it raises a `StopIteration` exception.\n",
    "- Since we don't want to run into this exception, the for loop automatically catches it and stops the iteration."
   ]
  },
  {
   "cell_type": "code",
   "execution_count": null,
   "metadata": {},
   "outputs": [],
   "source": [
    "x = ['Anna', 28]\n",
    "x_iterator = iter(x)\n",
    "print(next(x_iterator))\n",
    "print(next(x_iterator))\n",
    "print(next(x_iterator))"
   ]
  },
  {
   "cell_type": "markdown",
   "metadata": {},
   "source": [
    "# 2. Generators"
   ]
  },
  {
   "cell_type": "markdown",
   "metadata": {},
   "source": [
    "## Motivation"
   ]
  },
  {
   "cell_type": "markdown",
   "metadata": {},
   "source": [
    "**What happens if the iterable is huge?**, e.g. a list of 1 billion numbers\n",
    "\n",
    "- It will take up a lot of memory, or maybe not even fit in memory\n",
    "- It will take a long time to generate the list"
   ]
  },
  {
   "cell_type": "markdown",
   "metadata": {},
   "source": [
    "**Generators are a helpful alternative to lists in this case.**\n",
    "\n",
    "- Instead of storing all items in memory, generators produce items one at a time.\n",
    "- Generators only compute values \"on the fly\" when needed (_lazy evaluation_)."
   ]
  },
  {
   "cell_type": "code",
   "execution_count": 26,
   "metadata": {},
   "outputs": [],
   "source": [
    "def square_function(numbers):\n",
    "    result = []\n",
    "    for number in numbers:\n",
    "        result.append(number**2)\n",
    "    return result"
   ]
  },
  {
   "cell_type": "code",
   "execution_count": 61,
   "metadata": {},
   "outputs": [],
   "source": [
    "def square_generator(numbers):\n",
    "    for number in numbers:\n",
    "        yield number**2"
   ]
  },
  {
   "cell_type": "markdown",
   "metadata": {},
   "source": [
    "- `square_function` first creates a list of squares and then **returns** the list. If the list is huge, it will take long to generate the list and consume a lot of memory.\n",
    "- `square_generator` is a generator function. It **yields** the square of each number one at a time. It doesn't store the squares in memory. It only computes the next square when it is needed. If we need the next square, we call `next()` on the generator object."
   ]
  },
  {
   "cell_type": "code",
   "execution_count": null,
   "metadata": {},
   "outputs": [],
   "source": [
    "results = square_function(range(10))\n",
    "results"
   ]
  },
  {
   "cell_type": "code",
   "execution_count": null,
   "metadata": {},
   "outputs": [],
   "source": [
    "my_generator = square_generator(range(10))\n",
    "print(next(my_generator))\n",
    "print(next(my_generator))"
   ]
  },
  {
   "cell_type": "markdown",
   "metadata": {},
   "source": [
    "## Generator functions"
   ]
  },
  {
   "cell_type": "markdown",
   "metadata": {},
   "source": [
    "- Generator functions are functions that use the `yield` keyword, typically inside a loop\n",
    "- Multiple `yield` statements are allowed\n",
    "- Generator functions are therefore suitable for more complex scenarios compared to generator expressions"
   ]
  },
  {
   "cell_type": "code",
   "execution_count": null,
   "metadata": {},
   "outputs": [],
   "source": [
    "def transform(numbers):\n",
    "    for number in numbers:\n",
    "        yield number+1\n",
    "\n",
    "    for number in numbers:\n",
    "        yield number*100\n",
    "\n",
    "my_generator = transform([1,2,3])\n",
    "for item in my_generator:\n",
    "    print(item)"
   ]
  },
  {
   "cell_type": "markdown",
   "metadata": {},
   "source": [
    "## Generator expressions"
   ]
  },
  {
   "cell_type": "markdown",
   "metadata": {},
   "source": [
    "- The syntax of generator expressions are similar to list comprehensions, but with parentheses instead of square brackets\n",
    "- Generator expressions are more concise and easier to read than generator functions\n",
    "- Generator expressions are suitable for simple scenarios"
   ]
  },
  {
   "cell_type": "code",
   "execution_count": 60,
   "metadata": {},
   "outputs": [],
   "source": [
    "# List comprehension vs Generator expression\n",
    "x = [number**2 for number in range(10)]\n",
    "y = (number**2 for number in range(10))"
   ]
  },
  {
   "cell_type": "markdown",
   "metadata": {},
   "source": [
    "## Use Cases"
   ]
  },
  {
   "cell_type": "markdown",
   "metadata": {},
   "source": [
    "### A: Streaming Data"
   ]
  },
  {
   "cell_type": "code",
   "execution_count": 4,
   "metadata": {},
   "outputs": [],
   "source": [
    "import time\n",
    "import requests\n",
    "\n",
    "def iss_position_stream():\n",
    "    url = \"http://api.open-notify.org/iss-now.json\"\n",
    "    while True:\n",
    "        response = requests.get(url)\n",
    "        if response.status_code == 200:\n",
    "            data = response.json()\n",
    "            position = data['iss_position']\n",
    "            latitude = position['latitude']\n",
    "            longitude = position['longitude']\n",
    "            yield (latitude, longitude)\n",
    "        else:\n",
    "            yield None\n",
    "        time.sleep(2) \n"
   ]
  },
  {
   "cell_type": "code",
   "execution_count": null,
   "metadata": {},
   "outputs": [],
   "source": [
    "position = iss_position_stream()\n",
    "for i, position in enumerate(position): \n",
    "    print(f\"ISS Position: Latitude {position[0]}, Longitude {position[1]}\")\n",
    "    if i == 3:\n",
    "        break"
   ]
  },
  {
   "cell_type": "markdown",
   "metadata": {},
   "source": [
    "### B: Working with huge data"
   ]
  },
  {
   "cell_type": "markdown",
   "metadata": {},
   "source": [
    "- **Pandas can read data in chunks.** \n",
    "- **These chunks behave much like generators:** They only load a chunk of data into memory at a time. We can use the `next()` function to load the next chunk. Or we can use a for loop to iterate over the chunks.\n",
    "- They are useful when working with huge datasets that don't fit into memory."
   ]
  },
  {
   "cell_type": "code",
   "execution_count": 19,
   "metadata": {},
   "outputs": [],
   "source": [
    "import pandas as pd"
   ]
  },
  {
   "cell_type": "markdown",
   "metadata": {},
   "source": [
    "First, we read in the entire data set about movies at once. Afterwards we just filter out movies from before 1910. If this were a huge data set, it would take a long time to load or might even not fit into memory."
   ]
  },
  {
   "cell_type": "code",
   "execution_count": null,
   "metadata": {},
   "outputs": [],
   "source": [
    "movies = pd.read_csv('movies.csv')\n",
    "movies['year'] = pd.to_numeric(movies.title.str[-5:-1], errors='coerce')\n",
    "movies[movies.year < 1910]"
   ]
  },
  {
   "cell_type": "markdown",
   "metadata": {},
   "source": [
    "Now, we read in the data set in single chunks. Each chunk fits decently into memory. For each chunk we can filter out the relevant movies from before 1910, and the write the filtered data to a new file. This way we can work with huge data sets that don't fit into memory."
   ]
  },
  {
   "cell_type": "code",
   "execution_count": 21,
   "metadata": {},
   "outputs": [],
   "source": [
    "chunks = pd.read_csv('movies.csv', chunksize=10)      # The small chunk size is just for demonstration purposes\n",
    "for chunk in chunks:\n",
    "    chunk['year'] = pd.to_numeric(chunk.title.str[-5:-1], errors='coerce')\n",
    "    chunk = chunk[chunk.year < 1910]\n",
    "    chunk.to_csv('movies_before_1910.csv', mode='a', header=False)"
   ]
  },
  {
   "cell_type": "markdown",
   "metadata": {},
   "source": [
    "### C: Infinite Iterators"
   ]
  },
  {
   "cell_type": "code",
   "execution_count": 23,
   "metadata": {},
   "outputs": [],
   "source": [
    "def count():\n",
    "    i = 0\n",
    "    while True:\n",
    "        yield i\n",
    "        i += 1"
   ]
  },
  {
   "cell_type": "code",
   "execution_count": null,
   "metadata": {},
   "outputs": [],
   "source": [
    "for number in count():\n",
    "    print(number)\n",
    "    if number > 10:\n",
    "        break"
   ]
  }
 ],
 "metadata": {
  "kernelspec": {
   "display_name": "tpds",
   "language": "python",
   "name": "python3"
  },
  "language_info": {
   "codemirror_mode": {
    "name": "ipython",
    "version": 3
   },
   "file_extension": ".py",
   "mimetype": "text/x-python",
   "name": "python",
   "nbconvert_exporter": "python",
   "pygments_lexer": "ipython3",
   "version": "3.11.0"
  }
 },
 "nbformat": 4,
 "nbformat_minor": 2
}
