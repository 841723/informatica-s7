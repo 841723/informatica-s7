{
 "cells": [
  {
   "cell_type": "markdown",
   "metadata": {},
   "source": [
    "We want to be able to:\n",
    "\n",
    "- connect Python with a MySQL database\n",
    "- be able to manage a MYSQL database from Python (e.g. creating databases and tables, inserting data, deleting tables, ...)\n",
    "- write Pandas DataFrames to a MySQL database\n",
    "- read data from a MySQL database into a Pandas DataFrame\n",
    "- use SQL queries to filter data in a MySQL database"
   ]
  },
  {
   "cell_type": "code",
   "execution_count": 1,
   "metadata": {},
   "outputs": [],
   "source": [
    "# %pip install SQLAlchemy mysql-connector-python python-dotenv "
   ]
  },
  {
   "cell_type": "code",
   "execution_count": 2,
   "metadata": {},
   "outputs": [],
   "source": [
    "from sqlalchemy import create_engine, text   # Needed to connect to the database\n",
    "import pandas as pd\n",
    "import os                                    # Needed to access environment variables\n",
    "from dotenv import load_dotenv               # Load passwords etc from .env file "
   ]
  },
  {
   "cell_type": "markdown",
   "metadata": {},
   "source": [
    "## 1.1 Connect to MySQL Database"
   ]
  },
  {
   "cell_type": "markdown",
   "metadata": {},
   "source": [
    "- Instead of writing your database credentials into a Python script or Jupyter Notebook, you can store them in a separate .env file. \n",
    "- This is a text file that contains environment variables in the form of name=value pairs. \n",
    "- You can then load these variables into your Python script using the dotenv package.\n",
    "- Such a .env file should never be shared with others or checked into version control."
   ]
  },
  {
   "cell_type": "code",
   "execution_count": 3,
   "metadata": {},
   "outputs": [
    {
     "data": {
      "text/plain": [
       "True"
      ]
     },
     "execution_count": 3,
     "metadata": {},
     "output_type": "execute_result"
    }
   ],
   "source": [
    "# Load the .env file\n",
    "load_dotenv('.env')"
   ]
  },
  {
   "cell_type": "markdown",
   "metadata": {},
   "source": [
    "- The package SQLAlchemy allows you to connect to different SQL databases (e.g. MySQL, PostgreSQL, SQLite, ...).\n",
    "- To connect to a MySQL database, you need to specify both the database dialect (mysql) and choose an appropriate driver (mysqlconnector, pymysql, ...). The driver needs to be installed separately. [MySQL Connector/Python](https://dev.mysql.com/doc/connector-python/en/connector-python-introduction.html) is the official MySQL driver for Python. "
   ]
  },
  {
   "cell_type": "code",
   "execution_count": 4,
   "metadata": {},
   "outputs": [],
   "source": [
    "# Connection to local MYSQL database\n",
    "DIALECT = 'mysql'\n",
    "DRIVER = 'mysqlconnector'                          # pip install mysql-connector-python\n",
    "USER = os.getenv('MYSQL_USER')\n",
    "PASSWORD = os.getenv('MYSQL_PASSWORD')\n",
    "HOST = 'localhost'\n",
    "PORT = '3306'\n",
    "\n",
    "connection_string = f\"{DIALECT}+{DRIVER}://{USER}:{PASSWORD}@{HOST}:{PORT}\"\n",
    "engine = create_engine(connection_string)"
   ]
  },
  {
   "cell_type": "markdown",
   "metadata": {},
   "source": [
    "## 1.2 Create a new database"
   ]
  },
  {
   "cell_type": "markdown",
   "metadata": {},
   "source": [
    "- We can use the `execute` method to run arbitrary SQL statements\n",
    "- To make sure that the connection to the database is closed after the transaction, we can use the `with` statement. "
   ]
  },
  {
   "cell_type": "code",
   "execution_count": 6,
   "metadata": {},
   "outputs": [],
   "source": [
    "with engine.connect() as connection:\n",
    "    connection.execute(text('CREATE DATABASE IF NOT EXISTS music'))"
   ]
  },
  {
   "cell_type": "markdown",
   "metadata": {},
   "source": [
    "- Typically, we would not create a new database in this way, but use a database that already exists.\n",
    "- In this case, we would directly specify an engine that points to the existing database."
   ]
  },
  {
   "cell_type": "code",
   "execution_count": 7,
   "metadata": {},
   "outputs": [],
   "source": [
    "connection_string = f\"{DIALECT}+{DRIVER}://{USER}:{PASSWORD}@{HOST}:{PORT}/music\"\n",
    "engine = create_engine(connection_string)"
   ]
  },
  {
   "cell_type": "markdown",
   "metadata": {},
   "source": [
    "## 1.3 Write Pandas DataFrame to database"
   ]
  },
  {
   "cell_type": "markdown",
   "metadata": {},
   "source": [
    "- We use the `to_sql` method of Pandas DataFrames to write an entire DataFrame to a database table\n",
    "- We can specify how to handle the situation that the table already exists: 'fail', 'replace', 'append'\n",
    "- Also we need to consider whether the index should be written to the database (default)"
   ]
  },
  {
   "cell_type": "code",
   "execution_count": 8,
   "metadata": {},
   "outputs": [],
   "source": [
    "df = pd.read_csv(\"data/tracks.csv\")"
   ]
  },
  {
   "cell_type": "code",
   "execution_count": 9,
   "metadata": {},
   "outputs": [
    {
     "data": {
      "text/plain": [
       "792"
      ]
     },
     "execution_count": 9,
     "metadata": {},
     "output_type": "execute_result"
    }
   ],
   "source": [
    "df.to_sql(name='tracks', con=engine, if_exists='replace', index=False)"
   ]
  },
  {
   "cell_type": "markdown",
   "metadata": {},
   "source": [
    "## 1.4 Read from database into Pandas DataFrame"
   ]
  },
  {
   "cell_type": "markdown",
   "metadata": {},
   "source": [
    "- We can read entire database tables"
   ]
  },
  {
   "cell_type": "code",
   "execution_count": 9,
   "metadata": {},
   "outputs": [
    {
     "data": {
      "text/html": [
       "<div>\n",
       "<style scoped>\n",
       "    .dataframe tbody tr th:only-of-type {\n",
       "        vertical-align: middle;\n",
       "    }\n",
       "\n",
       "    .dataframe tbody tr th {\n",
       "        vertical-align: top;\n",
       "    }\n",
       "\n",
       "    .dataframe thead th {\n",
       "        text-align: right;\n",
       "    }\n",
       "</style>\n",
       "<table border=\"1\" class=\"dataframe\">\n",
       "  <thead>\n",
       "    <tr style=\"text-align: right;\">\n",
       "      <th></th>\n",
       "      <th>id</th>\n",
       "      <th>name</th>\n",
       "      <th>album_name</th>\n",
       "      <th>artist_ids</th>\n",
       "      <th>danceability</th>\n",
       "      <th>energy</th>\n",
       "      <th>speechiness</th>\n",
       "      <th>acousticness</th>\n",
       "      <th>valence</th>\n",
       "      <th>tempo</th>\n",
       "      <th>duration_ms</th>\n",
       "    </tr>\n",
       "  </thead>\n",
       "  <tbody>\n",
       "    <tr>\n",
       "      <th>0</th>\n",
       "      <td>05Mp2UJulSttxQ4E6hQPH3</td>\n",
       "      <td>Ohne mein Team</td>\n",
       "      <td>Palmen aus Plastik</td>\n",
       "      <td>1aS5tqEs9ci5P9KD9tZWa6,0Dvx6p8JDyzeOPGmaCIH1L,...</td>\n",
       "      <td>0.766</td>\n",
       "      <td>0.800</td>\n",
       "      <td>0.0938</td>\n",
       "      <td>0.160</td>\n",
       "      <td>0.635</td>\n",
       "      <td>129.999</td>\n",
       "      <td>188504</td>\n",
       "    </tr>\n",
       "    <tr>\n",
       "      <th>1</th>\n",
       "      <td>4bHsxqR3GMrXTxEPLuK5ue</td>\n",
       "      <td>Don't Stop Believin'</td>\n",
       "      <td>Escape</td>\n",
       "      <td>0rvjqX7ttXeg3mTy8Xscbt</td>\n",
       "      <td>0.500</td>\n",
       "      <td>0.748</td>\n",
       "      <td>0.0363</td>\n",
       "      <td>0.127</td>\n",
       "      <td>0.514</td>\n",
       "      <td>118.852</td>\n",
       "      <td>250987</td>\n",
       "    </tr>\n",
       "    <tr>\n",
       "      <th>2</th>\n",
       "      <td>3rdAz1fbUfZxYgaCviYhRo</td>\n",
       "      <td>Todo De Ti</td>\n",
       "      <td>VICE VERSA</td>\n",
       "      <td>1mcTU81TzQhprhouKaTkpq</td>\n",
       "      <td>0.780</td>\n",
       "      <td>0.719</td>\n",
       "      <td>0.0506</td>\n",
       "      <td>0.302</td>\n",
       "      <td>0.336</td>\n",
       "      <td>127.962</td>\n",
       "      <td>199604</td>\n",
       "    </tr>\n",
       "    <tr>\n",
       "      <th>3</th>\n",
       "      <td>254bXAqt3zP6P50BdQvEsq</td>\n",
       "      <td>Everywhere - 2017 Remaster</td>\n",
       "      <td>Tango In the Night (Deluxe Edition)</td>\n",
       "      <td>08GQAI4eElDnROBrJRGE0X</td>\n",
       "      <td>0.730</td>\n",
       "      <td>0.487</td>\n",
       "      <td>0.0303</td>\n",
       "      <td>0.258</td>\n",
       "      <td>0.731</td>\n",
       "      <td>114.965</td>\n",
       "      <td>226653</td>\n",
       "    </tr>\n",
       "    <tr>\n",
       "      <th>4</th>\n",
       "      <td>2PGA1AsJal6cyMNmKyE56q</td>\n",
       "      <td>200 km/h</td>\n",
       "      <td>Platte</td>\n",
       "      <td>1qQLhymHXFPtP5U8KNKsm6</td>\n",
       "      <td>0.899</td>\n",
       "      <td>0.670</td>\n",
       "      <td>0.1630</td>\n",
       "      <td>0.269</td>\n",
       "      <td>0.413</td>\n",
       "      <td>148.065</td>\n",
       "      <td>163147</td>\n",
       "    </tr>\n",
       "  </tbody>\n",
       "</table>\n",
       "</div>"
      ],
      "text/plain": [
       "                       id                        name  \\\n",
       "0  05Mp2UJulSttxQ4E6hQPH3              Ohne mein Team   \n",
       "1  4bHsxqR3GMrXTxEPLuK5ue        Don't Stop Believin'   \n",
       "2  3rdAz1fbUfZxYgaCviYhRo                  Todo De Ti   \n",
       "3  254bXAqt3zP6P50BdQvEsq  Everywhere - 2017 Remaster   \n",
       "4  2PGA1AsJal6cyMNmKyE56q                    200 km/h   \n",
       "\n",
       "                            album_name  \\\n",
       "0                   Palmen aus Plastik   \n",
       "1                               Escape   \n",
       "2                           VICE VERSA   \n",
       "3  Tango In the Night (Deluxe Edition)   \n",
       "4                               Platte   \n",
       "\n",
       "                                          artist_ids  danceability  energy  \\\n",
       "0  1aS5tqEs9ci5P9KD9tZWa6,0Dvx6p8JDyzeOPGmaCIH1L,...         0.766   0.800   \n",
       "1                             0rvjqX7ttXeg3mTy8Xscbt         0.500   0.748   \n",
       "2                             1mcTU81TzQhprhouKaTkpq         0.780   0.719   \n",
       "3                             08GQAI4eElDnROBrJRGE0X         0.730   0.487   \n",
       "4                             1qQLhymHXFPtP5U8KNKsm6         0.899   0.670   \n",
       "\n",
       "   speechiness  acousticness  valence    tempo  duration_ms  \n",
       "0       0.0938         0.160    0.635  129.999       188504  \n",
       "1       0.0363         0.127    0.514  118.852       250987  \n",
       "2       0.0506         0.302    0.336  127.962       199604  \n",
       "3       0.0303         0.258    0.731  114.965       226653  \n",
       "4       0.1630         0.269    0.413  148.065       163147  "
      ]
     },
     "execution_count": 9,
     "metadata": {},
     "output_type": "execute_result"
    }
   ],
   "source": [
    "tracks = pd.read_sql('tracks', con=engine)\n",
    "tracks.head()"
   ]
  },
  {
   "cell_type": "markdown",
   "metadata": {},
   "source": [
    "- ... and send arbitrary SQL queries to read data into a Pandas DataFrame"
   ]
  },
  {
   "cell_type": "code",
   "execution_count": 10,
   "metadata": {},
   "outputs": [
    {
     "data": {
      "text/html": [
       "<div>\n",
       "<style scoped>\n",
       "    .dataframe tbody tr th:only-of-type {\n",
       "        vertical-align: middle;\n",
       "    }\n",
       "\n",
       "    .dataframe tbody tr th {\n",
       "        vertical-align: top;\n",
       "    }\n",
       "\n",
       "    .dataframe thead th {\n",
       "        text-align: right;\n",
       "    }\n",
       "</style>\n",
       "<table border=\"1\" class=\"dataframe\">\n",
       "  <thead>\n",
       "    <tr style=\"text-align: right;\">\n",
       "      <th></th>\n",
       "      <th>name</th>\n",
       "      <th>album_name</th>\n",
       "      <th>danceability</th>\n",
       "    </tr>\n",
       "  </thead>\n",
       "  <tbody>\n",
       "    <tr>\n",
       "      <th>0</th>\n",
       "      <td>Pure Cocaine</td>\n",
       "      <td>Street Gossip</td>\n",
       "      <td>0.964</td>\n",
       "    </tr>\n",
       "    <tr>\n",
       "      <th>1</th>\n",
       "      <td>Yes Indeed</td>\n",
       "      <td>Harder Than Ever</td>\n",
       "      <td>0.963</td>\n",
       "    </tr>\n",
       "    <tr>\n",
       "      <th>2</th>\n",
       "      <td>Low Down</td>\n",
       "      <td>My Turn (Deluxe)</td>\n",
       "      <td>0.962</td>\n",
       "    </tr>\n",
       "    <tr>\n",
       "      <th>3</th>\n",
       "      <td>CAIRO</td>\n",
       "      <td>MAÑANA SERÁ BONITO</td>\n",
       "      <td>0.957</td>\n",
       "    </tr>\n",
       "    <tr>\n",
       "      <th>4</th>\n",
       "      <td>Starlight</td>\n",
       "      <td>Starlight</td>\n",
       "      <td>0.954</td>\n",
       "    </tr>\n",
       "  </tbody>\n",
       "</table>\n",
       "</div>"
      ],
      "text/plain": [
       "           name          album_name  danceability\n",
       "0  Pure Cocaine       Street Gossip         0.964\n",
       "1    Yes Indeed    Harder Than Ever         0.963\n",
       "2      Low Down    My Turn (Deluxe)         0.962\n",
       "3         CAIRO  MAÑANA SERÁ BONITO         0.957\n",
       "4     Starlight           Starlight         0.954"
      ]
     },
     "execution_count": 10,
     "metadata": {},
     "output_type": "execute_result"
    }
   ],
   "source": [
    "pd.read_sql('select name, album_name, danceability from tracks order by danceability desc limit 5', con=engine)"
   ]
  },
  {
   "cell_type": "code",
   "execution_count": 11,
   "metadata": {},
   "outputs": [
    {
     "data": {
      "text/html": [
       "<div>\n",
       "<style scoped>\n",
       "    .dataframe tbody tr th:only-of-type {\n",
       "        vertical-align: middle;\n",
       "    }\n",
       "\n",
       "    .dataframe tbody tr th {\n",
       "        vertical-align: top;\n",
       "    }\n",
       "\n",
       "    .dataframe thead th {\n",
       "        text-align: right;\n",
       "    }\n",
       "</style>\n",
       "<table border=\"1\" class=\"dataframe\">\n",
       "  <thead>\n",
       "    <tr style=\"text-align: right;\">\n",
       "      <th></th>\n",
       "      <th>count</th>\n",
       "      <th>avg</th>\n",
       "    </tr>\n",
       "  </thead>\n",
       "  <tbody>\n",
       "    <tr>\n",
       "      <th>0</th>\n",
       "      <td>792</td>\n",
       "      <td>0.695527</td>\n",
       "    </tr>\n",
       "  </tbody>\n",
       "</table>\n",
       "</div>"
      ],
      "text/plain": [
       "   count       avg\n",
       "0    792  0.695527"
      ]
     },
     "execution_count": 11,
     "metadata": {},
     "output_type": "execute_result"
    }
   ],
   "source": [
    "pd.read_sql('select count(*), avg(danceability) from tracks', con=engine)"
   ]
  },
  {
   "cell_type": "markdown",
   "metadata": {},
   "source": [
    "## 1.5 Delete database and clean up"
   ]
  },
  {
   "cell_type": "markdown",
   "metadata": {},
   "source": [
    "- Now we want to undo the previous steps, and clean up\n",
    "- Caution: this is irreversible!\n",
    "- First, we drop the newly created table \"tracks\" within our \"music\" database"
   ]
  },
  {
   "cell_type": "code",
   "execution_count": 10,
   "metadata": {},
   "outputs": [],
   "source": [
    "with engine.connect() as connection:\n",
    "    connection.execute(text(\"Drop table tracks\"))"
   ]
  },
  {
   "cell_type": "markdown",
   "metadata": {},
   "source": [
    "- Second, we drop the entire database \"music\""
   ]
  },
  {
   "cell_type": "code",
   "execution_count": 11,
   "metadata": {},
   "outputs": [],
   "source": [
    "connection_string = f\"{DIALECT}+{DRIVER}://{USER}:{PASSWORD}@{HOST}:{PORT}\"\n",
    "engine = create_engine(connection_string)\n",
    "with engine.connect() as connection:\n",
    "    connection.execute(text('DROP DATABASE music'))"
   ]
  },
  {
   "cell_type": "markdown",
   "metadata": {},
   "source": [
    "- To make sure that all open connections to the database are closed, we should explicitly close them at the end of the script"
   ]
  },
  {
   "cell_type": "code",
   "execution_count": 12,
   "metadata": {},
   "outputs": [],
   "source": [
    "engine.dispose()"
   ]
  }
 ],
 "metadata": {
  "kernelspec": {
   "display_name": ".venv",
   "language": "python",
   "name": "python3"
  },
  "language_info": {
   "codemirror_mode": {
    "name": "ipython",
    "version": 3
   },
   "file_extension": ".py",
   "mimetype": "text/x-python",
   "name": "python",
   "nbconvert_exporter": "python",
   "pygments_lexer": "ipython3",
   "version": "3.12.0"
  },
  "orig_nbformat": 4
 },
 "nbformat": 4,
 "nbformat_minor": 2
}
