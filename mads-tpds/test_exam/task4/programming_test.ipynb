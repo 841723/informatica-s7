{
 "cells": [
  {
   "cell_type": "markdown",
   "metadata": {},
   "source": [
    "# Instructions"
   ]
  },
  {
   "attachments": {},
   "cell_type": "markdown",
   "metadata": {},
   "source": [
    "This programming test is all about \"Olympic Games\". To solve all tasks you need the following 3 data files:\n",
    "\n",
    "- **summer.csv** contains information on the results at Olympic Summer Games in the years 2016 and 2020\n",
    "    - `year`: year of the Olympic Games (e.g. 2016)\n",
    "    - `location`: host city of the Olympic Games (e.g. Rio der Janeiro)\n",
    "    - `sport`: e.g. Athletics\n",
    "    - `discipline`: a sport may comprise multiple disciplines (e.g. 100 metres, Men)\n",
    "    - `athlete_id`: unique identifier for an athlete (e.g. 105512)\n",
    "    - `country`: country for which the athlete starts (e.g. Jamaica)\n",
    "    - `position`: position in the final ranking, if available (e.g. 1)\n",
    "    - `medal`: medal won, if any (e.g. Gold)\n",
    "    - `height`: registered height in meters (e.g. 1.96)\n",
    "    - `weight`: registered weight in kilograms (e.g. 95.0)\n",
    "- **winter.csv** contains the same information on the results at Winter Olympic Games in the years 2014 and 2018\n",
    "- **athletes.txt** contains additional information on the athletes\n",
    "    - `id`: unique identifier for an athlete (e.g. 105512)\n",
    "    - `name`: full name of the athlete (e.g. Bolt, Usain)\n",
    "    - `sex`: registered sex of the athlete (e.g. Male)\n",
    "\n",
    "**Note**: If you do not manage to prepare the full data set in exercises 2 and 3, then you may use the file **backup.csv** in exercises 4 and 5."
   ]
  },
  {
   "attachments": {},
   "cell_type": "markdown",
   "metadata": {},
   "source": [
    "# Exercise 1 (10 points)"
   ]
  },
  {
   "cell_type": "markdown",
   "metadata": {},
   "source": [
    "Import Packages here"
   ]
  },
  {
   "cell_type": "code",
   "execution_count": 2,
   "metadata": {},
   "outputs": [],
   "source": [
    "import pandas as pd"
   ]
  },
  {
   "cell_type": "markdown",
   "metadata": {},
   "source": [
    "Read in the data set `summer.csv`. Print the number of rows and columns and display the first five rows. "
   ]
  },
  {
   "cell_type": "markdown",
   "metadata": {},
   "source": [
    "Read in the data set `winter.csv`. Print the number of rows and columns and display the first five rows. "
   ]
  },
  {
   "attachments": {},
   "cell_type": "markdown",
   "metadata": {},
   "source": [
    "# Exercise 2 (20 points) \n",
    "Combine the two datasets (summer and winter) suitably into one large dataset containing the results of all Olympic Games. Then print the number of rows and columns of this combined data set"
   ]
  },
  {
   "cell_type": "code",
   "execution_count": 12,
   "metadata": {},
   "outputs": [
    {
     "name": "stdout",
     "output_type": "stream",
     "text": [
      "(37823, 10)\n"
     ]
    },
    {
     "data": {
      "text/html": [
       "<div>\n",
       "<style scoped>\n",
       "    .dataframe tbody tr th:only-of-type {\n",
       "        vertical-align: middle;\n",
       "    }\n",
       "\n",
       "    .dataframe tbody tr th {\n",
       "        vertical-align: top;\n",
       "    }\n",
       "\n",
       "    .dataframe thead th {\n",
       "        text-align: right;\n",
       "    }\n",
       "</style>\n",
       "<table border=\"1\" class=\"dataframe\">\n",
       "  <thead>\n",
       "    <tr style=\"text-align: right;\">\n",
       "      <th></th>\n",
       "      <th>year</th>\n",
       "      <th>location</th>\n",
       "      <th>sport</th>\n",
       "      <th>discipline</th>\n",
       "      <th>athlete_id</th>\n",
       "      <th>country</th>\n",
       "      <th>position</th>\n",
       "      <th>medal</th>\n",
       "      <th>height</th>\n",
       "      <th>weight</th>\n",
       "    </tr>\n",
       "  </thead>\n",
       "  <tbody>\n",
       "    <tr>\n",
       "      <th>0</th>\n",
       "      <td>2016</td>\n",
       "      <td>Rio de Janeiro</td>\n",
       "      <td>Archery</td>\n",
       "      <td>Individual, Men</td>\n",
       "      <td>134917</td>\n",
       "      <td>Republic of Korea</td>\n",
       "      <td>1.0</td>\n",
       "      <td>Gold</td>\n",
       "      <td>1.81</td>\n",
       "      <td>84.0</td>\n",
       "    </tr>\n",
       "    <tr>\n",
       "      <th>1</th>\n",
       "      <td>2016</td>\n",
       "      <td>Rio de Janeiro</td>\n",
       "      <td>Archery</td>\n",
       "      <td>Individual, Men</td>\n",
       "      <td>111548</td>\n",
       "      <td>France</td>\n",
       "      <td>2.0</td>\n",
       "      <td>Silver</td>\n",
       "      <td>1.80</td>\n",
       "      <td>83.0</td>\n",
       "    </tr>\n",
       "    <tr>\n",
       "      <th>2</th>\n",
       "      <td>2016</td>\n",
       "      <td>Rio de Janeiro</td>\n",
       "      <td>Archery</td>\n",
       "      <td>Individual, Men</td>\n",
       "      <td>111530</td>\n",
       "      <td>United States</td>\n",
       "      <td>3.0</td>\n",
       "      <td>Bronze</td>\n",
       "      <td>1.81</td>\n",
       "      <td>86.0</td>\n",
       "    </tr>\n",
       "    <tr>\n",
       "      <th>3</th>\n",
       "      <td>2016</td>\n",
       "      <td>Rio de Janeiro</td>\n",
       "      <td>Archery</td>\n",
       "      <td>Individual, Men</td>\n",
       "      <td>135226</td>\n",
       "      <td>Netherlands</td>\n",
       "      <td>4.0</td>\n",
       "      <td>NaN</td>\n",
       "      <td>1.83</td>\n",
       "      <td>75.0</td>\n",
       "    </tr>\n",
       "    <tr>\n",
       "      <th>4</th>\n",
       "      <td>2016</td>\n",
       "      <td>Rio de Janeiro</td>\n",
       "      <td>Archery</td>\n",
       "      <td>Individual, Men</td>\n",
       "      <td>121560</td>\n",
       "      <td>Australia</td>\n",
       "      <td>5.0</td>\n",
       "      <td>NaN</td>\n",
       "      <td>1.74</td>\n",
       "      <td>60.0</td>\n",
       "    </tr>\n",
       "  </tbody>\n",
       "</table>\n",
       "</div>"
      ],
      "text/plain": [
       "   year        location    sport       discipline  athlete_id  \\\n",
       "0  2016  Rio de Janeiro  Archery  Individual, Men      134917   \n",
       "1  2016  Rio de Janeiro  Archery  Individual, Men      111548   \n",
       "2  2016  Rio de Janeiro  Archery  Individual, Men      111530   \n",
       "3  2016  Rio de Janeiro  Archery  Individual, Men      135226   \n",
       "4  2016  Rio de Janeiro  Archery  Individual, Men      121560   \n",
       "\n",
       "             country position   medal  height  weight  \n",
       "0  Republic of Korea      1.0    Gold    1.81    84.0  \n",
       "1             France      2.0  Silver    1.80    83.0  \n",
       "2      United States      3.0  Bronze    1.81    86.0  \n",
       "3        Netherlands      4.0     NaN    1.83    75.0  \n",
       "4          Australia      5.0     NaN    1.74    60.0  "
      ]
     },
     "execution_count": 12,
     "metadata": {},
     "output_type": "execute_result"
    }
   ],
   "source": [
    "df_summer = pd.read_csv('summer.csv')\n",
    "df_winter = pd.read_csv('winter.csv')\n",
    "\n",
    "df_results = pd.concat(objs=[df_summer,df_winter])\n",
    "print(df_results.shape)\n",
    "df_results.head()"
   ]
  },
  {
   "cell_type": "markdown",
   "metadata": {},
   "source": [
    "How many missing values does the column `height` have?"
   ]
  },
  {
   "cell_type": "code",
   "execution_count": 7,
   "metadata": {},
   "outputs": [
    {
     "data": {
      "text/plain": [
       "np.int64(8225)"
      ]
     },
     "execution_count": 7,
     "metadata": {},
     "output_type": "execute_result"
    }
   ],
   "source": [
    "df_results.height.isna().sum()"
   ]
  },
  {
   "cell_type": "markdown",
   "metadata": {},
   "source": [
    "How many different athletes are contained in the data set?  \n",
    "**Note**: A given athlete may be present multiple times in the data set, if he or she particpates at multiple Olympic Games, sports or disciplines. Count each athlete only once. "
   ]
  },
  {
   "cell_type": "code",
   "execution_count": 17,
   "metadata": {},
   "outputs": [
    {
     "data": {
      "text/plain": [
       "np.int64(23048)"
      ]
     },
     "execution_count": 17,
     "metadata": {},
     "output_type": "execute_result"
    }
   ],
   "source": [
    "df_results.athlete_id.drop_duplicates().notna().sum()"
   ]
  },
  {
   "attachments": {},
   "cell_type": "markdown",
   "metadata": {},
   "source": [
    "# Exercise 3 (30 points)"
   ]
  },
  {
   "cell_type": "markdown",
   "metadata": {},
   "source": [
    "Read in the file `athletes.txt` and print the first five rows."
   ]
  },
  {
   "cell_type": "code",
   "execution_count": 19,
   "metadata": {},
   "outputs": [
    {
     "data": {
      "text/html": [
       "<div>\n",
       "<style scoped>\n",
       "    .dataframe tbody tr th:only-of-type {\n",
       "        vertical-align: middle;\n",
       "    }\n",
       "\n",
       "    .dataframe tbody tr th {\n",
       "        vertical-align: top;\n",
       "    }\n",
       "\n",
       "    .dataframe thead th {\n",
       "        text-align: right;\n",
       "    }\n",
       "</style>\n",
       "<table border=\"1\" class=\"dataframe\">\n",
       "  <thead>\n",
       "    <tr style=\"text-align: right;\">\n",
       "      <th></th>\n",
       "      <th>id</th>\n",
       "      <th>name</th>\n",
       "      <th>sex</th>\n",
       "    </tr>\n",
       "  </thead>\n",
       "  <tbody>\n",
       "    <tr>\n",
       "      <th>0</th>\n",
       "      <td>7</td>\n",
       "      <td>Chila, Patrick</td>\n",
       "      <td>Male</td>\n",
       "    </tr>\n",
       "    <tr>\n",
       "      <th>1</th>\n",
       "      <td>15</td>\n",
       "      <td>Éloi, Damien</td>\n",
       "      <td>Male</td>\n",
       "    </tr>\n",
       "    <tr>\n",
       "      <th>2</th>\n",
       "      <td>18</td>\n",
       "      <td>Gatien, Jean-Philippe</td>\n",
       "      <td>Male</td>\n",
       "    </tr>\n",
       "    <tr>\n",
       "      <th>3</th>\n",
       "      <td>27</td>\n",
       "      <td>Legoût, Christophe</td>\n",
       "      <td>Male</td>\n",
       "    </tr>\n",
       "    <tr>\n",
       "      <th>4</th>\n",
       "      <td>35</td>\n",
       "      <td>Santoro, Fabrice</td>\n",
       "      <td>Male</td>\n",
       "    </tr>\n",
       "  </tbody>\n",
       "</table>\n",
       "</div>"
      ],
      "text/plain": [
       "   id                   name   sex\n",
       "0   7         Chila, Patrick  Male\n",
       "1  15           Éloi, Damien  Male\n",
       "2  18  Gatien, Jean-Philippe  Male\n",
       "3  27     Legoût, Christophe  Male\n",
       "4  35       Santoro, Fabrice  Male"
      ]
     },
     "execution_count": 19,
     "metadata": {},
     "output_type": "execute_result"
    }
   ],
   "source": [
    "df_athletes = pd.read_table('athletes.txt',delimiter=';')\n",
    "df_athletes.head(5)"
   ]
  },
  {
   "cell_type": "markdown",
   "metadata": {},
   "source": [
    "Merge the athletes data set with the results data set from above **using an outer merge**. Then report on the sources of your merged dataset:\n",
    "\n",
    "- how many rows contain information from both data sources?\n",
    "- how many rows contain only information from the athletes data set?\n",
    "- how many rows contain only information from the results data set?"
   ]
  },
  {
   "cell_type": "code",
   "execution_count": 30,
   "metadata": {},
   "outputs": [
    {
     "name": "stdout",
     "output_type": "stream",
     "text": [
      "37823\n",
      "31015\n",
      "0\n",
      "68838\n"
     ]
    }
   ],
   "source": [
    "df = pd.merge(left=df_results, left_on='athlete_id', right=df_athletes, right_on='id', how='outer')\n",
    "print(df[(df.athlete_id.notna())&(df.id.notna())].shape[0])\n",
    "print(df[(df.athlete_id.isna())&(df.id.notna())].shape[0])\n",
    "print(df[(df.athlete_id.notna())&(df.id.isna())].shape[0])\n",
    "print(df.shape[0])"
   ]
  },
  {
   "cell_type": "markdown",
   "metadata": {},
   "source": [
    "Explain (using the following markdown cell) whether the outer merge or some other merge type is an appropriate choice here?  \n",
    "**Note:** in the following exercises we want to analyse the results of the Olympic Games between 2014 and 2020, considering also aspects such as the sex and names of the participants."
   ]
  },
  {
   "cell_type": "markdown",
   "metadata": {},
   "source": []
  },
  {
   "cell_type": "markdown",
   "metadata": {},
   "source": [
    "If applicable, carry out the merge again using a more appropriate merge type. Print the rows and colums of the merged data set."
   ]
  },
  {
   "cell_type": "code",
   "execution_count": 31,
   "metadata": {},
   "outputs": [],
   "source": [
    "df = pd.merge(left=df_results, left_on='athlete_id', right=df_athletes, right_on='id', how='left')"
   ]
  },
  {
   "attachments": {},
   "cell_type": "markdown",
   "metadata": {},
   "source": [
    "# Exercise 4 (20 points)"
   ]
  },
  {
   "cell_type": "markdown",
   "metadata": {},
   "source": [
    "Create a new column bmi that contains the athlete’s body mass index (bmi). The BMI is defined as weight (in kg) divided by the square of the body height (in m). Note that a BMI of 18.5 - 25 is considered normal.     "
   ]
  },
  {
   "cell_type": "code",
   "execution_count": 36,
   "metadata": {},
   "outputs": [],
   "source": [
    "df['bmi'] = df.weight / df.height**2"
   ]
  },
  {
   "cell_type": "markdown",
   "metadata": {},
   "source": [
    "For the male athletes, calculate the average body mass index per `sport`. Display the 5 sports with the lowest average bmi.\n",
    "**Note**: you can ignore missing values for this task"
   ]
  },
  {
   "cell_type": "code",
   "execution_count": 35,
   "metadata": {},
   "outputs": [
    {
     "name": "stdout",
     "output_type": "stream",
     "text": [
      "The sports are Skateboarding, Ski Jumping, Artistic Gymnastics, Trampolining, Nordic Combined\n"
     ]
    }
   ],
   "source": [
    "l = df[df.sex=='Male'].groupby('sport').weight.mean(numeric_only=True).nsmallest(5)\n",
    "print(f\"The sports are {\", \".join(l.index.to_list())}\")"
   ]
  },
  {
   "cell_type": "markdown",
   "metadata": {},
   "source": [
    "A body mass index between 18.5 and 24.9 is considered as normal (neither underweight nor overweight). What percentage of rows exhibit a normal body mass index? "
   ]
  },
  {
   "cell_type": "code",
   "execution_count": 48,
   "metadata": {},
   "outputs": [
    {
     "data": {
      "text/plain": [
       "0.7711265140376672"
      ]
     },
     "execution_count": 48,
     "metadata": {},
     "output_type": "execute_result"
    }
   ],
   "source": [
    "df[(df.bmi >= 18.5) & (df.bmi <= 24.9)].shape[0] / df[df.bmi.notna()].shape[0]"
   ]
  },
  {
   "attachments": {},
   "cell_type": "markdown",
   "metadata": {},
   "source": [
    "# Exercise 5 (30 points)"
   ]
  },
  {
   "cell_type": "markdown",
   "metadata": {},
   "source": [
    "The German Biathlon athlete Erik Lesser (`athlete_id` = 127808) participated 12 times, at multiple Olympic Games and disciplines. Print the average position that he achieved."
   ]
  },
  {
   "cell_type": "code",
   "execution_count": 51,
   "metadata": {},
   "outputs": [
    {
     "data": {
      "text/plain": [
       "np.float64(12.25)"
      ]
     },
     "execution_count": 51,
     "metadata": {},
     "output_type": "execute_result"
    }
   ],
   "source": [
    "df.position = pd.to_numeric(df.position, errors='coerce')\n",
    "df[df.athlete_id==127808].position.mean()"
   ]
  },
  {
   "cell_type": "markdown",
   "metadata": {},
   "source": [
    "Based on the `name` column create a `firstname` and a `lastname` column and add them permanently to the data set. Display the first five rows of the dataset."
   ]
  },
  {
   "cell_type": "code",
   "execution_count": 55,
   "metadata": {},
   "outputs": [
    {
     "data": {
      "text/html": [
       "<div>\n",
       "<style scoped>\n",
       "    .dataframe tbody tr th:only-of-type {\n",
       "        vertical-align: middle;\n",
       "    }\n",
       "\n",
       "    .dataframe tbody tr th {\n",
       "        vertical-align: top;\n",
       "    }\n",
       "\n",
       "    .dataframe thead th {\n",
       "        text-align: right;\n",
       "    }\n",
       "</style>\n",
       "<table border=\"1\" class=\"dataframe\">\n",
       "  <thead>\n",
       "    <tr style=\"text-align: right;\">\n",
       "      <th></th>\n",
       "      <th>year</th>\n",
       "      <th>location</th>\n",
       "      <th>sport</th>\n",
       "      <th>discipline</th>\n",
       "      <th>athlete_id</th>\n",
       "      <th>country</th>\n",
       "      <th>position</th>\n",
       "      <th>medal</th>\n",
       "      <th>height</th>\n",
       "      <th>weight</th>\n",
       "      <th>id</th>\n",
       "      <th>name</th>\n",
       "      <th>sex</th>\n",
       "      <th>bmi</th>\n",
       "      <th>firstname</th>\n",
       "      <th>lastname</th>\n",
       "    </tr>\n",
       "  </thead>\n",
       "  <tbody>\n",
       "    <tr>\n",
       "      <th>0</th>\n",
       "      <td>2016</td>\n",
       "      <td>Rio de Janeiro</td>\n",
       "      <td>Archery</td>\n",
       "      <td>Individual, Men</td>\n",
       "      <td>134917</td>\n",
       "      <td>Republic of Korea</td>\n",
       "      <td>1.0</td>\n",
       "      <td>Gold</td>\n",
       "      <td>1.81</td>\n",
       "      <td>84.0</td>\n",
       "      <td>134917</td>\n",
       "      <td>Bon-Chan, Gu</td>\n",
       "      <td>Male</td>\n",
       "      <td>25.640243</td>\n",
       "      <td>Bon-Chan</td>\n",
       "      <td>Gu</td>\n",
       "    </tr>\n",
       "    <tr>\n",
       "      <th>1</th>\n",
       "      <td>2016</td>\n",
       "      <td>Rio de Janeiro</td>\n",
       "      <td>Archery</td>\n",
       "      <td>Individual, Men</td>\n",
       "      <td>111548</td>\n",
       "      <td>France</td>\n",
       "      <td>2.0</td>\n",
       "      <td>Silver</td>\n",
       "      <td>1.80</td>\n",
       "      <td>83.0</td>\n",
       "      <td>111548</td>\n",
       "      <td>Valladont, Jean-Charles</td>\n",
       "      <td>Male</td>\n",
       "      <td>25.617284</td>\n",
       "      <td>Valladont</td>\n",
       "      <td>Jean-Charles</td>\n",
       "    </tr>\n",
       "    <tr>\n",
       "      <th>2</th>\n",
       "      <td>2016</td>\n",
       "      <td>Rio de Janeiro</td>\n",
       "      <td>Archery</td>\n",
       "      <td>Individual, Men</td>\n",
       "      <td>111530</td>\n",
       "      <td>United States</td>\n",
       "      <td>3.0</td>\n",
       "      <td>Bronze</td>\n",
       "      <td>1.81</td>\n",
       "      <td>86.0</td>\n",
       "      <td>111530</td>\n",
       "      <td>Ellison, Brady</td>\n",
       "      <td>Male</td>\n",
       "      <td>26.250725</td>\n",
       "      <td>Ellison</td>\n",
       "      <td>Brady</td>\n",
       "    </tr>\n",
       "    <tr>\n",
       "      <th>3</th>\n",
       "      <td>2016</td>\n",
       "      <td>Rio de Janeiro</td>\n",
       "      <td>Archery</td>\n",
       "      <td>Individual, Men</td>\n",
       "      <td>135226</td>\n",
       "      <td>Netherlands</td>\n",
       "      <td>4.0</td>\n",
       "      <td>NaN</td>\n",
       "      <td>1.83</td>\n",
       "      <td>75.0</td>\n",
       "      <td>135226</td>\n",
       "      <td>van den Berg, Sjef</td>\n",
       "      <td>Male</td>\n",
       "      <td>22.395413</td>\n",
       "      <td>van den Berg</td>\n",
       "      <td>Sjef</td>\n",
       "    </tr>\n",
       "    <tr>\n",
       "      <th>4</th>\n",
       "      <td>2016</td>\n",
       "      <td>Rio de Janeiro</td>\n",
       "      <td>Archery</td>\n",
       "      <td>Individual, Men</td>\n",
       "      <td>121560</td>\n",
       "      <td>Australia</td>\n",
       "      <td>5.0</td>\n",
       "      <td>NaN</td>\n",
       "      <td>1.74</td>\n",
       "      <td>60.0</td>\n",
       "      <td>121560</td>\n",
       "      <td>Worth, Taylor</td>\n",
       "      <td>Male</td>\n",
       "      <td>19.817677</td>\n",
       "      <td>Worth</td>\n",
       "      <td>Taylor</td>\n",
       "    </tr>\n",
       "  </tbody>\n",
       "</table>\n",
       "</div>"
      ],
      "text/plain": [
       "   year        location    sport       discipline  athlete_id  \\\n",
       "0  2016  Rio de Janeiro  Archery  Individual, Men      134917   \n",
       "1  2016  Rio de Janeiro  Archery  Individual, Men      111548   \n",
       "2  2016  Rio de Janeiro  Archery  Individual, Men      111530   \n",
       "3  2016  Rio de Janeiro  Archery  Individual, Men      135226   \n",
       "4  2016  Rio de Janeiro  Archery  Individual, Men      121560   \n",
       "\n",
       "             country  position   medal  height  weight      id  \\\n",
       "0  Republic of Korea       1.0    Gold    1.81    84.0  134917   \n",
       "1             France       2.0  Silver    1.80    83.0  111548   \n",
       "2      United States       3.0  Bronze    1.81    86.0  111530   \n",
       "3        Netherlands       4.0     NaN    1.83    75.0  135226   \n",
       "4          Australia       5.0     NaN    1.74    60.0  121560   \n",
       "\n",
       "                      name   sex        bmi     firstname       lastname  \n",
       "0             Bon-Chan, Gu  Male  25.640243      Bon-Chan             Gu  \n",
       "1  Valladont, Jean-Charles  Male  25.617284     Valladont   Jean-Charles  \n",
       "2           Ellison, Brady  Male  26.250725       Ellison          Brady  \n",
       "3       van den Berg, Sjef  Male  22.395413  van den Berg           Sjef  \n",
       "4            Worth, Taylor  Male  19.817677         Worth         Taylor  "
      ]
     },
     "execution_count": 55,
     "metadata": {},
     "output_type": "execute_result"
    }
   ],
   "source": [
    "df[['firstname','lastname']] = df.name.str.split(',',n=1,expand=True)\n",
    "df.head(5)"
   ]
  },
  {
   "cell_type": "markdown",
   "metadata": {},
   "source": [
    "What are the 10 most common firstnames in Austria, Denmark, Germany, and Switzerland?  \n",
    "**Note**: create an overall ranking, not one ranking per country"
   ]
  },
  {
   "cell_type": "code",
   "execution_count": 64,
   "metadata": {},
   "outputs": [
    {
     "data": {
      "text/plain": [
       "firstname\n",
       "Gasparin    25\n",
       "Müller      21\n",
       "Baumann     21\n",
       "Hansen      18\n",
       "Schwarz     15\n",
       "Toba        14\n",
       "Yusof       14\n",
       "Brägger     14\n",
       "Nielsen     14\n",
       "Lesser      12\n",
       "Name: count, dtype: int64"
      ]
     },
     "execution_count": 64,
     "metadata": {},
     "output_type": "execute_result"
    }
   ],
   "source": [
    "country_list = ['Austria','Denmark','Germany','Switzerland']\n",
    "df[df.country.isin(country_list)].value_counts('firstname').head(10)"
   ]
  },
  {
   "cell_type": "code",
   "execution_count": null,
   "metadata": {},
   "outputs": [],
   "source": []
  }
 ],
 "metadata": {
  "kernelspec": {
   "display_name": ".venv",
   "language": "python",
   "name": "python3"
  },
  "language_info": {
   "codemirror_mode": {
    "name": "ipython",
    "version": 3
   },
   "file_extension": ".py",
   "mimetype": "text/x-python",
   "name": "python",
   "nbconvert_exporter": "python",
   "pygments_lexer": "ipython3",
   "version": "3.12.0"
  }
 },
 "nbformat": 4,
 "nbformat_minor": 4
}
