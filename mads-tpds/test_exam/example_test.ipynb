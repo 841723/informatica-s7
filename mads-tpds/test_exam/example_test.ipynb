{
 "cells": [
  {
   "cell_type": "markdown",
   "metadata": {},
   "source": [
    "# Instructions"
   ]
  },
  {
   "attachments": {},
   "cell_type": "markdown",
   "metadata": {},
   "source": [
    "This programming test is all about \"Olympic Games\". To solve all tasks you need the following 3 data files:\n",
    "\n",
    "- **summer.csv** contains information on the results at Olympic Summer Games in the years 2016 and 2020\n",
    "    - `year`: year of the Olympic Games (e.g. 2016)\n",
    "    - `location`: host city of the Olympic Games (e.g. Rio der Janeiro)\n",
    "    - `sport`: e.g. Athletics\n",
    "    - `discipline`: a sport may comprise multiple disciplines (e.g. 100 metres, Men)\n",
    "    - `athlete_id`: unique identifier for an athlete (e.g. 105512)\n",
    "    - `country`: country for which the athlete starts (e.g. Jamaica)\n",
    "    - `position`: position in the final ranking, if available (e.g. 1)\n",
    "    - `medal`: medal won, if any (e.g. Gold)\n",
    "    - `height`: registered height in meters (e.g. 1.96)\n",
    "    - `weight`: registered weight in kilograms (e.g. 95.0)\n",
    "- **winter.csv** contains the same information on the results at Winter Olympic Games in the years 2014 and 2018\n",
    "- **athletes.txt** contains additional information on the athletes\n",
    "    - `id`: unique identifier for an athlete (e.g. 105512)\n",
    "    - `name`: full name of the athlete (e.g. Bolt, Usain)\n",
    "    - `sex`: registered sex of the athlete (e.g. Male)\n",
    "\n",
    "**Note**: If you do not manage to prepare the full data set in exercises 2 and 3, then you may use the file **backup.csv** in exercises 4 and 5."
   ]
  },
  {
   "attachments": {},
   "cell_type": "markdown",
   "metadata": {},
   "source": [
    "# Exercise 1 (10 points)"
   ]
  },
  {
   "cell_type": "markdown",
   "metadata": {},
   "source": [
    "Import Packages here"
   ]
  },
  {
   "cell_type": "code",
   "execution_count": 1,
   "metadata": {},
   "outputs": [],
   "source": [
    "import pandas as pd\n",
    "import numpy as np"
   ]
  },
  {
   "cell_type": "markdown",
   "metadata": {},
   "source": [
    "Read in the data set `summer.csv`. Print the number of rows and columns and display the first five rows. "
   ]
  },
  {
   "cell_type": "code",
   "execution_count": 2,
   "metadata": {},
   "outputs": [
    {
     "name": "stdout",
     "output_type": "stream",
     "text": [
      "Number of rows: 27729, columns: 10\n"
     ]
    },
    {
     "data": {
      "text/html": [
       "<div>\n",
       "<style scoped>\n",
       "    .dataframe tbody tr th:only-of-type {\n",
       "        vertical-align: middle;\n",
       "    }\n",
       "\n",
       "    .dataframe tbody tr th {\n",
       "        vertical-align: top;\n",
       "    }\n",
       "\n",
       "    .dataframe thead th {\n",
       "        text-align: right;\n",
       "    }\n",
       "</style>\n",
       "<table border=\"1\" class=\"dataframe\">\n",
       "  <thead>\n",
       "    <tr style=\"text-align: right;\">\n",
       "      <th></th>\n",
       "      <th>year</th>\n",
       "      <th>location</th>\n",
       "      <th>sport</th>\n",
       "      <th>discipline</th>\n",
       "      <th>athlete_id</th>\n",
       "      <th>country</th>\n",
       "      <th>position</th>\n",
       "      <th>medal</th>\n",
       "      <th>height</th>\n",
       "      <th>weight</th>\n",
       "    </tr>\n",
       "  </thead>\n",
       "  <tbody>\n",
       "    <tr>\n",
       "      <th>0</th>\n",
       "      <td>2016</td>\n",
       "      <td>Rio de Janeiro</td>\n",
       "      <td>Archery</td>\n",
       "      <td>Individual, Men</td>\n",
       "      <td>134917</td>\n",
       "      <td>Republic of Korea</td>\n",
       "      <td>1.0</td>\n",
       "      <td>Gold</td>\n",
       "      <td>1.81</td>\n",
       "      <td>84.0</td>\n",
       "    </tr>\n",
       "    <tr>\n",
       "      <th>1</th>\n",
       "      <td>2016</td>\n",
       "      <td>Rio de Janeiro</td>\n",
       "      <td>Archery</td>\n",
       "      <td>Individual, Men</td>\n",
       "      <td>111548</td>\n",
       "      <td>France</td>\n",
       "      <td>2.0</td>\n",
       "      <td>Silver</td>\n",
       "      <td>1.80</td>\n",
       "      <td>83.0</td>\n",
       "    </tr>\n",
       "    <tr>\n",
       "      <th>2</th>\n",
       "      <td>2016</td>\n",
       "      <td>Rio de Janeiro</td>\n",
       "      <td>Archery</td>\n",
       "      <td>Individual, Men</td>\n",
       "      <td>111530</td>\n",
       "      <td>United States</td>\n",
       "      <td>3.0</td>\n",
       "      <td>Bronze</td>\n",
       "      <td>1.81</td>\n",
       "      <td>86.0</td>\n",
       "    </tr>\n",
       "    <tr>\n",
       "      <th>3</th>\n",
       "      <td>2016</td>\n",
       "      <td>Rio de Janeiro</td>\n",
       "      <td>Archery</td>\n",
       "      <td>Individual, Men</td>\n",
       "      <td>135226</td>\n",
       "      <td>Netherlands</td>\n",
       "      <td>4.0</td>\n",
       "      <td>NaN</td>\n",
       "      <td>1.83</td>\n",
       "      <td>75.0</td>\n",
       "    </tr>\n",
       "    <tr>\n",
       "      <th>4</th>\n",
       "      <td>2016</td>\n",
       "      <td>Rio de Janeiro</td>\n",
       "      <td>Archery</td>\n",
       "      <td>Individual, Men</td>\n",
       "      <td>121560</td>\n",
       "      <td>Australia</td>\n",
       "      <td>5.0</td>\n",
       "      <td>NaN</td>\n",
       "      <td>1.74</td>\n",
       "      <td>60.0</td>\n",
       "    </tr>\n",
       "  </tbody>\n",
       "</table>\n",
       "</div>"
      ],
      "text/plain": [
       "   year        location    sport       discipline  athlete_id  \\\n",
       "0  2016  Rio de Janeiro  Archery  Individual, Men      134917   \n",
       "1  2016  Rio de Janeiro  Archery  Individual, Men      111548   \n",
       "2  2016  Rio de Janeiro  Archery  Individual, Men      111530   \n",
       "3  2016  Rio de Janeiro  Archery  Individual, Men      135226   \n",
       "4  2016  Rio de Janeiro  Archery  Individual, Men      121560   \n",
       "\n",
       "             country position   medal  height  weight  \n",
       "0  Republic of Korea      1.0    Gold    1.81    84.0  \n",
       "1             France      2.0  Silver    1.80    83.0  \n",
       "2      United States      3.0  Bronze    1.81    86.0  \n",
       "3        Netherlands      4.0     NaN    1.83    75.0  \n",
       "4          Australia      5.0     NaN    1.74    60.0  "
      ]
     },
     "execution_count": 2,
     "metadata": {},
     "output_type": "execute_result"
    }
   ],
   "source": [
    "df_summer = pd.read_csv(\"summer.csv\")\n",
    "print(f'Number of rows: {df_summer.shape[0]}, columns: {df_summer.shape[1]}')\n",
    "df_summer.head(5)"
   ]
  },
  {
   "cell_type": "markdown",
   "metadata": {},
   "source": [
    "- Read in the data set `winter.csv`. Print the number of rows and columns and display the first five rows. "
   ]
  },
  {
   "cell_type": "code",
   "execution_count": 3,
   "metadata": {},
   "outputs": [
    {
     "name": "stdout",
     "output_type": "stream",
     "text": [
      "Number of rows: 10094, columns: 10\n"
     ]
    },
    {
     "data": {
      "text/html": [
       "<div>\n",
       "<style scoped>\n",
       "    .dataframe tbody tr th:only-of-type {\n",
       "        vertical-align: middle;\n",
       "    }\n",
       "\n",
       "    .dataframe tbody tr th {\n",
       "        vertical-align: top;\n",
       "    }\n",
       "\n",
       "    .dataframe thead th {\n",
       "        text-align: right;\n",
       "    }\n",
       "</style>\n",
       "<table border=\"1\" class=\"dataframe\">\n",
       "  <thead>\n",
       "    <tr style=\"text-align: right;\">\n",
       "      <th></th>\n",
       "      <th>year</th>\n",
       "      <th>location</th>\n",
       "      <th>sport</th>\n",
       "      <th>discipline</th>\n",
       "      <th>athlete_id</th>\n",
       "      <th>country</th>\n",
       "      <th>position</th>\n",
       "      <th>medal</th>\n",
       "      <th>height</th>\n",
       "      <th>weight</th>\n",
       "    </tr>\n",
       "  </thead>\n",
       "  <tbody>\n",
       "    <tr>\n",
       "      <th>0</th>\n",
       "      <td>2014</td>\n",
       "      <td>Sochi</td>\n",
       "      <td>Alpine Skiing</td>\n",
       "      <td>Combined, Men</td>\n",
       "      <td>118461</td>\n",
       "      <td>Switzerland</td>\n",
       "      <td>1.0</td>\n",
       "      <td>Gold</td>\n",
       "      <td>1.77</td>\n",
       "      <td>77.0</td>\n",
       "    </tr>\n",
       "    <tr>\n",
       "      <th>1</th>\n",
       "      <td>2014</td>\n",
       "      <td>Sochi</td>\n",
       "      <td>Alpine Skiing</td>\n",
       "      <td>Combined, Men</td>\n",
       "      <td>101791</td>\n",
       "      <td>Croatia</td>\n",
       "      <td>2.0</td>\n",
       "      <td>Silver</td>\n",
       "      <td>1.82</td>\n",
       "      <td>88.0</td>\n",
       "    </tr>\n",
       "    <tr>\n",
       "      <th>2</th>\n",
       "      <td>2014</td>\n",
       "      <td>Sochi</td>\n",
       "      <td>Alpine Skiing</td>\n",
       "      <td>Combined, Men</td>\n",
       "      <td>118341</td>\n",
       "      <td>Italy</td>\n",
       "      <td>3.0</td>\n",
       "      <td>Bronze</td>\n",
       "      <td>1.86</td>\n",
       "      <td>90.0</td>\n",
       "    </tr>\n",
       "    <tr>\n",
       "      <th>3</th>\n",
       "      <td>2014</td>\n",
       "      <td>Sochi</td>\n",
       "      <td>Alpine Skiing</td>\n",
       "      <td>Combined, Men</td>\n",
       "      <td>110097</td>\n",
       "      <td>Norway</td>\n",
       "      <td>4.0</td>\n",
       "      <td>NaN</td>\n",
       "      <td>1.85</td>\n",
       "      <td>83.0</td>\n",
       "    </tr>\n",
       "    <tr>\n",
       "      <th>4</th>\n",
       "      <td>2014</td>\n",
       "      <td>Sochi</td>\n",
       "      <td>Alpine Skiing</td>\n",
       "      <td>Combined, Men</td>\n",
       "      <td>128551</td>\n",
       "      <td>Slovakia</td>\n",
       "      <td>5.0</td>\n",
       "      <td>NaN</td>\n",
       "      <td>1.78</td>\n",
       "      <td>80.0</td>\n",
       "    </tr>\n",
       "  </tbody>\n",
       "</table>\n",
       "</div>"
      ],
      "text/plain": [
       "   year location          sport     discipline  athlete_id      country  \\\n",
       "0  2014    Sochi  Alpine Skiing  Combined, Men      118461  Switzerland   \n",
       "1  2014    Sochi  Alpine Skiing  Combined, Men      101791      Croatia   \n",
       "2  2014    Sochi  Alpine Skiing  Combined, Men      118341        Italy   \n",
       "3  2014    Sochi  Alpine Skiing  Combined, Men      110097       Norway   \n",
       "4  2014    Sochi  Alpine Skiing  Combined, Men      128551     Slovakia   \n",
       "\n",
       "  position   medal  height  weight  \n",
       "0      1.0    Gold    1.77    77.0  \n",
       "1      2.0  Silver    1.82    88.0  \n",
       "2      3.0  Bronze    1.86    90.0  \n",
       "3      4.0     NaN    1.85    83.0  \n",
       "4      5.0     NaN    1.78    80.0  "
      ]
     },
     "execution_count": 3,
     "metadata": {},
     "output_type": "execute_result"
    }
   ],
   "source": [
    "df_winter = pd.read_csv(\"winter.csv\")\n",
    "print(f'Number of rows: {df_winter.shape[0]}, columns: {df_winter.shape[1]}')\n",
    "df_winter.head(5)"
   ]
  },
  {
   "attachments": {},
   "cell_type": "markdown",
   "metadata": {},
   "source": [
    "# Exercise 2 (20 points) \n",
    "Combine the two datasets (summer and winter) suitably into one large dataset containing the results of all Olympic Games. Then print the number of rows and columns of this combined data set"
   ]
  },
  {
   "cell_type": "code",
   "execution_count": 4,
   "metadata": {},
   "outputs": [
    {
     "name": "stdout",
     "output_type": "stream",
     "text": [
      "Number of rows: 37823, columns: 10\n"
     ]
    }
   ],
   "source": [
    "df_olympics = pd.concat(objs=[df_summer, df_winter], ignore_index=True, )\n",
    "df_olympics.drop_duplicates()\n",
    "print(f'Number of rows: {df_olympics.shape[0]}, columns: {df_olympics.shape[1]}')"
   ]
  },
  {
   "cell_type": "markdown",
   "metadata": {},
   "source": [
    "How many missing values does the column `height` have?"
   ]
  },
  {
   "cell_type": "code",
   "execution_count": 5,
   "metadata": {},
   "outputs": [
    {
     "data": {
      "text/plain": [
       "np.int64(8225)"
      ]
     },
     "execution_count": 5,
     "metadata": {},
     "output_type": "execute_result"
    }
   ],
   "source": [
    "df_olympics.height.isnull().sum()"
   ]
  },
  {
   "cell_type": "markdown",
   "metadata": {},
   "source": [
    "How many different athletes are contained in the data set?  \n",
    "**Note**: A given athlete may be present multiple times in the data set, if he or she particpates at multiple Olympic Games, sports or disciplines. Count each athlete only once. "
   ]
  },
  {
   "cell_type": "code",
   "execution_count": 6,
   "metadata": {},
   "outputs": [
    {
     "data": {
      "text/plain": [
       "23048"
      ]
     },
     "execution_count": 6,
     "metadata": {},
     "output_type": "execute_result"
    }
   ],
   "source": [
    "df_olympics.athlete_id.nunique()"
   ]
  },
  {
   "attachments": {},
   "cell_type": "markdown",
   "metadata": {},
   "source": [
    "# Exercise 3 (25 points)"
   ]
  },
  {
   "cell_type": "markdown",
   "metadata": {},
   "source": [
    "Read in the file `athletes.txt` and print the first five rows."
   ]
  },
  {
   "cell_type": "code",
   "execution_count": 7,
   "metadata": {},
   "outputs": [
    {
     "data": {
      "text/html": [
       "<div>\n",
       "<style scoped>\n",
       "    .dataframe tbody tr th:only-of-type {\n",
       "        vertical-align: middle;\n",
       "    }\n",
       "\n",
       "    .dataframe tbody tr th {\n",
       "        vertical-align: top;\n",
       "    }\n",
       "\n",
       "    .dataframe thead th {\n",
       "        text-align: right;\n",
       "    }\n",
       "</style>\n",
       "<table border=\"1\" class=\"dataframe\">\n",
       "  <thead>\n",
       "    <tr style=\"text-align: right;\">\n",
       "      <th></th>\n",
       "      <th>id</th>\n",
       "      <th>name</th>\n",
       "      <th>sex</th>\n",
       "    </tr>\n",
       "  </thead>\n",
       "  <tbody>\n",
       "    <tr>\n",
       "      <th>0</th>\n",
       "      <td>7</td>\n",
       "      <td>Chila, Patrick</td>\n",
       "      <td>Male</td>\n",
       "    </tr>\n",
       "    <tr>\n",
       "      <th>1</th>\n",
       "      <td>15</td>\n",
       "      <td>Éloi, Damien</td>\n",
       "      <td>Male</td>\n",
       "    </tr>\n",
       "    <tr>\n",
       "      <th>2</th>\n",
       "      <td>18</td>\n",
       "      <td>Gatien, Jean-Philippe</td>\n",
       "      <td>Male</td>\n",
       "    </tr>\n",
       "    <tr>\n",
       "      <th>3</th>\n",
       "      <td>27</td>\n",
       "      <td>Legoût, Christophe</td>\n",
       "      <td>Male</td>\n",
       "    </tr>\n",
       "    <tr>\n",
       "      <th>4</th>\n",
       "      <td>35</td>\n",
       "      <td>Santoro, Fabrice</td>\n",
       "      <td>Male</td>\n",
       "    </tr>\n",
       "  </tbody>\n",
       "</table>\n",
       "</div>"
      ],
      "text/plain": [
       "   id                   name   sex\n",
       "0   7         Chila, Patrick  Male\n",
       "1  15           Éloi, Damien  Male\n",
       "2  18  Gatien, Jean-Philippe  Male\n",
       "3  27     Legoût, Christophe  Male\n",
       "4  35       Santoro, Fabrice  Male"
      ]
     },
     "execution_count": 7,
     "metadata": {},
     "output_type": "execute_result"
    }
   ],
   "source": [
    "df_athletes = pd.read_table(\"athletes.txt\",sep=\";\")\n",
    "df_athletes.head(5)"
   ]
  },
  {
   "cell_type": "markdown",
   "metadata": {},
   "source": [
    "Merge the athletes data set with the results data set from above **using an outer merge**. Then report on the sources of your merged dataset:\n",
    "\n",
    "- how many rows contain information from both data sources?\n",
    "- how many rows contain only information from the athletes data set?\n",
    "- how many rows contain only information from the results data set?"
   ]
  },
  {
   "cell_type": "code",
   "execution_count": 8,
   "metadata": {},
   "outputs": [
    {
     "name": "stdout",
     "output_type": "stream",
     "text": [
      "Number of rows in both: 37823\n",
      "Number of rows containing only info about athletes dataset: 31015\n",
      "Number of rows containing only info about results dataset: 0\n"
     ]
    },
    {
     "data": {
      "text/plain": [
       "True"
      ]
     },
     "execution_count": 8,
     "metadata": {},
     "output_type": "execute_result"
    }
   ],
   "source": [
    "df_merged_outer = pd.merge(left=df_athletes, left_on=\"id\", right=df_olympics, right_on=\"athlete_id\", how=\"outer\")\n",
    "\n",
    "number_both         = df_merged_outer[(df_merged_outer.id.notna()) & (df_merged_outer.athlete_id.notna())].shape[0]\n",
    "number_only_athlete = df_merged_outer[(df_merged_outer.id.notna()) & (df_merged_outer.athlete_id.isna())].shape[0]\n",
    "number_only_results = df_merged_outer[(df_merged_outer.id.isna()) & (df_merged_outer.athlete_id.notna())].shape[0]\n",
    "print(f\"Number of rows in both: {number_both}\")\n",
    "print(f\"Number of rows containing only info about athletes dataset: {number_only_athlete}\")\n",
    "print(f\"Number of rows containing only info about results dataset: {number_only_results}\")\n",
    "\n",
    "number_both + number_only_athlete + number_only_results == df_merged_outer.shape[0]"
   ]
  },
  {
   "cell_type": "markdown",
   "metadata": {},
   "source": [
    "Explain (using the following markdown cell) whether the outer merge or some other merge type is an appropriate choice here?  \n",
    "**Note:** in the following exercises we want to analyse the results of the Olympic Games between 2014 and 2020, considering also aspects such as the sex and names of the participants."
   ]
  },
  {
   "cell_type": "markdown",
   "metadata": {},
   "source": [
    "The way how to merge depends on how are we going to use the resulting dataframe. \n",
    "\n",
    "If we want to analyse both results and athelete information (if a row does not have information about result or athlete that row is not important), we should do inner join. That way we only get rows with result athlete information.\n",
    "\n",
    "If we want to analyse the results, sex and names (every row is important), we should do outer join. That way we get rows only with result information (not information about the athlete), rows only with athelte information (not information about results) and rows with result and athlete information.\n",
    "\n",
    "If we want to analyse the results, and sex and name provide some interesting metadata about the result (in this case, sex and name is not as important as the result), we should do a right join. That way we fill results rows with sex and name if founded, if not, sex and name will be null.\n",
    "\n",
    "If we want to analyse the sex and name, and the results provide some interesting metadata about the athlete (in this case, result is not as important as sex and name), we should do a left join. That way we fill athlete rows with results if founded, if not, results columns will be null.\n"
   ]
  },
  {
   "cell_type": "markdown",
   "metadata": {},
   "source": [
    "In this case, we want to analyse the results of the olympics, considering also information about athletes. I think the most important part of our analysis is the results and the athlete information is metadata, so i will do a **right join** (olympics) to keep all information about olympic games and not lose any information about it. \n",
    "\n",
    "*(I know right and inner join IN THIS CASE are the same, but in other cases it might not, so the general way not to lose information about olympic games is to do right join)*."
   ]
  },
  {
   "cell_type": "markdown",
   "metadata": {},
   "source": [
    "If applicable, carry out the merge again using a more appropriate merge type. Print the rows and colums of the merged data set."
   ]
  },
  {
   "cell_type": "code",
   "execution_count": 9,
   "metadata": {},
   "outputs": [
    {
     "data": {
      "text/html": [
       "<div>\n",
       "<style scoped>\n",
       "    .dataframe tbody tr th:only-of-type {\n",
       "        vertical-align: middle;\n",
       "    }\n",
       "\n",
       "    .dataframe tbody tr th {\n",
       "        vertical-align: top;\n",
       "    }\n",
       "\n",
       "    .dataframe thead th {\n",
       "        text-align: right;\n",
       "    }\n",
       "</style>\n",
       "<table border=\"1\" class=\"dataframe\">\n",
       "  <thead>\n",
       "    <tr style=\"text-align: right;\">\n",
       "      <th></th>\n",
       "      <th>id</th>\n",
       "      <th>name</th>\n",
       "      <th>sex</th>\n",
       "      <th>year</th>\n",
       "      <th>location</th>\n",
       "      <th>sport</th>\n",
       "      <th>discipline</th>\n",
       "      <th>athlete_id</th>\n",
       "      <th>country</th>\n",
       "      <th>position</th>\n",
       "      <th>medal</th>\n",
       "      <th>height</th>\n",
       "      <th>weight</th>\n",
       "    </tr>\n",
       "  </thead>\n",
       "  <tbody>\n",
       "    <tr>\n",
       "      <th>0</th>\n",
       "      <td>134917</td>\n",
       "      <td>Bon-Chan, Gu</td>\n",
       "      <td>Male</td>\n",
       "      <td>2016</td>\n",
       "      <td>Rio de Janeiro</td>\n",
       "      <td>Archery</td>\n",
       "      <td>Individual, Men</td>\n",
       "      <td>134917</td>\n",
       "      <td>Republic of Korea</td>\n",
       "      <td>1.0</td>\n",
       "      <td>Gold</td>\n",
       "      <td>1.81</td>\n",
       "      <td>84.0</td>\n",
       "    </tr>\n",
       "    <tr>\n",
       "      <th>1</th>\n",
       "      <td>111548</td>\n",
       "      <td>Valladont, Jean-Charles</td>\n",
       "      <td>Male</td>\n",
       "      <td>2016</td>\n",
       "      <td>Rio de Janeiro</td>\n",
       "      <td>Archery</td>\n",
       "      <td>Individual, Men</td>\n",
       "      <td>111548</td>\n",
       "      <td>France</td>\n",
       "      <td>2.0</td>\n",
       "      <td>Silver</td>\n",
       "      <td>1.80</td>\n",
       "      <td>83.0</td>\n",
       "    </tr>\n",
       "    <tr>\n",
       "      <th>2</th>\n",
       "      <td>111530</td>\n",
       "      <td>Ellison, Brady</td>\n",
       "      <td>Male</td>\n",
       "      <td>2016</td>\n",
       "      <td>Rio de Janeiro</td>\n",
       "      <td>Archery</td>\n",
       "      <td>Individual, Men</td>\n",
       "      <td>111530</td>\n",
       "      <td>United States</td>\n",
       "      <td>3.0</td>\n",
       "      <td>Bronze</td>\n",
       "      <td>1.81</td>\n",
       "      <td>86.0</td>\n",
       "    </tr>\n",
       "    <tr>\n",
       "      <th>3</th>\n",
       "      <td>135226</td>\n",
       "      <td>van den Berg, Sjef</td>\n",
       "      <td>Male</td>\n",
       "      <td>2016</td>\n",
       "      <td>Rio de Janeiro</td>\n",
       "      <td>Archery</td>\n",
       "      <td>Individual, Men</td>\n",
       "      <td>135226</td>\n",
       "      <td>Netherlands</td>\n",
       "      <td>4.0</td>\n",
       "      <td>NaN</td>\n",
       "      <td>1.83</td>\n",
       "      <td>75.0</td>\n",
       "    </tr>\n",
       "    <tr>\n",
       "      <th>4</th>\n",
       "      <td>121560</td>\n",
       "      <td>Worth, Taylor</td>\n",
       "      <td>Male</td>\n",
       "      <td>2016</td>\n",
       "      <td>Rio de Janeiro</td>\n",
       "      <td>Archery</td>\n",
       "      <td>Individual, Men</td>\n",
       "      <td>121560</td>\n",
       "      <td>Australia</td>\n",
       "      <td>5.0</td>\n",
       "      <td>NaN</td>\n",
       "      <td>1.74</td>\n",
       "      <td>60.0</td>\n",
       "    </tr>\n",
       "    <tr>\n",
       "      <th>...</th>\n",
       "      <td>...</td>\n",
       "      <td>...</td>\n",
       "      <td>...</td>\n",
       "      <td>...</td>\n",
       "      <td>...</td>\n",
       "      <td>...</td>\n",
       "      <td>...</td>\n",
       "      <td>...</td>\n",
       "      <td>...</td>\n",
       "      <td>...</td>\n",
       "      <td>...</td>\n",
       "      <td>...</td>\n",
       "      <td>...</td>\n",
       "    </tr>\n",
       "    <tr>\n",
       "      <th>37818</th>\n",
       "      <td>119658</td>\n",
       "      <td>Hansen, Brian</td>\n",
       "      <td>Male</td>\n",
       "      <td>2018</td>\n",
       "      <td>PyeongChang</td>\n",
       "      <td>Speed Skating</td>\n",
       "      <td>Team Pursuit (8 laps), Men</td>\n",
       "      <td>119658</td>\n",
       "      <td>United States</td>\n",
       "      <td>8.0</td>\n",
       "      <td>NaN</td>\n",
       "      <td>1.83</td>\n",
       "      <td>82.0</td>\n",
       "    </tr>\n",
       "    <tr>\n",
       "      <th>37819</th>\n",
       "      <td>128782</td>\n",
       "      <td>Garcia, Jonathan</td>\n",
       "      <td>Male</td>\n",
       "      <td>2018</td>\n",
       "      <td>PyeongChang</td>\n",
       "      <td>Speed Skating</td>\n",
       "      <td>Team Pursuit (8 laps), Men</td>\n",
       "      <td>128782</td>\n",
       "      <td>United States</td>\n",
       "      <td>8.0</td>\n",
       "      <td>NaN</td>\n",
       "      <td>1.70</td>\n",
       "      <td>64.0</td>\n",
       "    </tr>\n",
       "    <tr>\n",
       "      <th>37820</th>\n",
       "      <td>128783</td>\n",
       "      <td>Lehman, Emery</td>\n",
       "      <td>Male</td>\n",
       "      <td>2018</td>\n",
       "      <td>PyeongChang</td>\n",
       "      <td>Speed Skating</td>\n",
       "      <td>Team Pursuit (8 laps), Men</td>\n",
       "      <td>128783</td>\n",
       "      <td>United States</td>\n",
       "      <td>8.0</td>\n",
       "      <td>NaN</td>\n",
       "      <td>1.83</td>\n",
       "      <td>79.0</td>\n",
       "    </tr>\n",
       "    <tr>\n",
       "      <th>37821</th>\n",
       "      <td>128784</td>\n",
       "      <td>Mantia, Joey</td>\n",
       "      <td>Male</td>\n",
       "      <td>2018</td>\n",
       "      <td>PyeongChang</td>\n",
       "      <td>Speed Skating</td>\n",
       "      <td>Team Pursuit (8 laps), Men</td>\n",
       "      <td>128784</td>\n",
       "      <td>United States</td>\n",
       "      <td>8.0</td>\n",
       "      <td>NaN</td>\n",
       "      <td>1.73</td>\n",
       "      <td>78.0</td>\n",
       "    </tr>\n",
       "    <tr>\n",
       "      <th>37822</th>\n",
       "      <td>128105</td>\n",
       "      <td>Hyeong-Jun, Ju</td>\n",
       "      <td>Male</td>\n",
       "      <td>2018</td>\n",
       "      <td>PyeongChang</td>\n",
       "      <td>Speed Skating</td>\n",
       "      <td>Team Pursuit (8 laps), Men</td>\n",
       "      <td>128105</td>\n",
       "      <td>Republic of Korea</td>\n",
       "      <td>No position available</td>\n",
       "      <td>NaN</td>\n",
       "      <td>1.75</td>\n",
       "      <td>73.0</td>\n",
       "    </tr>\n",
       "  </tbody>\n",
       "</table>\n",
       "<p>37823 rows × 13 columns</p>\n",
       "</div>"
      ],
      "text/plain": [
       "           id                     name   sex  year        location  \\\n",
       "0      134917             Bon-Chan, Gu  Male  2016  Rio de Janeiro   \n",
       "1      111548  Valladont, Jean-Charles  Male  2016  Rio de Janeiro   \n",
       "2      111530           Ellison, Brady  Male  2016  Rio de Janeiro   \n",
       "3      135226       van den Berg, Sjef  Male  2016  Rio de Janeiro   \n",
       "4      121560            Worth, Taylor  Male  2016  Rio de Janeiro   \n",
       "...       ...                      ...   ...   ...             ...   \n",
       "37818  119658            Hansen, Brian  Male  2018     PyeongChang   \n",
       "37819  128782         Garcia, Jonathan  Male  2018     PyeongChang   \n",
       "37820  128783            Lehman, Emery  Male  2018     PyeongChang   \n",
       "37821  128784             Mantia, Joey  Male  2018     PyeongChang   \n",
       "37822  128105           Hyeong-Jun, Ju  Male  2018     PyeongChang   \n",
       "\n",
       "               sport                  discipline  athlete_id  \\\n",
       "0            Archery             Individual, Men      134917   \n",
       "1            Archery             Individual, Men      111548   \n",
       "2            Archery             Individual, Men      111530   \n",
       "3            Archery             Individual, Men      135226   \n",
       "4            Archery             Individual, Men      121560   \n",
       "...              ...                         ...         ...   \n",
       "37818  Speed Skating  Team Pursuit (8 laps), Men      119658   \n",
       "37819  Speed Skating  Team Pursuit (8 laps), Men      128782   \n",
       "37820  Speed Skating  Team Pursuit (8 laps), Men      128783   \n",
       "37821  Speed Skating  Team Pursuit (8 laps), Men      128784   \n",
       "37822  Speed Skating  Team Pursuit (8 laps), Men      128105   \n",
       "\n",
       "                 country               position   medal  height  weight  \n",
       "0      Republic of Korea                    1.0    Gold    1.81    84.0  \n",
       "1                 France                    2.0  Silver    1.80    83.0  \n",
       "2          United States                    3.0  Bronze    1.81    86.0  \n",
       "3            Netherlands                    4.0     NaN    1.83    75.0  \n",
       "4              Australia                    5.0     NaN    1.74    60.0  \n",
       "...                  ...                    ...     ...     ...     ...  \n",
       "37818      United States                    8.0     NaN    1.83    82.0  \n",
       "37819      United States                    8.0     NaN    1.70    64.0  \n",
       "37820      United States                    8.0     NaN    1.83    79.0  \n",
       "37821      United States                    8.0     NaN    1.73    78.0  \n",
       "37822  Republic of Korea  No position available     NaN    1.75    73.0  \n",
       "\n",
       "[37823 rows x 13 columns]"
      ]
     },
     "execution_count": 9,
     "metadata": {},
     "output_type": "execute_result"
    }
   ],
   "source": [
    "df = pd.merge(left=df_athletes, left_on=\"id\", right=df_olympics, right_on=\"athlete_id\", how=\"right\")\n",
    "df"
   ]
  },
  {
   "attachments": {},
   "cell_type": "markdown",
   "metadata": {},
   "source": [
    "# Exercise 4 (20 points)"
   ]
  },
  {
   "cell_type": "markdown",
   "metadata": {},
   "source": [
    "Create a new column bmi that contains the athlete’s body mass index (bmi). The BMI is defined as weight (in kg) divided by the square of the body height (in m). Note that a BMI of 18.5 - 25 is considered normal.     "
   ]
  },
  {
   "cell_type": "code",
   "execution_count": 10,
   "metadata": {},
   "outputs": [],
   "source": [
    "df['bmi'] = df.weight / (df.height ** 2)"
   ]
  },
  {
   "cell_type": "markdown",
   "metadata": {},
   "source": [
    "For the male athletes, calculate the average body mass index per `sport`. Display the 5 sports with the lowest average bmi.\n",
    "**Note**: you can ignore missing values for this task"
   ]
  },
  {
   "cell_type": "code",
   "execution_count": 11,
   "metadata": {},
   "outputs": [
    {
     "name": "stdout",
     "output_type": "stream",
     "text": [
      "The sports are Ski Jumping, Skateboarding, Nordic Combined, Triathlon, Cycling Road.\n"
     ]
    }
   ],
   "source": [
    "l = df[df.sex=='Male'].groupby('sport').bmi.mean(numeric_only=True).nsmallest(5).index.to_list()\n",
    "\n",
    "print(f\"The sports are {', '.join(l)}.\")"
   ]
  },
  {
   "cell_type": "markdown",
   "metadata": {},
   "source": [
    "A body mass index between 18.5 and 24.9 is considered as normal (neither underweight nor overweight). What percentage of rows exhibit a normal body mass index? "
   ]
  },
  {
   "cell_type": "code",
   "execution_count": 17,
   "metadata": {},
   "outputs": [
    {
     "name": "stdout",
     "output_type": "stream",
     "text": [
      "The percentage is 77.11%\n"
     ]
    }
   ],
   "source": [
    "number_of_normal = df[(df.bmi >= 18.5) & (df.bmi <= 24.9)].shape[0]\n",
    "number_of_all = df.bmi.notna().sum()\n",
    "print(f\"The percentage is {(number_of_normal / number_of_all * 100):.2f}%\")"
   ]
  },
  {
   "attachments": {},
   "cell_type": "markdown",
   "metadata": {},
   "source": [
    "# Exercise 5 (25 points)"
   ]
  },
  {
   "cell_type": "markdown",
   "metadata": {},
   "source": [
    "The German Biathlon athlete Erik Lesser (`athlete_id` = 127808) participated 12 times, at multiple Olympic Games and disciplines. Print the average position that he achieved."
   ]
  },
  {
   "cell_type": "code",
   "execution_count": 13,
   "metadata": {},
   "outputs": [],
   "source": [
    "df.position = pd.to_numeric(df.position, errors=\"coerce\")"
   ]
  },
  {
   "cell_type": "code",
   "execution_count": 14,
   "metadata": {},
   "outputs": [
    {
     "data": {
      "text/plain": [
       "np.float64(12.25)"
      ]
     },
     "execution_count": 14,
     "metadata": {},
     "output_type": "execute_result"
    }
   ],
   "source": [
    "df[df.athlete_id==127808].position.mean()"
   ]
  },
  {
   "cell_type": "markdown",
   "metadata": {},
   "source": [
    "Based on the `name` column create a `firstname` and a `lastname` column and add them permanently to the data set. Display the first five rows of the dataset."
   ]
  },
  {
   "cell_type": "code",
   "execution_count": 15,
   "metadata": {},
   "outputs": [
    {
     "data": {
      "text/html": [
       "<div>\n",
       "<style scoped>\n",
       "    .dataframe tbody tr th:only-of-type {\n",
       "        vertical-align: middle;\n",
       "    }\n",
       "\n",
       "    .dataframe tbody tr th {\n",
       "        vertical-align: top;\n",
       "    }\n",
       "\n",
       "    .dataframe thead th {\n",
       "        text-align: right;\n",
       "    }\n",
       "</style>\n",
       "<table border=\"1\" class=\"dataframe\">\n",
       "  <thead>\n",
       "    <tr style=\"text-align: right;\">\n",
       "      <th></th>\n",
       "      <th>id</th>\n",
       "      <th>name</th>\n",
       "      <th>sex</th>\n",
       "      <th>year</th>\n",
       "      <th>location</th>\n",
       "      <th>sport</th>\n",
       "      <th>discipline</th>\n",
       "      <th>athlete_id</th>\n",
       "      <th>country</th>\n",
       "      <th>position</th>\n",
       "      <th>medal</th>\n",
       "      <th>height</th>\n",
       "      <th>weight</th>\n",
       "      <th>bmi</th>\n",
       "      <th>firstname</th>\n",
       "      <th>lastname</th>\n",
       "    </tr>\n",
       "  </thead>\n",
       "  <tbody>\n",
       "    <tr>\n",
       "      <th>0</th>\n",
       "      <td>134917</td>\n",
       "      <td>Bon-Chan, Gu</td>\n",
       "      <td>Male</td>\n",
       "      <td>2016</td>\n",
       "      <td>Rio de Janeiro</td>\n",
       "      <td>Archery</td>\n",
       "      <td>Individual, Men</td>\n",
       "      <td>134917</td>\n",
       "      <td>Republic of Korea</td>\n",
       "      <td>1.0</td>\n",
       "      <td>Gold</td>\n",
       "      <td>1.81</td>\n",
       "      <td>84.0</td>\n",
       "      <td>25.640243</td>\n",
       "      <td>Gu</td>\n",
       "      <td>Bon-Chan</td>\n",
       "    </tr>\n",
       "    <tr>\n",
       "      <th>1</th>\n",
       "      <td>111548</td>\n",
       "      <td>Valladont, Jean-Charles</td>\n",
       "      <td>Male</td>\n",
       "      <td>2016</td>\n",
       "      <td>Rio de Janeiro</td>\n",
       "      <td>Archery</td>\n",
       "      <td>Individual, Men</td>\n",
       "      <td>111548</td>\n",
       "      <td>France</td>\n",
       "      <td>2.0</td>\n",
       "      <td>Silver</td>\n",
       "      <td>1.80</td>\n",
       "      <td>83.0</td>\n",
       "      <td>25.617284</td>\n",
       "      <td>Jean-Charles</td>\n",
       "      <td>Valladont</td>\n",
       "    </tr>\n",
       "    <tr>\n",
       "      <th>2</th>\n",
       "      <td>111530</td>\n",
       "      <td>Ellison, Brady</td>\n",
       "      <td>Male</td>\n",
       "      <td>2016</td>\n",
       "      <td>Rio de Janeiro</td>\n",
       "      <td>Archery</td>\n",
       "      <td>Individual, Men</td>\n",
       "      <td>111530</td>\n",
       "      <td>United States</td>\n",
       "      <td>3.0</td>\n",
       "      <td>Bronze</td>\n",
       "      <td>1.81</td>\n",
       "      <td>86.0</td>\n",
       "      <td>26.250725</td>\n",
       "      <td>Brady</td>\n",
       "      <td>Ellison</td>\n",
       "    </tr>\n",
       "    <tr>\n",
       "      <th>3</th>\n",
       "      <td>135226</td>\n",
       "      <td>van den Berg, Sjef</td>\n",
       "      <td>Male</td>\n",
       "      <td>2016</td>\n",
       "      <td>Rio de Janeiro</td>\n",
       "      <td>Archery</td>\n",
       "      <td>Individual, Men</td>\n",
       "      <td>135226</td>\n",
       "      <td>Netherlands</td>\n",
       "      <td>4.0</td>\n",
       "      <td>NaN</td>\n",
       "      <td>1.83</td>\n",
       "      <td>75.0</td>\n",
       "      <td>22.395413</td>\n",
       "      <td>Sjef</td>\n",
       "      <td>van den Berg</td>\n",
       "    </tr>\n",
       "    <tr>\n",
       "      <th>4</th>\n",
       "      <td>121560</td>\n",
       "      <td>Worth, Taylor</td>\n",
       "      <td>Male</td>\n",
       "      <td>2016</td>\n",
       "      <td>Rio de Janeiro</td>\n",
       "      <td>Archery</td>\n",
       "      <td>Individual, Men</td>\n",
       "      <td>121560</td>\n",
       "      <td>Australia</td>\n",
       "      <td>5.0</td>\n",
       "      <td>NaN</td>\n",
       "      <td>1.74</td>\n",
       "      <td>60.0</td>\n",
       "      <td>19.817677</td>\n",
       "      <td>Taylor</td>\n",
       "      <td>Worth</td>\n",
       "    </tr>\n",
       "  </tbody>\n",
       "</table>\n",
       "</div>"
      ],
      "text/plain": [
       "       id                     name   sex  year        location    sport  \\\n",
       "0  134917             Bon-Chan, Gu  Male  2016  Rio de Janeiro  Archery   \n",
       "1  111548  Valladont, Jean-Charles  Male  2016  Rio de Janeiro  Archery   \n",
       "2  111530           Ellison, Brady  Male  2016  Rio de Janeiro  Archery   \n",
       "3  135226       van den Berg, Sjef  Male  2016  Rio de Janeiro  Archery   \n",
       "4  121560            Worth, Taylor  Male  2016  Rio de Janeiro  Archery   \n",
       "\n",
       "        discipline  athlete_id            country  position   medal  height  \\\n",
       "0  Individual, Men      134917  Republic of Korea       1.0    Gold    1.81   \n",
       "1  Individual, Men      111548             France       2.0  Silver    1.80   \n",
       "2  Individual, Men      111530      United States       3.0  Bronze    1.81   \n",
       "3  Individual, Men      135226        Netherlands       4.0     NaN    1.83   \n",
       "4  Individual, Men      121560          Australia       5.0     NaN    1.74   \n",
       "\n",
       "   weight        bmi      firstname      lastname  \n",
       "0    84.0  25.640243             Gu      Bon-Chan  \n",
       "1    83.0  25.617284   Jean-Charles     Valladont  \n",
       "2    86.0  26.250725          Brady       Ellison  \n",
       "3    75.0  22.395413           Sjef  van den Berg  \n",
       "4    60.0  19.817677         Taylor         Worth  "
      ]
     },
     "execution_count": 15,
     "metadata": {},
     "output_type": "execute_result"
    }
   ],
   "source": [
    "names = df['name'].str.split(',', n=1, expand=True)\n",
    "df['firstname'] = names[1]\n",
    "df['lastname'] = names[0]\n",
    "\n",
    "df.head(5)"
   ]
  },
  {
   "cell_type": "markdown",
   "metadata": {},
   "source": [
    "What are the 10 most common firstnames in Austria, Denmark, Germany, and Switzerland?  \n",
    "**Note**: create an overall ranking, not one ranking per country"
   ]
  },
  {
   "cell_type": "code",
   "execution_count": 16,
   "metadata": {},
   "outputs": [
    {
     "name": "stdout",
     "output_type": "stream",
     "text": [
      "The most common first names in Austria, Denmark, Germany, Switzerland are: \n",
      "  Thomas,  Andreas,  Lisa,  Simon,  Christian,  Martin,  Johannes,  Alexander,  Daniel,  Anna\n"
     ]
    }
   ],
   "source": [
    "countrylist = ['Austria','Denmark','Germany','Switzerland']\n",
    "df_unique_athletes = df[~df['id'].duplicated()]\n",
    "l = df_unique_athletes[df_unique_athletes.country.isin(countrylist)].value_counts('firstname').nlargest(10).index.to_list()\n",
    "print(f\"The most common first names in {\", \".join(countrylist)} are: \\n {\", \".join(l)}\")"
   ]
  },
  {
   "cell_type": "code",
   "execution_count": null,
   "metadata": {},
   "outputs": [],
   "source": []
  }
 ],
 "metadata": {
  "kernelspec": {
   "display_name": ".venv",
   "language": "python",
   "name": "python3"
  },
  "language_info": {
   "codemirror_mode": {
    "name": "ipython",
    "version": 3
   },
   "file_extension": ".py",
   "mimetype": "text/x-python",
   "name": "python",
   "nbconvert_exporter": "python",
   "pygments_lexer": "ipython3",
   "version": "3.12.0"
  },
  "orig_nbformat": 4
 },
 "nbformat": 4,
 "nbformat_minor": 2
}
