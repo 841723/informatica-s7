{
 "cells": [
  {
   "cell_type": "markdown",
   "metadata": {},
   "source": [
    "# Task 2\n",
    "\n",
    "To solve the following exercises you need the following two data files:\n",
    "\n",
    "- **charts.csv**: contains information on the Top 200 Spotify charts per country and week: for instance a song identifier, the position in the ranking, and the number of streams (for a given country and week)\n",
    "- **songs.csv** contains details on individual songs: e.g. the song name, artist, genre, its duration, and more variables"
   ]
  },
  {
   "cell_type": "code",
   "execution_count": null,
   "metadata": {},
   "outputs": [],
   "source": [
    "# Import Packages here\n",
    "import pandas as pd\n",
    "import numpy as np"
   ]
  },
  {
   "cell_type": "markdown",
   "metadata": {},
   "source": [
    "## Exercise 1 (10 points)\n",
    "- Read in the data sets `songs.csv`. \n",
    "- Display the first five observations.\n",
    "- Print the number of rows and columns. "
   ]
  },
  {
   "cell_type": "code",
   "execution_count": 2,
   "metadata": {},
   "outputs": [
    {
     "data": {
      "text/html": [
       "<div>\n",
       "<style scoped>\n",
       "    .dataframe tbody tr th:only-of-type {\n",
       "        vertical-align: middle;\n",
       "    }\n",
       "\n",
       "    .dataframe tbody tr th {\n",
       "        vertical-align: top;\n",
       "    }\n",
       "\n",
       "    .dataframe thead th {\n",
       "        text-align: right;\n",
       "    }\n",
       "</style>\n",
       "<table border=\"1\" class=\"dataframe\">\n",
       "  <thead>\n",
       "    <tr style=\"text-align: right;\">\n",
       "      <th></th>\n",
       "      <th>song_id</th>\n",
       "      <th>artist_name</th>\n",
       "      <th>song_name</th>\n",
       "      <th>genre</th>\n",
       "      <th>duration_ms</th>\n",
       "      <th>explicit</th>\n",
       "      <th>danceability</th>\n",
       "      <th>loudness</th>\n",
       "      <th>speechiness</th>\n",
       "      <th>acousticness</th>\n",
       "      <th>instrumentalness</th>\n",
       "      <th>valence</th>\n",
       "    </tr>\n",
       "  </thead>\n",
       "  <tbody>\n",
       "    <tr>\n",
       "      <th>0</th>\n",
       "      <td>00mBzIWv5gHOYxwuEJXjOG</td>\n",
       "      <td>December Avenue</td>\n",
       "      <td>Sa Ngalan Ng Pag-Ibig</td>\n",
       "      <td>pop</td>\n",
       "      <td>285138.0</td>\n",
       "      <td>False</td>\n",
       "      <td>0.518</td>\n",
       "      <td>-3.907</td>\n",
       "      <td>0.0305</td>\n",
       "      <td>0.0851</td>\n",
       "      <td>0.000000</td>\n",
       "      <td>0.271</td>\n",
       "    </tr>\n",
       "    <tr>\n",
       "      <th>1</th>\n",
       "      <td>00tnXAltVLyIWok9sCWdjL</td>\n",
       "      <td>Dani Mocanu</td>\n",
       "      <td>Afaceri Ilegale</td>\n",
       "      <td>other</td>\n",
       "      <td>176248.0</td>\n",
       "      <td>False</td>\n",
       "      <td>0.588</td>\n",
       "      <td>-4.680</td>\n",
       "      <td>0.3570</td>\n",
       "      <td>0.4000</td>\n",
       "      <td>0.000000</td>\n",
       "      <td>0.425</td>\n",
       "    </tr>\n",
       "    <tr>\n",
       "      <th>2</th>\n",
       "      <td>00x2d2mKSaUrCNTNxH7CYN</td>\n",
       "      <td>Sigma</td>\n",
       "      <td>ALYX</td>\n",
       "      <td>other</td>\n",
       "      <td>167619.0</td>\n",
       "      <td>True</td>\n",
       "      <td>0.495</td>\n",
       "      <td>-10.033</td>\n",
       "      <td>0.3690</td>\n",
       "      <td>0.2800</td>\n",
       "      <td>0.000000</td>\n",
       "      <td>0.368</td>\n",
       "    </tr>\n",
       "    <tr>\n",
       "      <th>3</th>\n",
       "      <td>011Xn3Wqii67s4aaPgheiu</td>\n",
       "      <td>Marteria</td>\n",
       "      <td>Love, Peace &amp; Happiness</td>\n",
       "      <td>rap</td>\n",
       "      <td>213701.0</td>\n",
       "      <td>False</td>\n",
       "      <td>0.845</td>\n",
       "      <td>-7.397</td>\n",
       "      <td>0.1470</td>\n",
       "      <td>0.3040</td>\n",
       "      <td>0.000021</td>\n",
       "      <td>0.377</td>\n",
       "    </tr>\n",
       "    <tr>\n",
       "      <th>4</th>\n",
       "      <td>014DA3BdnmD3kI5pBogH7c</td>\n",
       "      <td>Chillies</td>\n",
       "      <td>Cứ Chill Thôi</td>\n",
       "      <td>indie</td>\n",
       "      <td>270000.0</td>\n",
       "      <td>False</td>\n",
       "      <td>0.781</td>\n",
       "      <td>-8.452</td>\n",
       "      <td>0.0408</td>\n",
       "      <td>0.2170</td>\n",
       "      <td>0.000036</td>\n",
       "      <td>0.609</td>\n",
       "    </tr>\n",
       "  </tbody>\n",
       "</table>\n",
       "</div>"
      ],
      "text/plain": [
       "                  song_id      artist_name                song_name  genre  \\\n",
       "0  00mBzIWv5gHOYxwuEJXjOG  December Avenue    Sa Ngalan Ng Pag-Ibig    pop   \n",
       "1  00tnXAltVLyIWok9sCWdjL      Dani Mocanu          Afaceri Ilegale  other   \n",
       "2  00x2d2mKSaUrCNTNxH7CYN            Sigma                     ALYX  other   \n",
       "3  011Xn3Wqii67s4aaPgheiu         Marteria  Love, Peace & Happiness    rap   \n",
       "4  014DA3BdnmD3kI5pBogH7c         Chillies            Cứ Chill Thôi  indie   \n",
       "\n",
       "   duration_ms  explicit  danceability  loudness  speechiness  acousticness  \\\n",
       "0     285138.0     False         0.518    -3.907       0.0305        0.0851   \n",
       "1     176248.0     False         0.588    -4.680       0.3570        0.4000   \n",
       "2     167619.0      True         0.495   -10.033       0.3690        0.2800   \n",
       "3     213701.0     False         0.845    -7.397       0.1470        0.3040   \n",
       "4     270000.0     False         0.781    -8.452       0.0408        0.2170   \n",
       "\n",
       "   instrumentalness valence  \n",
       "0          0.000000   0.271  \n",
       "1          0.000000   0.425  \n",
       "2          0.000000   0.368  \n",
       "3          0.000021   0.377  \n",
       "4          0.000036   0.609  "
      ]
     },
     "metadata": {},
     "output_type": "display_data"
    },
    {
     "name": "stdout",
     "output_type": "stream",
     "text": [
      "There are 7388 rows and 12 columns\n"
     ]
    }
   ],
   "source": [
    "df_songs = pd.read_csv('songs.csv')\n",
    "display(df_songs.head(5))\n",
    "print(f\"There are {df_songs.shape[0]} rows and {df_songs.shape[1]} columns\")"
   ]
  },
  {
   "cell_type": "markdown",
   "metadata": {},
   "source": [
    "## Exercise 2 (10 points)\n",
    "Display the columns `song_name`, `artist_name`, and `danceability` of the 10 songs with the lowest danceability."
   ]
  },
  {
   "cell_type": "code",
   "execution_count": 5,
   "metadata": {},
   "outputs": [
    {
     "data": {
      "text/html": [
       "<div>\n",
       "<style scoped>\n",
       "    .dataframe tbody tr th:only-of-type {\n",
       "        vertical-align: middle;\n",
       "    }\n",
       "\n",
       "    .dataframe tbody tr th {\n",
       "        vertical-align: top;\n",
       "    }\n",
       "\n",
       "    .dataframe thead th {\n",
       "        text-align: right;\n",
       "    }\n",
       "</style>\n",
       "<table border=\"1\" class=\"dataframe\">\n",
       "  <thead>\n",
       "    <tr style=\"text-align: right;\">\n",
       "      <th></th>\n",
       "      <th>song_name</th>\n",
       "      <th>artist_name</th>\n",
       "      <th>danceability</th>\n",
       "    </tr>\n",
       "  </thead>\n",
       "  <tbody>\n",
       "    <tr>\n",
       "      <th>3504</th>\n",
       "      <td>Jólastjarnan</td>\n",
       "      <td>Memfismafían</td>\n",
       "      <td>0.141</td>\n",
       "    </tr>\n",
       "    <tr>\n",
       "      <th>5566</th>\n",
       "      <td>Intro to Fake News - from \"Spider-Man: No Way ...</td>\n",
       "      <td>Michael Giacchino</td>\n",
       "      <td>0.143</td>\n",
       "    </tr>\n",
       "    <tr>\n",
       "      <th>1706</th>\n",
       "      <td>O Helga Natt</td>\n",
       "      <td>Nils Bech</td>\n",
       "      <td>0.145</td>\n",
       "    </tr>\n",
       "    <tr>\n",
       "      <th>484</th>\n",
       "      <td>Can You Feel My Heart</td>\n",
       "      <td>Bring Me The Horizon</td>\n",
       "      <td>0.150</td>\n",
       "    </tr>\n",
       "    <tr>\n",
       "      <th>30</th>\n",
       "      <td>Have Yourself A Merry Little Christmas</td>\n",
       "      <td>Judy Garland</td>\n",
       "      <td>0.156</td>\n",
       "    </tr>\n",
       "  </tbody>\n",
       "</table>\n",
       "</div>"
      ],
      "text/plain": [
       "                                              song_name           artist_name  \\\n",
       "3504                                       Jólastjarnan          Memfismafían   \n",
       "5566  Intro to Fake News - from \"Spider-Man: No Way ...     Michael Giacchino   \n",
       "1706                                       O Helga Natt             Nils Bech   \n",
       "484                               Can You Feel My Heart  Bring Me The Horizon   \n",
       "30               Have Yourself A Merry Little Christmas          Judy Garland   \n",
       "\n",
       "      danceability  \n",
       "3504         0.141  \n",
       "5566         0.143  \n",
       "1706         0.145  \n",
       "484          0.150  \n",
       "30           0.156  "
      ]
     },
     "execution_count": 5,
     "metadata": {},
     "output_type": "execute_result"
    }
   ],
   "source": [
    "df_songs[['song_name','artist_name','danceability']].sort_values('danceability').head(5)"
   ]
  },
  {
   "cell_type": "markdown",
   "metadata": {},
   "source": [
    "## Exercise 3 (10 points)\n",
    "- The column `duration_ms` represents the song duration in milliseconds. Create a new column `duration_min` that represents the duration in minutes. \n",
    "- Display all songs longer than or equal to 15 minutes."
   ]
  },
  {
   "cell_type": "code",
   "execution_count": 9,
   "metadata": {},
   "outputs": [
    {
     "data": {
      "text/html": [
       "<div>\n",
       "<style scoped>\n",
       "    .dataframe tbody tr th:only-of-type {\n",
       "        vertical-align: middle;\n",
       "    }\n",
       "\n",
       "    .dataframe tbody tr th {\n",
       "        vertical-align: top;\n",
       "    }\n",
       "\n",
       "    .dataframe thead th {\n",
       "        text-align: right;\n",
       "    }\n",
       "</style>\n",
       "<table border=\"1\" class=\"dataframe\">\n",
       "  <thead>\n",
       "    <tr style=\"text-align: right;\">\n",
       "      <th></th>\n",
       "      <th>song_id</th>\n",
       "      <th>artist_name</th>\n",
       "      <th>song_name</th>\n",
       "      <th>genre</th>\n",
       "      <th>duration_ms</th>\n",
       "      <th>explicit</th>\n",
       "      <th>danceability</th>\n",
       "      <th>loudness</th>\n",
       "      <th>speechiness</th>\n",
       "      <th>acousticness</th>\n",
       "      <th>instrumentalness</th>\n",
       "      <th>valence</th>\n",
       "      <th>duration_min</th>\n",
       "    </tr>\n",
       "  </thead>\n",
       "  <tbody>\n",
       "    <tr>\n",
       "      <th>1474</th>\n",
       "      <td>1YAi1uIjqSVMWdvsuK4oUQ</td>\n",
       "      <td>Kelvin Momo</td>\n",
       "      <td>Ivy League</td>\n",
       "      <td>other</td>\n",
       "      <td>996089.0</td>\n",
       "      <td>False</td>\n",
       "      <td>0.792</td>\n",
       "      <td>-17.201</td>\n",
       "      <td>0.046</td>\n",
       "      <td>0.0146</td>\n",
       "      <td>0.593</td>\n",
       "      <td>0.178</td>\n",
       "      <td>16.601483</td>\n",
       "    </tr>\n",
       "    <tr>\n",
       "      <th>3506</th>\n",
       "      <td>3fq0e1TpOQFBDi0vuYrePo</td>\n",
       "      <td>Fer Palacio</td>\n",
       "      <td>Previa y Cachengue 40 - Remix</td>\n",
       "      <td>other</td>\n",
       "      <td>928269.0</td>\n",
       "      <td>False</td>\n",
       "      <td>0.595</td>\n",
       "      <td>-7.228</td>\n",
       "      <td>0.217</td>\n",
       "      <td>0.1630</td>\n",
       "      <td>0.000</td>\n",
       "      <td>0.646</td>\n",
       "      <td>15.471150</td>\n",
       "    </tr>\n",
       "    <tr>\n",
       "      <th>5284</th>\n",
       "      <td>5WIK8KuxlEWbrQcRDEpHXV</td>\n",
       "      <td>Sun Diego</td>\n",
       "      <td>Apocalyptic Endgame</td>\n",
       "      <td>hip hop</td>\n",
       "      <td>1300000.0</td>\n",
       "      <td>True</td>\n",
       "      <td>0.454</td>\n",
       "      <td>-4.520</td>\n",
       "      <td>0.275</td>\n",
       "      <td>0.0185</td>\n",
       "      <td>0.000</td>\n",
       "      <td>0.418</td>\n",
       "      <td>21.666667</td>\n",
       "    </tr>\n",
       "  </tbody>\n",
       "</table>\n",
       "</div>"
      ],
      "text/plain": [
       "                     song_id  artist_name                      song_name  \\\n",
       "1474  1YAi1uIjqSVMWdvsuK4oUQ  Kelvin Momo                     Ivy League   \n",
       "3506  3fq0e1TpOQFBDi0vuYrePo  Fer Palacio  Previa y Cachengue 40 - Remix   \n",
       "5284  5WIK8KuxlEWbrQcRDEpHXV    Sun Diego            Apocalyptic Endgame   \n",
       "\n",
       "        genre  duration_ms  explicit  danceability  loudness  speechiness  \\\n",
       "1474    other     996089.0     False         0.792   -17.201        0.046   \n",
       "3506    other     928269.0     False         0.595    -7.228        0.217   \n",
       "5284  hip hop    1300000.0      True         0.454    -4.520        0.275   \n",
       "\n",
       "      acousticness  instrumentalness valence  duration_min  \n",
       "1474        0.0146             0.593   0.178     16.601483  \n",
       "3506        0.1630             0.000   0.646     15.471150  \n",
       "5284        0.0185             0.000   0.418     21.666667  "
      ]
     },
     "execution_count": 9,
     "metadata": {},
     "output_type": "execute_result"
    }
   ],
   "source": [
    "df_songs['duration_min'] = df_songs.duration_ms / 1000 / 60\n",
    "df_songs[df_songs.duration_min >= 15]"
   ]
  },
  {
   "cell_type": "markdown",
   "metadata": {},
   "source": [
    "## Exercise 4 (10 points)\n",
    "- For each `genre` calculate the minimum, average, and maximum `danceability`, as well as the number of songs that belong to this genre."
   ]
  },
  {
   "cell_type": "code",
   "execution_count": 13,
   "metadata": {},
   "outputs": [
    {
     "data": {
      "text/html": [
       "<div>\n",
       "<style scoped>\n",
       "    .dataframe tbody tr th:only-of-type {\n",
       "        vertical-align: middle;\n",
       "    }\n",
       "\n",
       "    .dataframe tbody tr th {\n",
       "        vertical-align: top;\n",
       "    }\n",
       "\n",
       "    .dataframe thead th {\n",
       "        text-align: right;\n",
       "    }\n",
       "</style>\n",
       "<table border=\"1\" class=\"dataframe\">\n",
       "  <thead>\n",
       "    <tr style=\"text-align: right;\">\n",
       "      <th></th>\n",
       "      <th>min_danceability</th>\n",
       "      <th>max_danceability</th>\n",
       "      <th>mean_danceability</th>\n",
       "      <th>size</th>\n",
       "    </tr>\n",
       "    <tr>\n",
       "      <th>genre</th>\n",
       "      <th></th>\n",
       "      <th></th>\n",
       "      <th></th>\n",
       "      <th></th>\n",
       "    </tr>\n",
       "  </thead>\n",
       "  <tbody>\n",
       "    <tr>\n",
       "      <th>alternative</th>\n",
       "      <td>0.303</td>\n",
       "      <td>0.797</td>\n",
       "      <td>0.625437</td>\n",
       "      <td>32</td>\n",
       "    </tr>\n",
       "    <tr>\n",
       "      <th>dance</th>\n",
       "      <td>0.394</td>\n",
       "      <td>0.843</td>\n",
       "      <td>0.659350</td>\n",
       "      <td>40</td>\n",
       "    </tr>\n",
       "    <tr>\n",
       "      <th>electronic</th>\n",
       "      <td>0.262</td>\n",
       "      <td>0.964</td>\n",
       "      <td>0.682172</td>\n",
       "      <td>232</td>\n",
       "    </tr>\n",
       "    <tr>\n",
       "      <th>folk</th>\n",
       "      <td>0.160</td>\n",
       "      <td>0.942</td>\n",
       "      <td>0.614743</td>\n",
       "      <td>74</td>\n",
       "    </tr>\n",
       "    <tr>\n",
       "      <th>hip hop</th>\n",
       "      <td>0.161</td>\n",
       "      <td>0.975</td>\n",
       "      <td>0.718825</td>\n",
       "      <td>1156</td>\n",
       "    </tr>\n",
       "    <tr>\n",
       "      <th>house</th>\n",
       "      <td>0.367</td>\n",
       "      <td>0.951</td>\n",
       "      <td>0.696558</td>\n",
       "      <td>77</td>\n",
       "    </tr>\n",
       "    <tr>\n",
       "      <th>indie</th>\n",
       "      <td>0.250</td>\n",
       "      <td>0.980</td>\n",
       "      <td>0.605300</td>\n",
       "      <td>210</td>\n",
       "    </tr>\n",
       "    <tr>\n",
       "      <th>japanese</th>\n",
       "      <td>0.310</td>\n",
       "      <td>0.927</td>\n",
       "      <td>0.631611</td>\n",
       "      <td>149</td>\n",
       "    </tr>\n",
       "    <tr>\n",
       "      <th>korean</th>\n",
       "      <td>0.362</td>\n",
       "      <td>0.961</td>\n",
       "      <td>0.652156</td>\n",
       "      <td>77</td>\n",
       "    </tr>\n",
       "    <tr>\n",
       "      <th>latin</th>\n",
       "      <td>0.342</td>\n",
       "      <td>0.943</td>\n",
       "      <td>0.715427</td>\n",
       "      <td>171</td>\n",
       "    </tr>\n",
       "    <tr>\n",
       "      <th>other</th>\n",
       "      <td>0.141</td>\n",
       "      <td>0.974</td>\n",
       "      <td>0.666230</td>\n",
       "      <td>2540</td>\n",
       "    </tr>\n",
       "    <tr>\n",
       "      <th>pop</th>\n",
       "      <td>0.145</td>\n",
       "      <td>0.968</td>\n",
       "      <td>0.616312</td>\n",
       "      <td>1173</td>\n",
       "    </tr>\n",
       "    <tr>\n",
       "      <th>rap</th>\n",
       "      <td>0.337</td>\n",
       "      <td>0.979</td>\n",
       "      <td>0.735078</td>\n",
       "      <td>651</td>\n",
       "    </tr>\n",
       "    <tr>\n",
       "      <th>reggaeton</th>\n",
       "      <td>0.400</td>\n",
       "      <td>0.942</td>\n",
       "      <td>0.753335</td>\n",
       "      <td>212</td>\n",
       "    </tr>\n",
       "    <tr>\n",
       "      <th>rock</th>\n",
       "      <td>0.176</td>\n",
       "      <td>0.952</td>\n",
       "      <td>0.600646</td>\n",
       "      <td>263</td>\n",
       "    </tr>\n",
       "    <tr>\n",
       "      <th>singer songwriter</th>\n",
       "      <td>0.316</td>\n",
       "      <td>0.872</td>\n",
       "      <td>0.609429</td>\n",
       "      <td>77</td>\n",
       "    </tr>\n",
       "    <tr>\n",
       "      <th>soul</th>\n",
       "      <td>0.269</td>\n",
       "      <td>0.962</td>\n",
       "      <td>0.624078</td>\n",
       "      <td>103</td>\n",
       "    </tr>\n",
       "    <tr>\n",
       "      <th>trap</th>\n",
       "      <td>0.405</td>\n",
       "      <td>0.934</td>\n",
       "      <td>0.742344</td>\n",
       "      <td>151</td>\n",
       "    </tr>\n",
       "  </tbody>\n",
       "</table>\n",
       "</div>"
      ],
      "text/plain": [
       "                   min_danceability  max_danceability  mean_danceability  size\n",
       "genre                                                                         \n",
       "alternative                   0.303             0.797           0.625437    32\n",
       "dance                         0.394             0.843           0.659350    40\n",
       "electronic                    0.262             0.964           0.682172   232\n",
       "folk                          0.160             0.942           0.614743    74\n",
       "hip hop                       0.161             0.975           0.718825  1156\n",
       "house                         0.367             0.951           0.696558    77\n",
       "indie                         0.250             0.980           0.605300   210\n",
       "japanese                      0.310             0.927           0.631611   149\n",
       "korean                        0.362             0.961           0.652156    77\n",
       "latin                         0.342             0.943           0.715427   171\n",
       "other                         0.141             0.974           0.666230  2540\n",
       "pop                           0.145             0.968           0.616312  1173\n",
       "rap                           0.337             0.979           0.735078   651\n",
       "reggaeton                     0.400             0.942           0.753335   212\n",
       "rock                          0.176             0.952           0.600646   263\n",
       "singer songwriter             0.316             0.872           0.609429    77\n",
       "soul                          0.269             0.962           0.624078   103\n",
       "trap                          0.405             0.934           0.742344   151"
      ]
     },
     "execution_count": 13,
     "metadata": {},
     "output_type": "execute_result"
    }
   ],
   "source": [
    "gby = df_songs.groupby('genre')\n",
    "pd.DataFrame({\n",
    "    \"min_danceability\":gby.danceability.min(),\n",
    "    \"max_danceability\":gby.danceability.max(),\n",
    "    \"mean_danceability\":gby.danceability.mean(),\n",
    "    \"size\":gby.size()\n",
    "})"
   ]
  },
  {
   "cell_type": "markdown",
   "metadata": {},
   "source": [
    "## Exercise 5 (10 points)\n",
    "Calculate the average `valence` of all songs. (10 points)"
   ]
  },
  {
   "cell_type": "code",
   "execution_count": 20,
   "metadata": {},
   "outputs": [
    {
     "data": {
      "text/plain": [
       "np.float64(0.521122799891687)"
      ]
     },
     "execution_count": 20,
     "metadata": {},
     "output_type": "execute_result"
    }
   ],
   "source": [
    "df_songs.valence = pd.to_numeric(df_songs.valence, errors='coerce')\n",
    "df_songs.valence.mean()"
   ]
  },
  {
   "cell_type": "markdown",
   "metadata": {},
   "source": [
    "## Exercise 6 (20 points) \n",
    "For the following tasks you need to merge the two data sets (charts and songs). Specifically:\n",
    "\n",
    "- First, read in the file `charts.csv` and display its first five columns. You are allowed to rename columns if you consider it helpful.\n",
    "- Second, analyse potential merge problems: 1) How many songs from charts.csv have no corresponding song metadata? 2) How many songs from songs.csv do not appear in the charts data set. State which merge type(s) is/are appropriate, if your goal is to loose no information from any of the two datasets.\n",
    "- Third, carry out the merge operation, and print the shape of the resulting data frame."
   ]
  },
  {
   "cell_type": "code",
   "execution_count": 70,
   "metadata": {},
   "outputs": [
    {
     "data": {
      "text/html": [
       "<div>\n",
       "<style scoped>\n",
       "    .dataframe tbody tr th:only-of-type {\n",
       "        vertical-align: middle;\n",
       "    }\n",
       "\n",
       "    .dataframe tbody tr th {\n",
       "        vertical-align: top;\n",
       "    }\n",
       "\n",
       "    .dataframe thead th {\n",
       "        text-align: right;\n",
       "    }\n",
       "</style>\n",
       "<table border=\"1\" class=\"dataframe\">\n",
       "  <thead>\n",
       "    <tr style=\"text-align: right;\">\n",
       "      <th></th>\n",
       "      <th>chart_id</th>\n",
       "      <th>type</th>\n",
       "      <th>country</th>\n",
       "      <th>interval</th>\n",
       "      <th>date</th>\n",
       "      <th>song_id</th>\n",
       "      <th>position</th>\n",
       "      <th>streams</th>\n",
       "    </tr>\n",
       "  </thead>\n",
       "  <tbody>\n",
       "    <tr>\n",
       "      <th>0</th>\n",
       "      <td>regional-ae-weekly-2021-12-23</td>\n",
       "      <td>regional</td>\n",
       "      <td>ae</td>\n",
       "      <td>weekly</td>\n",
       "      <td>2021-12-23</td>\n",
       "      <td>5PjdY0CKGZdEuoNab3yDmX</td>\n",
       "      <td>1.0</td>\n",
       "      <td>63427</td>\n",
       "    </tr>\n",
       "    <tr>\n",
       "      <th>1</th>\n",
       "      <td>regional-ae-weekly-2021-12-23</td>\n",
       "      <td>regional</td>\n",
       "      <td>ae</td>\n",
       "      <td>weekly</td>\n",
       "      <td>2021-12-23</td>\n",
       "      <td>5Z9KJZvQzH6PFmb8SNkxuk</td>\n",
       "      <td>2.0</td>\n",
       "      <td>56828</td>\n",
       "    </tr>\n",
       "    <tr>\n",
       "      <th>2</th>\n",
       "      <td>regional-ae-weekly-2021-12-23</td>\n",
       "      <td>regional</td>\n",
       "      <td>ae</td>\n",
       "      <td>weekly</td>\n",
       "      <td>2021-12-23</td>\n",
       "      <td>2Xr1dTzJee307rmrkt8c0g</td>\n",
       "      <td>3.0</td>\n",
       "      <td>55401</td>\n",
       "    </tr>\n",
       "    <tr>\n",
       "      <th>3</th>\n",
       "      <td>regional-ae-weekly-2021-12-23</td>\n",
       "      <td>regional</td>\n",
       "      <td>ae</td>\n",
       "      <td>weekly</td>\n",
       "      <td>2021-12-23</td>\n",
       "      <td>02MWAaffLxlfxAUY7c5dvx</td>\n",
       "      <td>4.0</td>\n",
       "      <td>53732</td>\n",
       "    </tr>\n",
       "    <tr>\n",
       "      <th>4</th>\n",
       "      <td>regional-ae-weekly-2021-12-23</td>\n",
       "      <td>regional</td>\n",
       "      <td>ae</td>\n",
       "      <td>weekly</td>\n",
       "      <td>2021-12-23</td>\n",
       "      <td>46IZ0fSY2mpAiktS3KOqds</td>\n",
       "      <td>5.0</td>\n",
       "      <td>50906</td>\n",
       "    </tr>\n",
       "  </tbody>\n",
       "</table>\n",
       "</div>"
      ],
      "text/plain": [
       "                        chart_id      type country interval       date  \\\n",
       "0  regional-ae-weekly-2021-12-23  regional      ae   weekly 2021-12-23   \n",
       "1  regional-ae-weekly-2021-12-23  regional      ae   weekly 2021-12-23   \n",
       "2  regional-ae-weekly-2021-12-23  regional      ae   weekly 2021-12-23   \n",
       "3  regional-ae-weekly-2021-12-23  regional      ae   weekly 2021-12-23   \n",
       "4  regional-ae-weekly-2021-12-23  regional      ae   weekly 2021-12-23   \n",
       "\n",
       "                  song_id  position  streams  \n",
       "0  5PjdY0CKGZdEuoNab3yDmX       1.0    63427  \n",
       "1  5Z9KJZvQzH6PFmb8SNkxuk       2.0    56828  \n",
       "2  2Xr1dTzJee307rmrkt8c0g       3.0    55401  \n",
       "3  02MWAaffLxlfxAUY7c5dvx       4.0    53732  \n",
       "4  46IZ0fSY2mpAiktS3KOqds       5.0    50906  "
      ]
     },
     "execution_count": 70,
     "metadata": {},
     "output_type": "execute_result"
    }
   ],
   "source": [
    "df_charts = pd.read_csv('charts.csv', delimiter=';')\n",
    "df_charts.columns = df_charts.columns.map(lambda x: x.lower())\n",
    "df_charts.date = pd.to_datetime(df_charts.date)\n",
    "df_charts.head(5)"
   ]
  },
  {
   "cell_type": "code",
   "execution_count": 57,
   "metadata": {},
   "outputs": [
    {
     "data": {
      "text/plain": [
       "53"
      ]
     },
     "execution_count": 57,
     "metadata": {},
     "output_type": "execute_result"
    }
   ],
   "source": [
    "df_charts[~df_charts.song_id.isin(df_songs.song_id.unique())].shape[0]"
   ]
  },
  {
   "cell_type": "code",
   "execution_count": 58,
   "metadata": {},
   "outputs": [
    {
     "data": {
      "text/plain": [
       "376"
      ]
     },
     "execution_count": 58,
     "metadata": {},
     "output_type": "execute_result"
    }
   ],
   "source": [
    "df_songs[~df_songs.song_id.isin(df_charts.song_id.unique())].shape[0]"
   ]
  },
  {
   "cell_type": "code",
   "execution_count": 72,
   "metadata": {},
   "outputs": [
    {
     "data": {
      "text/plain": [
       "(24371, 20)"
      ]
     },
     "execution_count": 72,
     "metadata": {},
     "output_type": "execute_result"
    }
   ],
   "source": [
    "df = pd.merge(left=df_songs, right=df_charts, on='song_id', how='outer')\n",
    "df.shape"
   ]
  },
  {
   "cell_type": "markdown",
   "metadata": {},
   "source": [
    "## Exercise 7 (15 points)\n",
    "\n",
    "Consider the charts of the week prior to christmas (date: 2021-12-23). How many songs that appeared in the German (de) charts during this week also appear in the charts of the Unites States (us)?"
   ]
  },
  {
   "cell_type": "code",
   "execution_count": null,
   "metadata": {},
   "outputs": [
    {
     "data": {
      "text/plain": [
       "np.int64(64)"
      ]
     },
     "execution_count": 127,
     "metadata": {},
     "output_type": "execute_result"
    }
   ],
   "source": [
    "from datetime import datetime\n",
    "country_list = ['de','us']\n",
    "df_week_xmas = df[df.date==datetime(2021,12,23)]\n",
    "df_week_xmas[df_week_xmas.country == 'de'].song_id.isin(df_week_xmas[df_week_xmas.country == 'us'].song_id).sum()"
   ]
  },
  {
   "cell_type": "markdown",
   "metadata": {},
   "source": [
    "## Exercise 8 (15 points)\n",
    "\n",
    "The variable `chart_id` contains information on several different aspects, which are currently also represented via the 4 variables `type`, `country`, `interval` and `date`. Your task is to parse `chart_id` into its components. Specifically:\n",
    "\n",
    "- Drop the columns `type`, `country`, `interval` and `date` permanently from the data set.\n",
    "- Then recover these four variables by parsing the string column `chart_id` appropriately.\n",
    "\n",
    "- Report the column `chart_id` and the four new columns for the first five rows of the data set."
   ]
  },
  {
   "cell_type": "code",
   "execution_count": 151,
   "metadata": {},
   "outputs": [
    {
     "data": {
      "text/plain": [
       "14583    regional-za-weekly-2021-12-23\n",
       "Name: chart_id, dtype: object"
      ]
     },
     "execution_count": 151,
     "metadata": {},
     "output_type": "execute_result"
    }
   ],
   "source": [
    "df.chart_id.sample()"
   ]
  },
  {
   "cell_type": "code",
   "execution_count": 152,
   "metadata": {},
   "outputs": [
    {
     "data": {
      "text/html": [
       "<div>\n",
       "<style scoped>\n",
       "    .dataframe tbody tr th:only-of-type {\n",
       "        vertical-align: middle;\n",
       "    }\n",
       "\n",
       "    .dataframe tbody tr th {\n",
       "        vertical-align: top;\n",
       "    }\n",
       "\n",
       "    .dataframe thead th {\n",
       "        text-align: right;\n",
       "    }\n",
       "</style>\n",
       "<table border=\"1\" class=\"dataframe\">\n",
       "  <thead>\n",
       "    <tr style=\"text-align: right;\">\n",
       "      <th></th>\n",
       "      <th>chart_id</th>\n",
       "      <th>type</th>\n",
       "      <th>country</th>\n",
       "      <th>interval</th>\n",
       "      <th>date</th>\n",
       "    </tr>\n",
       "  </thead>\n",
       "  <tbody>\n",
       "    <tr>\n",
       "      <th>0</th>\n",
       "      <td>regional-au-weekly-2021-12-23</td>\n",
       "      <td>regional</td>\n",
       "      <td>au</td>\n",
       "      <td>weekly</td>\n",
       "      <td>2021-12-23</td>\n",
       "    </tr>\n",
       "    <tr>\n",
       "      <th>1</th>\n",
       "      <td>regional-de-weekly-2021-04-08</td>\n",
       "      <td>regional</td>\n",
       "      <td>de</td>\n",
       "      <td>weekly</td>\n",
       "      <td>2021-04-08</td>\n",
       "    </tr>\n",
       "    <tr>\n",
       "      <th>2</th>\n",
       "      <td>regional-de-weekly-2021-11-18</td>\n",
       "      <td>regional</td>\n",
       "      <td>de</td>\n",
       "      <td>weekly</td>\n",
       "      <td>2021-11-18</td>\n",
       "    </tr>\n",
       "    <tr>\n",
       "      <th>3</th>\n",
       "      <td>regional-gb-weekly-2021-12-23</td>\n",
       "      <td>regional</td>\n",
       "      <td>gb</td>\n",
       "      <td>weekly</td>\n",
       "      <td>2021-12-23</td>\n",
       "    </tr>\n",
       "    <tr>\n",
       "      <th>4</th>\n",
       "      <td>regional-ie-weekly-2021-12-23</td>\n",
       "      <td>regional</td>\n",
       "      <td>ie</td>\n",
       "      <td>weekly</td>\n",
       "      <td>2021-12-23</td>\n",
       "    </tr>\n",
       "  </tbody>\n",
       "</table>\n",
       "</div>"
      ],
      "text/plain": [
       "                        chart_id      type country interval        date\n",
       "0  regional-au-weekly-2021-12-23  regional      au   weekly  2021-12-23\n",
       "1  regional-de-weekly-2021-04-08  regional      de   weekly  2021-04-08\n",
       "2  regional-de-weekly-2021-11-18  regional      de   weekly  2021-11-18\n",
       "3  regional-gb-weekly-2021-12-23  regional      gb   weekly  2021-12-23\n",
       "4  regional-ie-weekly-2021-12-23  regional      ie   weekly  2021-12-23"
      ]
     },
     "execution_count": 152,
     "metadata": {},
     "output_type": "execute_result"
    }
   ],
   "source": [
    "_df = df.copy()\n",
    "_df.drop(labels=['type', 'country', 'interval', 'date'], axis=1, inplace=True)\n",
    "_df[['type', 'country', 'interval', 'date']] = _df.chart_id.str.split('-',n=3, expand=True)\n",
    "\n",
    "_df[['chart_id','type', 'country', 'interval', 'date']].head(5)"
   ]
  },
  {
   "cell_type": "markdown",
   "metadata": {},
   "source": [
    "## Bonus (5 points)\n",
    "\n",
    "How many different artists have a song with a `song_name` that contains the word \"Christmas\"?"
   ]
  },
  {
   "cell_type": "code",
   "execution_count": 150,
   "metadata": {},
   "outputs": [
    {
     "data": {
      "text/plain": [
       "104"
      ]
     },
     "execution_count": 150,
     "metadata": {},
     "output_type": "execute_result"
    }
   ],
   "source": [
    "df[df.song_name.str.contains(\"CHRISTMAS\",case=False, na=False)].drop_duplicates(subset='song_id').artist_name.nunique()"
   ]
  }
 ],
 "metadata": {
  "kernelspec": {
   "display_name": ".venv",
   "language": "python",
   "name": "python3"
  },
  "language_info": {
   "codemirror_mode": {
    "name": "ipython",
    "version": 3
   },
   "file_extension": ".py",
   "mimetype": "text/x-python",
   "name": "python",
   "nbconvert_exporter": "python",
   "pygments_lexer": "ipython3",
   "version": "3.12.0"
  },
  "orig_nbformat": 4
 },
 "nbformat": 4,
 "nbformat_minor": 2
}
