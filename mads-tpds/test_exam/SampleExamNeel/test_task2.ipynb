{
 "cells": [
  {
   "cell_type": "markdown",
   "metadata": {},
   "source": [
    "# Portfolio Task 2: Programming Test\n"
   ]
  },
  {
   "cell_type": "markdown",
   "metadata": {},
   "source": [
    "# Task 2\n",
    "\n",
    "To solve the following exercises you need the following data files:\n",
    "\n",
    "- **songs.csv** contains details on individual songs: e.g. the song name, artist names, genre, its duration, and more variables\n",
    "- **charts_xx.csv**: there are 4 files, one for each of the countries Germany (de), United States (us), Great Britain (gb) and Spain (es). Each file contains information on the Top 200 Spotify charts for December 24 of the years 2017 to 2022 of that country: e.g. a song identifier, the position in the ranking, and the number of played streams\n",
    "- **charts_backup.csv**: _a backup file that combines all the charts_xx.csv files; to be used ONLY in exercise 6 in case you did not manage to solve exercise 5_\n"
   ]
  },
  {
   "cell_type": "markdown",
   "metadata": {},
   "source": [
    "Import packages\n"
   ]
  },
  {
   "cell_type": "code",
   "execution_count": 5,
   "metadata": {},
   "outputs": [],
   "source": [
    "import pandas as pd\n",
    "import seaborn as sns\n",
    "import matplotlib.pyplot as plt\n",
    "import numpy as np"
   ]
  },
  {
   "cell_type": "markdown",
   "metadata": {},
   "source": [
    "# Exercise 1 (15 points)\n"
   ]
  },
  {
   "cell_type": "markdown",
   "metadata": {},
   "source": [
    "Read the songs data and display the first 5 rows.\n"
   ]
  },
  {
   "cell_type": "code",
   "execution_count": 6,
   "metadata": {},
   "outputs": [
    {
     "ename": "FileNotFoundError",
     "evalue": "[Errno 2] No such file or directory: 'data/songs.csv'",
     "output_type": "error",
     "traceback": [
      "\u001b[0;31m---------------------------------------------------------------------------\u001b[0m",
      "\u001b[0;31mFileNotFoundError\u001b[0m                         Traceback (most recent call last)",
      "Cell \u001b[0;32mIn[6], line 1\u001b[0m\n\u001b[0;32m----> 1\u001b[0m songs_df \u001b[38;5;241m=\u001b[39m \u001b[43mpd\u001b[49m\u001b[38;5;241;43m.\u001b[39;49m\u001b[43mread_csv\u001b[49m\u001b[43m(\u001b[49m\u001b[38;5;124;43m\"\u001b[39;49m\u001b[38;5;124;43mdata/songs.csv\u001b[39;49m\u001b[38;5;124;43m\"\u001b[39;49m\u001b[43m)\u001b[49m\n\u001b[1;32m      2\u001b[0m display(songs_df\u001b[38;5;241m.\u001b[39mhead(\u001b[38;5;241m5\u001b[39m))\n",
      "File \u001b[0;32m~/Desktop/Data_Science_WiSe_24_25/Tools_and_Programming_Languages/tools/lib/python3.12/site-packages/pandas/io/parsers/readers.py:1026\u001b[0m, in \u001b[0;36mread_csv\u001b[0;34m(filepath_or_buffer, sep, delimiter, header, names, index_col, usecols, dtype, engine, converters, true_values, false_values, skipinitialspace, skiprows, skipfooter, nrows, na_values, keep_default_na, na_filter, verbose, skip_blank_lines, parse_dates, infer_datetime_format, keep_date_col, date_parser, date_format, dayfirst, cache_dates, iterator, chunksize, compression, thousands, decimal, lineterminator, quotechar, quoting, doublequote, escapechar, comment, encoding, encoding_errors, dialect, on_bad_lines, delim_whitespace, low_memory, memory_map, float_precision, storage_options, dtype_backend)\u001b[0m\n\u001b[1;32m   1013\u001b[0m kwds_defaults \u001b[38;5;241m=\u001b[39m _refine_defaults_read(\n\u001b[1;32m   1014\u001b[0m     dialect,\n\u001b[1;32m   1015\u001b[0m     delimiter,\n\u001b[0;32m   (...)\u001b[0m\n\u001b[1;32m   1022\u001b[0m     dtype_backend\u001b[38;5;241m=\u001b[39mdtype_backend,\n\u001b[1;32m   1023\u001b[0m )\n\u001b[1;32m   1024\u001b[0m kwds\u001b[38;5;241m.\u001b[39mupdate(kwds_defaults)\n\u001b[0;32m-> 1026\u001b[0m \u001b[38;5;28;01mreturn\u001b[39;00m \u001b[43m_read\u001b[49m\u001b[43m(\u001b[49m\u001b[43mfilepath_or_buffer\u001b[49m\u001b[43m,\u001b[49m\u001b[43m \u001b[49m\u001b[43mkwds\u001b[49m\u001b[43m)\u001b[49m\n",
      "File \u001b[0;32m~/Desktop/Data_Science_WiSe_24_25/Tools_and_Programming_Languages/tools/lib/python3.12/site-packages/pandas/io/parsers/readers.py:620\u001b[0m, in \u001b[0;36m_read\u001b[0;34m(filepath_or_buffer, kwds)\u001b[0m\n\u001b[1;32m    617\u001b[0m _validate_names(kwds\u001b[38;5;241m.\u001b[39mget(\u001b[38;5;124m\"\u001b[39m\u001b[38;5;124mnames\u001b[39m\u001b[38;5;124m\"\u001b[39m, \u001b[38;5;28;01mNone\u001b[39;00m))\n\u001b[1;32m    619\u001b[0m \u001b[38;5;66;03m# Create the parser.\u001b[39;00m\n\u001b[0;32m--> 620\u001b[0m parser \u001b[38;5;241m=\u001b[39m \u001b[43mTextFileReader\u001b[49m\u001b[43m(\u001b[49m\u001b[43mfilepath_or_buffer\u001b[49m\u001b[43m,\u001b[49m\u001b[43m \u001b[49m\u001b[38;5;241;43m*\u001b[39;49m\u001b[38;5;241;43m*\u001b[39;49m\u001b[43mkwds\u001b[49m\u001b[43m)\u001b[49m\n\u001b[1;32m    622\u001b[0m \u001b[38;5;28;01mif\u001b[39;00m chunksize \u001b[38;5;129;01mor\u001b[39;00m iterator:\n\u001b[1;32m    623\u001b[0m     \u001b[38;5;28;01mreturn\u001b[39;00m parser\n",
      "File \u001b[0;32m~/Desktop/Data_Science_WiSe_24_25/Tools_and_Programming_Languages/tools/lib/python3.12/site-packages/pandas/io/parsers/readers.py:1620\u001b[0m, in \u001b[0;36mTextFileReader.__init__\u001b[0;34m(self, f, engine, **kwds)\u001b[0m\n\u001b[1;32m   1617\u001b[0m     \u001b[38;5;28mself\u001b[39m\u001b[38;5;241m.\u001b[39moptions[\u001b[38;5;124m\"\u001b[39m\u001b[38;5;124mhas_index_names\u001b[39m\u001b[38;5;124m\"\u001b[39m] \u001b[38;5;241m=\u001b[39m kwds[\u001b[38;5;124m\"\u001b[39m\u001b[38;5;124mhas_index_names\u001b[39m\u001b[38;5;124m\"\u001b[39m]\n\u001b[1;32m   1619\u001b[0m \u001b[38;5;28mself\u001b[39m\u001b[38;5;241m.\u001b[39mhandles: IOHandles \u001b[38;5;241m|\u001b[39m \u001b[38;5;28;01mNone\u001b[39;00m \u001b[38;5;241m=\u001b[39m \u001b[38;5;28;01mNone\u001b[39;00m\n\u001b[0;32m-> 1620\u001b[0m \u001b[38;5;28mself\u001b[39m\u001b[38;5;241m.\u001b[39m_engine \u001b[38;5;241m=\u001b[39m \u001b[38;5;28;43mself\u001b[39;49m\u001b[38;5;241;43m.\u001b[39;49m\u001b[43m_make_engine\u001b[49m\u001b[43m(\u001b[49m\u001b[43mf\u001b[49m\u001b[43m,\u001b[49m\u001b[43m \u001b[49m\u001b[38;5;28;43mself\u001b[39;49m\u001b[38;5;241;43m.\u001b[39;49m\u001b[43mengine\u001b[49m\u001b[43m)\u001b[49m\n",
      "File \u001b[0;32m~/Desktop/Data_Science_WiSe_24_25/Tools_and_Programming_Languages/tools/lib/python3.12/site-packages/pandas/io/parsers/readers.py:1880\u001b[0m, in \u001b[0;36mTextFileReader._make_engine\u001b[0;34m(self, f, engine)\u001b[0m\n\u001b[1;32m   1878\u001b[0m     \u001b[38;5;28;01mif\u001b[39;00m \u001b[38;5;124m\"\u001b[39m\u001b[38;5;124mb\u001b[39m\u001b[38;5;124m\"\u001b[39m \u001b[38;5;129;01mnot\u001b[39;00m \u001b[38;5;129;01min\u001b[39;00m mode:\n\u001b[1;32m   1879\u001b[0m         mode \u001b[38;5;241m+\u001b[39m\u001b[38;5;241m=\u001b[39m \u001b[38;5;124m\"\u001b[39m\u001b[38;5;124mb\u001b[39m\u001b[38;5;124m\"\u001b[39m\n\u001b[0;32m-> 1880\u001b[0m \u001b[38;5;28mself\u001b[39m\u001b[38;5;241m.\u001b[39mhandles \u001b[38;5;241m=\u001b[39m \u001b[43mget_handle\u001b[49m\u001b[43m(\u001b[49m\n\u001b[1;32m   1881\u001b[0m \u001b[43m    \u001b[49m\u001b[43mf\u001b[49m\u001b[43m,\u001b[49m\n\u001b[1;32m   1882\u001b[0m \u001b[43m    \u001b[49m\u001b[43mmode\u001b[49m\u001b[43m,\u001b[49m\n\u001b[1;32m   1883\u001b[0m \u001b[43m    \u001b[49m\u001b[43mencoding\u001b[49m\u001b[38;5;241;43m=\u001b[39;49m\u001b[38;5;28;43mself\u001b[39;49m\u001b[38;5;241;43m.\u001b[39;49m\u001b[43moptions\u001b[49m\u001b[38;5;241;43m.\u001b[39;49m\u001b[43mget\u001b[49m\u001b[43m(\u001b[49m\u001b[38;5;124;43m\"\u001b[39;49m\u001b[38;5;124;43mencoding\u001b[39;49m\u001b[38;5;124;43m\"\u001b[39;49m\u001b[43m,\u001b[49m\u001b[43m \u001b[49m\u001b[38;5;28;43;01mNone\u001b[39;49;00m\u001b[43m)\u001b[49m\u001b[43m,\u001b[49m\n\u001b[1;32m   1884\u001b[0m \u001b[43m    \u001b[49m\u001b[43mcompression\u001b[49m\u001b[38;5;241;43m=\u001b[39;49m\u001b[38;5;28;43mself\u001b[39;49m\u001b[38;5;241;43m.\u001b[39;49m\u001b[43moptions\u001b[49m\u001b[38;5;241;43m.\u001b[39;49m\u001b[43mget\u001b[49m\u001b[43m(\u001b[49m\u001b[38;5;124;43m\"\u001b[39;49m\u001b[38;5;124;43mcompression\u001b[39;49m\u001b[38;5;124;43m\"\u001b[39;49m\u001b[43m,\u001b[49m\u001b[43m \u001b[49m\u001b[38;5;28;43;01mNone\u001b[39;49;00m\u001b[43m)\u001b[49m\u001b[43m,\u001b[49m\n\u001b[1;32m   1885\u001b[0m \u001b[43m    \u001b[49m\u001b[43mmemory_map\u001b[49m\u001b[38;5;241;43m=\u001b[39;49m\u001b[38;5;28;43mself\u001b[39;49m\u001b[38;5;241;43m.\u001b[39;49m\u001b[43moptions\u001b[49m\u001b[38;5;241;43m.\u001b[39;49m\u001b[43mget\u001b[49m\u001b[43m(\u001b[49m\u001b[38;5;124;43m\"\u001b[39;49m\u001b[38;5;124;43mmemory_map\u001b[39;49m\u001b[38;5;124;43m\"\u001b[39;49m\u001b[43m,\u001b[49m\u001b[43m \u001b[49m\u001b[38;5;28;43;01mFalse\u001b[39;49;00m\u001b[43m)\u001b[49m\u001b[43m,\u001b[49m\n\u001b[1;32m   1886\u001b[0m \u001b[43m    \u001b[49m\u001b[43mis_text\u001b[49m\u001b[38;5;241;43m=\u001b[39;49m\u001b[43mis_text\u001b[49m\u001b[43m,\u001b[49m\n\u001b[1;32m   1887\u001b[0m \u001b[43m    \u001b[49m\u001b[43merrors\u001b[49m\u001b[38;5;241;43m=\u001b[39;49m\u001b[38;5;28;43mself\u001b[39;49m\u001b[38;5;241;43m.\u001b[39;49m\u001b[43moptions\u001b[49m\u001b[38;5;241;43m.\u001b[39;49m\u001b[43mget\u001b[49m\u001b[43m(\u001b[49m\u001b[38;5;124;43m\"\u001b[39;49m\u001b[38;5;124;43mencoding_errors\u001b[39;49m\u001b[38;5;124;43m\"\u001b[39;49m\u001b[43m,\u001b[49m\u001b[43m \u001b[49m\u001b[38;5;124;43m\"\u001b[39;49m\u001b[38;5;124;43mstrict\u001b[39;49m\u001b[38;5;124;43m\"\u001b[39;49m\u001b[43m)\u001b[49m\u001b[43m,\u001b[49m\n\u001b[1;32m   1888\u001b[0m \u001b[43m    \u001b[49m\u001b[43mstorage_options\u001b[49m\u001b[38;5;241;43m=\u001b[39;49m\u001b[38;5;28;43mself\u001b[39;49m\u001b[38;5;241;43m.\u001b[39;49m\u001b[43moptions\u001b[49m\u001b[38;5;241;43m.\u001b[39;49m\u001b[43mget\u001b[49m\u001b[43m(\u001b[49m\u001b[38;5;124;43m\"\u001b[39;49m\u001b[38;5;124;43mstorage_options\u001b[39;49m\u001b[38;5;124;43m\"\u001b[39;49m\u001b[43m,\u001b[49m\u001b[43m \u001b[49m\u001b[38;5;28;43;01mNone\u001b[39;49;00m\u001b[43m)\u001b[49m\u001b[43m,\u001b[49m\n\u001b[1;32m   1889\u001b[0m \u001b[43m\u001b[49m\u001b[43m)\u001b[49m\n\u001b[1;32m   1890\u001b[0m \u001b[38;5;28;01massert\u001b[39;00m \u001b[38;5;28mself\u001b[39m\u001b[38;5;241m.\u001b[39mhandles \u001b[38;5;129;01mis\u001b[39;00m \u001b[38;5;129;01mnot\u001b[39;00m \u001b[38;5;28;01mNone\u001b[39;00m\n\u001b[1;32m   1891\u001b[0m f \u001b[38;5;241m=\u001b[39m \u001b[38;5;28mself\u001b[39m\u001b[38;5;241m.\u001b[39mhandles\u001b[38;5;241m.\u001b[39mhandle\n",
      "File \u001b[0;32m~/Desktop/Data_Science_WiSe_24_25/Tools_and_Programming_Languages/tools/lib/python3.12/site-packages/pandas/io/common.py:873\u001b[0m, in \u001b[0;36mget_handle\u001b[0;34m(path_or_buf, mode, encoding, compression, memory_map, is_text, errors, storage_options)\u001b[0m\n\u001b[1;32m    868\u001b[0m \u001b[38;5;28;01melif\u001b[39;00m \u001b[38;5;28misinstance\u001b[39m(handle, \u001b[38;5;28mstr\u001b[39m):\n\u001b[1;32m    869\u001b[0m     \u001b[38;5;66;03m# Check whether the filename is to be opened in binary mode.\u001b[39;00m\n\u001b[1;32m    870\u001b[0m     \u001b[38;5;66;03m# Binary mode does not support 'encoding' and 'newline'.\u001b[39;00m\n\u001b[1;32m    871\u001b[0m     \u001b[38;5;28;01mif\u001b[39;00m ioargs\u001b[38;5;241m.\u001b[39mencoding \u001b[38;5;129;01mand\u001b[39;00m \u001b[38;5;124m\"\u001b[39m\u001b[38;5;124mb\u001b[39m\u001b[38;5;124m\"\u001b[39m \u001b[38;5;129;01mnot\u001b[39;00m \u001b[38;5;129;01min\u001b[39;00m ioargs\u001b[38;5;241m.\u001b[39mmode:\n\u001b[1;32m    872\u001b[0m         \u001b[38;5;66;03m# Encoding\u001b[39;00m\n\u001b[0;32m--> 873\u001b[0m         handle \u001b[38;5;241m=\u001b[39m \u001b[38;5;28;43mopen\u001b[39;49m\u001b[43m(\u001b[49m\n\u001b[1;32m    874\u001b[0m \u001b[43m            \u001b[49m\u001b[43mhandle\u001b[49m\u001b[43m,\u001b[49m\n\u001b[1;32m    875\u001b[0m \u001b[43m            \u001b[49m\u001b[43mioargs\u001b[49m\u001b[38;5;241;43m.\u001b[39;49m\u001b[43mmode\u001b[49m\u001b[43m,\u001b[49m\n\u001b[1;32m    876\u001b[0m \u001b[43m            \u001b[49m\u001b[43mencoding\u001b[49m\u001b[38;5;241;43m=\u001b[39;49m\u001b[43mioargs\u001b[49m\u001b[38;5;241;43m.\u001b[39;49m\u001b[43mencoding\u001b[49m\u001b[43m,\u001b[49m\n\u001b[1;32m    877\u001b[0m \u001b[43m            \u001b[49m\u001b[43merrors\u001b[49m\u001b[38;5;241;43m=\u001b[39;49m\u001b[43merrors\u001b[49m\u001b[43m,\u001b[49m\n\u001b[1;32m    878\u001b[0m \u001b[43m            \u001b[49m\u001b[43mnewline\u001b[49m\u001b[38;5;241;43m=\u001b[39;49m\u001b[38;5;124;43m\"\u001b[39;49m\u001b[38;5;124;43m\"\u001b[39;49m\u001b[43m,\u001b[49m\n\u001b[1;32m    879\u001b[0m \u001b[43m        \u001b[49m\u001b[43m)\u001b[49m\n\u001b[1;32m    880\u001b[0m     \u001b[38;5;28;01melse\u001b[39;00m:\n\u001b[1;32m    881\u001b[0m         \u001b[38;5;66;03m# Binary mode\u001b[39;00m\n\u001b[1;32m    882\u001b[0m         handle \u001b[38;5;241m=\u001b[39m \u001b[38;5;28mopen\u001b[39m(handle, ioargs\u001b[38;5;241m.\u001b[39mmode)\n",
      "\u001b[0;31mFileNotFoundError\u001b[0m: [Errno 2] No such file or directory: 'data/songs.csv'"
     ]
    }
   ],
   "source": [
    "songs_df = pd.read_csv(\"data/songs.csv\")\n",
    "display(songs_df.head(5))"
   ]
  },
  {
   "cell_type": "markdown",
   "metadata": {},
   "source": [
    "The column `duration_ms` contains the duration of songs in milliseconds. Derive from it a new column `duration` that contains the duration in minutes. Then delete the column `duration_ms`. Display the `song_name`, `artist_names` and `duration` of the 5 longest songs\n"
   ]
  },
  {
   "cell_type": "code",
   "execution_count": null,
   "metadata": {},
   "outputs": [
    {
     "data": {
      "text/html": [
       "<div>\n",
       "<style scoped>\n",
       "    .dataframe tbody tr th:only-of-type {\n",
       "        vertical-align: middle;\n",
       "    }\n",
       "\n",
       "    .dataframe tbody tr th {\n",
       "        vertical-align: top;\n",
       "    }\n",
       "\n",
       "    .dataframe thead th {\n",
       "        text-align: right;\n",
       "    }\n",
       "</style>\n",
       "<table border=\"1\" class=\"dataframe\">\n",
       "  <thead>\n",
       "    <tr style=\"text-align: right;\">\n",
       "      <th></th>\n",
       "      <th>song_name</th>\n",
       "      <th>artist_names</th>\n",
       "      <th>duration</th>\n",
       "    </tr>\n",
       "  </thead>\n",
       "  <tbody>\n",
       "    <tr>\n",
       "      <th>274</th>\n",
       "      <td>All Too Well (10 Minute Version) (Taylor's Ver...</td>\n",
       "      <td>Taylor Swift</td>\n",
       "      <td>10.217117</td>\n",
       "    </tr>\n",
       "    <tr>\n",
       "      <th>1346</th>\n",
       "      <td>Weihnachtsoratorium, BWV 248: Part I: For the ...</td>\n",
       "      <td>Johann Sebastian Bach, Nikolaus Harnoncourt</td>\n",
       "      <td>7.977550</td>\n",
       "    </tr>\n",
       "    <tr>\n",
       "      <th>789</th>\n",
       "      <td>105 F Remix</td>\n",
       "      <td>KEVVO, Farruko, Chencho Corleone, Arcangel, Da...</td>\n",
       "      <td>7.736667</td>\n",
       "    </tr>\n",
       "    <tr>\n",
       "      <th>620</th>\n",
       "      <td>Only Fans - Remix</td>\n",
       "      <td>Young Martino, Lunay, Myke Towers, Jhay Cortez...</td>\n",
       "      <td>7.042950</td>\n",
       "    </tr>\n",
       "    <tr>\n",
       "      <th>1256</th>\n",
       "      <td>Te Boté - Remix</td>\n",
       "      <td>Nio Garcia, Casper Magico, Bad Bunny, Darell, ...</td>\n",
       "      <td>6.965333</td>\n",
       "    </tr>\n",
       "  </tbody>\n",
       "</table>\n",
       "</div>"
      ],
      "text/plain": [
       "                                              song_name  \\\n",
       "274   All Too Well (10 Minute Version) (Taylor's Ver...   \n",
       "1346  Weihnachtsoratorium, BWV 248: Part I: For the ...   \n",
       "789                                         105 F Remix   \n",
       "620                                   Only Fans - Remix   \n",
       "1256                                    Te Boté - Remix   \n",
       "\n",
       "                                           artist_names   duration  \n",
       "274                                        Taylor Swift  10.217117  \n",
       "1346        Johann Sebastian Bach, Nikolaus Harnoncourt   7.977550  \n",
       "789   KEVVO, Farruko, Chencho Corleone, Arcangel, Da...   7.736667  \n",
       "620   Young Martino, Lunay, Myke Towers, Jhay Cortez...   7.042950  \n",
       "1256  Nio Garcia, Casper Magico, Bad Bunny, Darell, ...   6.965333  "
      ]
     },
     "execution_count": 3,
     "metadata": {},
     "output_type": "execute_result"
    }
   ],
   "source": [
    "songs_df[\"duration\"] = songs_df[\"duration_ms\"].map(lambda x: x / 1000 / 60)\n",
    "songs_df.drop(columns=[\"duration_ms\"], axis=1, inplace=True)\n",
    "songs_df.sort_values(by=[\"duration\"], ascending=False, inplace=True)\n",
    "songs_df[[\"song_name\", \"artist_names\", \"duration\"]].head(5)"
   ]
  },
  {
   "cell_type": "markdown",
   "metadata": {},
   "source": [
    "# Exercise 2 (15 points)\n"
   ]
  },
  {
   "cell_type": "markdown",
   "metadata": {},
   "source": [
    "Songs can be uniquely identified via their `song_id`, while a given `song_name` may be performed by several, different artists.\n",
    "How many song_ids and how many different song_names are contained in the data set? Print a short answer text.\n"
   ]
  },
  {
   "cell_type": "code",
   "execution_count": null,
   "metadata": {},
   "outputs": [
    {
     "name": "stdout",
     "output_type": "stream",
     "text": [
      "There are 2132 different songs.\n",
      "And there are 1851 unique song names in the data set.\n"
     ]
    }
   ],
   "source": [
    "print(\n",
    "    f\"There are {songs_df['song_id'].nunique()} different songs.\\nAnd there are {songs_df['song_name'].nunique()} unique song names in the data set.\"\n",
    ")"
   ]
  },
  {
   "cell_type": "markdown",
   "metadata": {},
   "source": [
    "Which `song_name` is the most frequent? Display a subset of the songs data set that contains only rows with this song name.\n"
   ]
  },
  {
   "cell_type": "code",
   "execution_count": null,
   "metadata": {},
   "outputs": [
    {
     "data": {
      "text/html": [
       "<div>\n",
       "<style scoped>\n",
       "    .dataframe tbody tr th:only-of-type {\n",
       "        vertical-align: middle;\n",
       "    }\n",
       "\n",
       "    .dataframe tbody tr th {\n",
       "        vertical-align: top;\n",
       "    }\n",
       "\n",
       "    .dataframe thead th {\n",
       "        text-align: right;\n",
       "    }\n",
       "</style>\n",
       "<table border=\"1\" class=\"dataframe\">\n",
       "  <thead>\n",
       "    <tr style=\"text-align: right;\">\n",
       "      <th></th>\n",
       "      <th>song_id</th>\n",
       "      <th>song_name</th>\n",
       "      <th>artist_names</th>\n",
       "      <th>genre</th>\n",
       "      <th>danceability</th>\n",
       "      <th>valence</th>\n",
       "      <th>tempo</th>\n",
       "      <th>explicit</th>\n",
       "      <th>lyrics</th>\n",
       "      <th>duration</th>\n",
       "    </tr>\n",
       "  </thead>\n",
       "  <tbody>\n",
       "    <tr>\n",
       "      <th>791</th>\n",
       "      <td>6RU4NdFcF1BsXR7PvHIdb0</td>\n",
       "      <td>Winter Wonderland</td>\n",
       "      <td>Sam Feldt</td>\n",
       "      <td>House</td>\n",
       "      <td>0.412</td>\n",
       "      <td>0.388</td>\n",
       "      <td>119.094</td>\n",
       "      <td>False</td>\n",
       "      <td>In the lane snow is glistening \\n A beautiful ...</td>\n",
       "      <td>3.065033</td>\n",
       "    </tr>\n",
       "    <tr>\n",
       "      <th>1351</th>\n",
       "      <td>5iZ3pb0ZqlLJyFIcNUh683</td>\n",
       "      <td>Winter Wonderland</td>\n",
       "      <td>Sam Feldt</td>\n",
       "      <td>House</td>\n",
       "      <td>0.411</td>\n",
       "      <td>0.387</td>\n",
       "      <td>119.276</td>\n",
       "      <td>False</td>\n",
       "      <td>In the lane snow is glistening \\n A beautiful ...</td>\n",
       "      <td>3.065033</td>\n",
       "    </tr>\n",
       "    <tr>\n",
       "      <th>645</th>\n",
       "      <td>6KsFSrVS3DwG4xNAPQvznC</td>\n",
       "      <td>Winter Wonderland</td>\n",
       "      <td>Hannah Kerr</td>\n",
       "      <td>christian</td>\n",
       "      <td>0.676</td>\n",
       "      <td>0.470</td>\n",
       "      <td>124.891</td>\n",
       "      <td>False</td>\n",
       "      <td>Sleigh bells ring, are you listenin'? \\n In th...</td>\n",
       "      <td>2.626667</td>\n",
       "    </tr>\n",
       "    <tr>\n",
       "      <th>2130</th>\n",
       "      <td>4hNouIhwvI8FKeEMeWEvbg</td>\n",
       "      <td>Winter Wonderland</td>\n",
       "      <td>Michael Bublé</td>\n",
       "      <td>jazz</td>\n",
       "      <td>0.443</td>\n",
       "      <td>0.380</td>\n",
       "      <td>123.930</td>\n",
       "      <td>False</td>\n",
       "      <td>In the lane, snow is glistening \\n A beautiful...</td>\n",
       "      <td>2.514683</td>\n",
       "    </tr>\n",
       "    <tr>\n",
       "      <th>2102</th>\n",
       "      <td>3I8gyGzky4CvtyAt27T3dh</td>\n",
       "      <td>Winter Wonderland</td>\n",
       "      <td>Michael Bublé</td>\n",
       "      <td>jazz</td>\n",
       "      <td>0.462</td>\n",
       "      <td>0.387</td>\n",
       "      <td>123.648</td>\n",
       "      <td>False</td>\n",
       "      <td>In the lane, snow is glistening \\n A beautiful...</td>\n",
       "      <td>2.490883</td>\n",
       "    </tr>\n",
       "    <tr>\n",
       "      <th>1899</th>\n",
       "      <td>6kkJlaBYdyFcwCg67hW40t</td>\n",
       "      <td>Winter Wonderland</td>\n",
       "      <td>Tony Bennett, Lady Gaga</td>\n",
       "      <td>jazz</td>\n",
       "      <td>0.604</td>\n",
       "      <td>0.720</td>\n",
       "      <td>126.011</td>\n",
       "      <td>False</td>\n",
       "      <td>Sleigh bells ring, are you listening? \\n In th...</td>\n",
       "      <td>2.488450</td>\n",
       "    </tr>\n",
       "    <tr>\n",
       "      <th>2069</th>\n",
       "      <td>4FEzG5IQh9vt6nPhXwwVmj</td>\n",
       "      <td>Winter Wonderland</td>\n",
       "      <td>Tony Bennett, Lady Gaga</td>\n",
       "      <td>jazz</td>\n",
       "      <td>0.604</td>\n",
       "      <td>0.720</td>\n",
       "      <td>126.011</td>\n",
       "      <td>False</td>\n",
       "      <td>Sleigh bells ring, are you listening? \\n In th...</td>\n",
       "      <td>2.488450</td>\n",
       "    </tr>\n",
       "    <tr>\n",
       "      <th>560</th>\n",
       "      <td>51KCex2aoD4Ni2cRF5mFWe</td>\n",
       "      <td>Winter Wonderland</td>\n",
       "      <td>Darlene Love</td>\n",
       "      <td>soul</td>\n",
       "      <td>0.487</td>\n",
       "      <td>0.447</td>\n",
       "      <td>122.306</td>\n",
       "      <td>False</td>\n",
       "      <td>In the lane, snow is glistenin' \\n A beautiful...</td>\n",
       "      <td>2.434667</td>\n",
       "    </tr>\n",
       "    <tr>\n",
       "      <th>877</th>\n",
       "      <td>5VEuraNSVxMTzDTtrmL3lQ</td>\n",
       "      <td>Winter Wonderland</td>\n",
       "      <td>Bing Crosby</td>\n",
       "      <td>jazz</td>\n",
       "      <td>0.648</td>\n",
       "      <td>0.503</td>\n",
       "      <td>125.526</td>\n",
       "      <td>False</td>\n",
       "      <td>Sleigh bells ring, are you listening (Doo) \\n ...</td>\n",
       "      <td>2.413783</td>\n",
       "    </tr>\n",
       "    <tr>\n",
       "      <th>58</th>\n",
       "      <td>1YBItUnKj01KBXhpFtvINp</td>\n",
       "      <td>Winter Wonderland</td>\n",
       "      <td>Leona Lewis</td>\n",
       "      <td>pop</td>\n",
       "      <td>0.404</td>\n",
       "      <td>0.682</td>\n",
       "      <td>122.549</td>\n",
       "      <td>False</td>\n",
       "      <td>In the lane snow is glist'nin \\n A beautiful s...</td>\n",
       "      <td>2.402217</td>\n",
       "    </tr>\n",
       "    <tr>\n",
       "      <th>852</th>\n",
       "      <td>4ricyQVd20UQde1jpXCSuJ</td>\n",
       "      <td>Winter Wonderland</td>\n",
       "      <td>Tony Bennett</td>\n",
       "      <td>jazz</td>\n",
       "      <td>0.452</td>\n",
       "      <td>0.629</td>\n",
       "      <td>114.993</td>\n",
       "      <td>False</td>\n",
       "      <td>In the lane, snow is glistening \\n A beautiful...</td>\n",
       "      <td>2.231117</td>\n",
       "    </tr>\n",
       "    <tr>\n",
       "      <th>294</th>\n",
       "      <td>1yxcKrEcxt4O03IIC25yHk</td>\n",
       "      <td>Winter Wonderland</td>\n",
       "      <td>Tony Bennett</td>\n",
       "      <td>jazz</td>\n",
       "      <td>0.453</td>\n",
       "      <td>0.586</td>\n",
       "      <td>116.098</td>\n",
       "      <td>False</td>\n",
       "      <td>In the lane, snow is glistening \\n A beautiful...</td>\n",
       "      <td>2.220217</td>\n",
       "    </tr>\n",
       "  </tbody>\n",
       "</table>\n",
       "</div>"
      ],
      "text/plain": [
       "                     song_id          song_name             artist_names  \\\n",
       "791   6RU4NdFcF1BsXR7PvHIdb0  Winter Wonderland                Sam Feldt   \n",
       "1351  5iZ3pb0ZqlLJyFIcNUh683  Winter Wonderland                Sam Feldt   \n",
       "645   6KsFSrVS3DwG4xNAPQvznC  Winter Wonderland              Hannah Kerr   \n",
       "2130  4hNouIhwvI8FKeEMeWEvbg  Winter Wonderland            Michael Bublé   \n",
       "2102  3I8gyGzky4CvtyAt27T3dh  Winter Wonderland            Michael Bublé   \n",
       "1899  6kkJlaBYdyFcwCg67hW40t  Winter Wonderland  Tony Bennett, Lady Gaga   \n",
       "2069  4FEzG5IQh9vt6nPhXwwVmj  Winter Wonderland  Tony Bennett, Lady Gaga   \n",
       "560   51KCex2aoD4Ni2cRF5mFWe  Winter Wonderland             Darlene Love   \n",
       "877   5VEuraNSVxMTzDTtrmL3lQ  Winter Wonderland              Bing Crosby   \n",
       "58    1YBItUnKj01KBXhpFtvINp  Winter Wonderland              Leona Lewis   \n",
       "852   4ricyQVd20UQde1jpXCSuJ  Winter Wonderland             Tony Bennett   \n",
       "294   1yxcKrEcxt4O03IIC25yHk  Winter Wonderland             Tony Bennett   \n",
       "\n",
       "          genre  danceability  valence    tempo explicit  \\\n",
       "791       House         0.412    0.388  119.094    False   \n",
       "1351      House         0.411    0.387  119.276    False   \n",
       "645   christian         0.676    0.470  124.891    False   \n",
       "2130       jazz         0.443    0.380  123.930    False   \n",
       "2102       jazz         0.462    0.387  123.648    False   \n",
       "1899       jazz         0.604    0.720  126.011    False   \n",
       "2069       jazz         0.604    0.720  126.011    False   \n",
       "560        soul         0.487    0.447  122.306    False   \n",
       "877        jazz         0.648    0.503  125.526    False   \n",
       "58          pop         0.404    0.682  122.549    False   \n",
       "852        jazz         0.452    0.629  114.993    False   \n",
       "294        jazz         0.453    0.586  116.098    False   \n",
       "\n",
       "                                                 lyrics  duration  \n",
       "791   In the lane snow is glistening \\n A beautiful ...  3.065033  \n",
       "1351  In the lane snow is glistening \\n A beautiful ...  3.065033  \n",
       "645   Sleigh bells ring, are you listenin'? \\n In th...  2.626667  \n",
       "2130  In the lane, snow is glistening \\n A beautiful...  2.514683  \n",
       "2102  In the lane, snow is glistening \\n A beautiful...  2.490883  \n",
       "1899  Sleigh bells ring, are you listening? \\n In th...  2.488450  \n",
       "2069  Sleigh bells ring, are you listening? \\n In th...  2.488450  \n",
       "560   In the lane, snow is glistenin' \\n A beautiful...  2.434667  \n",
       "877   Sleigh bells ring, are you listening (Doo) \\n ...  2.413783  \n",
       "58    In the lane snow is glist'nin \\n A beautiful s...  2.402217  \n",
       "852   In the lane, snow is glistening \\n A beautiful...  2.231117  \n",
       "294   In the lane, snow is glistening \\n A beautiful...  2.220217  "
      ]
     },
     "execution_count": 5,
     "metadata": {},
     "output_type": "execute_result"
    }
   ],
   "source": [
    "songs_df[songs_df[\"song_name\"] == songs_df[\"song_name\"].value_counts().index[0]]"
   ]
  },
  {
   "cell_type": "markdown",
   "metadata": {},
   "source": [
    "# Exercise 3 (15 points)\n"
   ]
  },
  {
   "cell_type": "markdown",
   "metadata": {},
   "source": [
    "Calculate the average `tempo` per genre, and display the 5 genres with the highest average tempo.\n"
   ]
  },
  {
   "cell_type": "code",
   "execution_count": null,
   "metadata": {},
   "outputs": [
    {
     "data": {
      "text/plain": [
       "genre\n",
       "Corridos tumbados    200.156\n",
       "Rock and Roll        190.448\n",
       "Psychedelic Rock     182.008\n",
       "Classical            177.171\n",
       "hardstyle            172.000\n",
       "Name: tempo, dtype: float64"
      ]
     },
     "execution_count": 6,
     "metadata": {},
     "output_type": "execute_result"
    }
   ],
   "source": [
    "songs_df.groupby(by=[\"genre\"]).tempo.mean().sort_values(ascending=False).head(5)"
   ]
  },
  {
   "cell_type": "markdown",
   "metadata": {},
   "source": [
    "If a song is marked as `explicit`, it means that it contains strong language, reference to violence, sexual activity, etc. What percentage of songs are marked as `explicit`? Print a short answer text.\n"
   ]
  },
  {
   "cell_type": "code",
   "execution_count": null,
   "metadata": {},
   "outputs": [
    {
     "name": "stdout",
     "output_type": "stream",
     "text": [
      "29.221388367729833% of songs are explicit.\n"
     ]
    }
   ],
   "source": [
    "explicit_song_percentage = (\n",
    "    (songs_df.explicit.map(lambda x: 1 if x == \"True\" else 0).sum())\n",
    "    / len(songs_df)\n",
    "    * 100\n",
    ")\n",
    "print(f\"{explicit_song_percentage}% of songs are explicit.\")"
   ]
  },
  {
   "cell_type": "markdown",
   "metadata": {},
   "source": [
    "# Exercise 4 (15 points)\n"
   ]
  },
  {
   "cell_type": "markdown",
   "metadata": {},
   "source": [
    "How many songs use the words \"Christmas\" in the lyrics? Print a short answer text.\n"
   ]
  },
  {
   "cell_type": "code",
   "execution_count": null,
   "metadata": {},
   "outputs": [
    {
     "name": "stdout",
     "output_type": "stream",
     "text": [
      "280 songs use the words \"Christmas\" in the lyrics\n"
     ]
    }
   ],
   "source": [
    "print(\n",
    "    len(songs_df[songs_df[\"lyrics\"].str.contains(\"Christmas\").fillna(False)]),\n",
    "    'songs use the words \"Christmas\" in the lyrics',\n",
    ")"
   ]
  },
  {
   "cell_type": "markdown",
   "metadata": {},
   "source": [
    "Count for each song how often the word \"love\" occurs in the `lyrics`. Display the `song_name`, `artist_names` and the number of occurrences of \"love\" for the 5 songs with the highest number of occurences.\n"
   ]
  },
  {
   "cell_type": "code",
   "execution_count": null,
   "metadata": {},
   "outputs": [
    {
     "data": {
      "text/html": [
       "<div>\n",
       "<style scoped>\n",
       "    .dataframe tbody tr th:only-of-type {\n",
       "        vertical-align: middle;\n",
       "    }\n",
       "\n",
       "    .dataframe tbody tr th {\n",
       "        vertical-align: top;\n",
       "    }\n",
       "\n",
       "    .dataframe thead th {\n",
       "        text-align: right;\n",
       "    }\n",
       "</style>\n",
       "<table border=\"1\" class=\"dataframe\">\n",
       "  <thead>\n",
       "    <tr style=\"text-align: right;\">\n",
       "      <th></th>\n",
       "      <th>song_name</th>\n",
       "      <th>artist_names</th>\n",
       "      <th>love_count</th>\n",
       "    </tr>\n",
       "  </thead>\n",
       "  <tbody>\n",
       "    <tr>\n",
       "      <th>2099</th>\n",
       "      <td>My Lover</td>\n",
       "      <td>Not3s</td>\n",
       "      <td>55</td>\n",
       "    </tr>\n",
       "    <tr>\n",
       "      <th>929</th>\n",
       "      <td>Lose You To Love Me</td>\n",
       "      <td>Selena Gomez</td>\n",
       "      <td>48</td>\n",
       "    </tr>\n",
       "    <tr>\n",
       "      <th>1666</th>\n",
       "      <td>Is Your Love Enough?</td>\n",
       "      <td>Little Mix</td>\n",
       "      <td>32</td>\n",
       "    </tr>\n",
       "    <tr>\n",
       "      <th>514</th>\n",
       "      <td>Shape of You</td>\n",
       "      <td>Ed Sheeran</td>\n",
       "      <td>26</td>\n",
       "    </tr>\n",
       "    <tr>\n",
       "      <th>1091</th>\n",
       "      <td>SPIT IN MY FACE!</td>\n",
       "      <td>ThxSoMch</td>\n",
       "      <td>26</td>\n",
       "    </tr>\n",
       "  </tbody>\n",
       "</table>\n",
       "</div>"
      ],
      "text/plain": [
       "                 song_name  artist_names  love_count\n",
       "2099              My Lover         Not3s          55\n",
       "929    Lose You To Love Me  Selena Gomez          48\n",
       "1666  Is Your Love Enough?    Little Mix          32\n",
       "514           Shape of You    Ed Sheeran          26\n",
       "1091      SPIT IN MY FACE!      ThxSoMch          26"
      ]
     },
     "execution_count": 9,
     "metadata": {},
     "output_type": "execute_result"
    }
   ],
   "source": [
    "def get_love_count_from_lyrics(lyrics):\n",
    "    if type(lyrics) == float:\n",
    "        return 0\n",
    "    return len(lyrics.split(\"love\")) - 1  # x\n",
    "\n",
    "\n",
    "songs_df[\"love_count\"] = songs_df.lyrics.transform(get_love_count_from_lyrics)\n",
    "songs_df[[\"song_name\", \"artist_names\", \"love_count\"]].sort_values(\n",
    "    \"love_count\", ascending=False\n",
    ").head(5)"
   ]
  },
  {
   "cell_type": "markdown",
   "metadata": {},
   "source": [
    "# Exercise 5 (25 points)\n"
   ]
  },
  {
   "cell_type": "markdown",
   "metadata": {},
   "source": [
    "The files `charts_xx.csv` contain the top 200 songs of the respective country (de: Germany, us: United States, gb: Great Britain, es: Spain ) on the days December 24 of the years 2017 - 2022.\n",
    "\n",
    "Read in the four data sets and combine them appropriately into a single \"tidy\" data frame. Avoid repetitions in your code as much as possible.\n"
   ]
  },
  {
   "cell_type": "code",
   "execution_count": null,
   "metadata": {},
   "outputs": [
    {
     "data": {
      "text/html": [
       "<div>\n",
       "<style scoped>\n",
       "    .dataframe tbody tr th:only-of-type {\n",
       "        vertical-align: middle;\n",
       "    }\n",
       "\n",
       "    .dataframe tbody tr th {\n",
       "        vertical-align: top;\n",
       "    }\n",
       "\n",
       "    .dataframe thead th {\n",
       "        text-align: right;\n",
       "    }\n",
       "</style>\n",
       "<table border=\"1\" class=\"dataframe\">\n",
       "  <thead>\n",
       "    <tr style=\"text-align: right;\">\n",
       "      <th></th>\n",
       "      <th>date</th>\n",
       "      <th>position</th>\n",
       "      <th>song_id</th>\n",
       "      <th>song_name</th>\n",
       "      <th>artist_names</th>\n",
       "      <th>streams</th>\n",
       "    </tr>\n",
       "  </thead>\n",
       "  <tbody>\n",
       "    <tr>\n",
       "      <th>0</th>\n",
       "      <td>2022-12-24</td>\n",
       "      <td>1.0</td>\n",
       "      <td>0bYg9bo50gSsH3LtXe2SQn</td>\n",
       "      <td>All I Want for Christmas Is You</td>\n",
       "      <td>Mariah Carey</td>\n",
       "      <td>3267242</td>\n",
       "    </tr>\n",
       "    <tr>\n",
       "      <th>1</th>\n",
       "      <td>2022-12-24</td>\n",
       "      <td>2.0</td>\n",
       "      <td>2FRnf9qhLbvw8fu4IBXx78</td>\n",
       "      <td>Last Christmas</td>\n",
       "      <td>Wham!</td>\n",
       "      <td>3217134</td>\n",
       "    </tr>\n",
       "    <tr>\n",
       "      <th>2</th>\n",
       "      <td>2022-12-24</td>\n",
       "      <td>3.0</td>\n",
       "      <td>2TE4xW3ImvpltVU0cPcKUn</td>\n",
       "      <td>Merry Christmas Everyone</td>\n",
       "      <td>Shakin' Stevens</td>\n",
       "      <td>2797277</td>\n",
       "    </tr>\n",
       "    <tr>\n",
       "      <th>3</th>\n",
       "      <td>2022-12-24</td>\n",
       "      <td>4.0</td>\n",
       "      <td>1rv46mRwDqMEhOBZ7vODg3</td>\n",
       "      <td>It's Beginning to Look a Lot like Christmas</td>\n",
       "      <td>Michael Bublé</td>\n",
       "      <td>2350886</td>\n",
       "    </tr>\n",
       "    <tr>\n",
       "      <th>4</th>\n",
       "      <td>2022-12-24</td>\n",
       "      <td>5.0</td>\n",
       "      <td>27qAMKrDdKEs8HDXcvR24R</td>\n",
       "      <td>Driving Home for Christmas - 2019 Remaster</td>\n",
       "      <td>Chris Rea</td>\n",
       "      <td>2317764</td>\n",
       "    </tr>\n",
       "    <tr>\n",
       "      <th>...</th>\n",
       "      <td>...</td>\n",
       "      <td>...</td>\n",
       "      <td>...</td>\n",
       "      <td>...</td>\n",
       "      <td>...</td>\n",
       "      <td>...</td>\n",
       "    </tr>\n",
       "    <tr>\n",
       "      <th>1193</th>\n",
       "      <td>2018-12-24</td>\n",
       "      <td>196.0</td>\n",
       "      <td>4b7DRSar2SjP6TI2AVkb1D</td>\n",
       "      <td>Schneeflöckchen, Weissröckchen</td>\n",
       "      <td>Rolf Zuckowski</td>\n",
       "      <td>106745</td>\n",
       "    </tr>\n",
       "    <tr>\n",
       "      <th>1194</th>\n",
       "      <td>2018-12-24</td>\n",
       "      <td>197.0</td>\n",
       "      <td>44mYhOVgerj2qPjkGDVA6n</td>\n",
       "      <td>It's Beginning To Look Like Christmas</td>\n",
       "      <td>Bing Crosby</td>\n",
       "      <td>106598</td>\n",
       "    </tr>\n",
       "    <tr>\n",
       "      <th>1195</th>\n",
       "      <td>2018-12-24</td>\n",
       "      <td>198.0</td>\n",
       "      <td>5UhZzVVN80wpa08kzCJHBh</td>\n",
       "      <td>O Come All Ye Faithful</td>\n",
       "      <td>Art Garfunkel</td>\n",
       "      <td>105995</td>\n",
       "    </tr>\n",
       "    <tr>\n",
       "      <th>1196</th>\n",
       "      <td>2018-12-24</td>\n",
       "      <td>199.0</td>\n",
       "      <td>1JCxZ01QTK8UySsNK3xr9u</td>\n",
       "      <td>Joy to the World</td>\n",
       "      <td>Johnny Cash</td>\n",
       "      <td>105815</td>\n",
       "    </tr>\n",
       "    <tr>\n",
       "      <th>1197</th>\n",
       "      <td>2018-12-24</td>\n",
       "      <td>200.0</td>\n",
       "      <td>1dinW5tLGDdPhxtW8vMkUn</td>\n",
       "      <td>Christmas Time Is Here - Recorded at Sound Emp...</td>\n",
       "      <td>Devin Dawson</td>\n",
       "      <td>105474</td>\n",
       "    </tr>\n",
       "  </tbody>\n",
       "</table>\n",
       "<p>1198 rows × 6 columns</p>\n",
       "</div>"
      ],
      "text/plain": [
       "            date  position                 song_id  \\\n",
       "0     2022-12-24       1.0  0bYg9bo50gSsH3LtXe2SQn   \n",
       "1     2022-12-24       2.0  2FRnf9qhLbvw8fu4IBXx78   \n",
       "2     2022-12-24       3.0  2TE4xW3ImvpltVU0cPcKUn   \n",
       "3     2022-12-24       4.0  1rv46mRwDqMEhOBZ7vODg3   \n",
       "4     2022-12-24       5.0  27qAMKrDdKEs8HDXcvR24R   \n",
       "...          ...       ...                     ...   \n",
       "1193  2018-12-24     196.0  4b7DRSar2SjP6TI2AVkb1D   \n",
       "1194  2018-12-24     197.0  44mYhOVgerj2qPjkGDVA6n   \n",
       "1195  2018-12-24     198.0  5UhZzVVN80wpa08kzCJHBh   \n",
       "1196  2018-12-24     199.0  1JCxZ01QTK8UySsNK3xr9u   \n",
       "1197  2018-12-24     200.0  1dinW5tLGDdPhxtW8vMkUn   \n",
       "\n",
       "                                              song_name     artist_names  \\\n",
       "0                       All I Want for Christmas Is You     Mariah Carey   \n",
       "1                                        Last Christmas            Wham!   \n",
       "2                              Merry Christmas Everyone  Shakin' Stevens   \n",
       "3           It's Beginning to Look a Lot like Christmas    Michael Bublé   \n",
       "4            Driving Home for Christmas - 2019 Remaster        Chris Rea   \n",
       "...                                                 ...              ...   \n",
       "1193                     Schneeflöckchen, Weissröckchen   Rolf Zuckowski   \n",
       "1194              It's Beginning To Look Like Christmas      Bing Crosby   \n",
       "1195                             O Come All Ye Faithful    Art Garfunkel   \n",
       "1196                                   Joy to the World      Johnny Cash   \n",
       "1197  Christmas Time Is Here - Recorded at Sound Emp...     Devin Dawson   \n",
       "\n",
       "      streams  \n",
       "0     3267242  \n",
       "1     3217134  \n",
       "2     2797277  \n",
       "3     2350886  \n",
       "4     2317764  \n",
       "...       ...  \n",
       "1193   106745  \n",
       "1194   106598  \n",
       "1195   105995  \n",
       "1196   105815  \n",
       "1197   105474  \n",
       "\n",
       "[1198 rows x 6 columns]"
      ]
     },
     "execution_count": 10,
     "metadata": {},
     "output_type": "execute_result"
    }
   ],
   "source": [
    "charts_df = pd.DataFrame()\n",
    "charts = {}\n",
    "countries = [\"de\", \"es\", \"gb\", \"us\"]\n",
    "for country in countries:\n",
    "    charts[country] = pd.read_csv(f\"data/charts_{country}.csv\")\n",
    "    if len(charts_df) <= 0:\n",
    "        charts_df = charts[country]\n",
    "    else:\n",
    "        pd.merge(charts_df, charts[country], \"left\", \"song_id\")\n",
    "charts_df"
   ]
  },
  {
   "cell_type": "markdown",
   "metadata": {},
   "source": [
    "Display the total number of streams per country on the date 2022-12-24\n"
   ]
  },
  {
   "cell_type": "code",
   "execution_count": null,
   "metadata": {},
   "outputs": [
    {
     "data": {
      "text/html": [
       "<div>\n",
       "<style scoped>\n",
       "    .dataframe tbody tr th:only-of-type {\n",
       "        vertical-align: middle;\n",
       "    }\n",
       "\n",
       "    .dataframe tbody tr th {\n",
       "        vertical-align: top;\n",
       "    }\n",
       "\n",
       "    .dataframe thead th {\n",
       "        text-align: right;\n",
       "    }\n",
       "</style>\n",
       "<table border=\"1\" class=\"dataframe\">\n",
       "  <thead>\n",
       "    <tr style=\"text-align: right;\">\n",
       "      <th></th>\n",
       "      <th>streams on 2022-12-24</th>\n",
       "    </tr>\n",
       "  </thead>\n",
       "  <tbody>\n",
       "    <tr>\n",
       "      <th>de</th>\n",
       "      <td>108837012</td>\n",
       "    </tr>\n",
       "    <tr>\n",
       "      <th>es</th>\n",
       "      <td>31182666</td>\n",
       "    </tr>\n",
       "    <tr>\n",
       "      <th>gb</th>\n",
       "      <td>59695507</td>\n",
       "    </tr>\n",
       "    <tr>\n",
       "      <th>us</th>\n",
       "      <td>161514161</td>\n",
       "    </tr>\n",
       "  </tbody>\n",
       "</table>\n",
       "</div>"
      ],
      "text/plain": [
       "    streams on 2022-12-24\n",
       "de              108837012\n",
       "es               31182666\n",
       "gb               59695507\n",
       "us              161514161"
      ]
     },
     "execution_count": 11,
     "metadata": {},
     "output_type": "execute_result"
    }
   ],
   "source": [
    "def calc_streams_per_country(date=None):\n",
    "    streams = {}\n",
    "    for country in countries:\n",
    "        df = charts[country]\n",
    "        if date:\n",
    "            df = df[df.date == \"2022-12-24\"]\n",
    "        streams[country] = df.streams.sum()\n",
    "    return streams\n",
    "\n",
    "\n",
    "pd.DataFrame.from_dict(\n",
    "    calc_streams_per_country(\"2022-12-24\"),\n",
    "    orient=\"index\",\n",
    "    columns=[\"streams on 2022-12-24\"],\n",
    ")"
   ]
  },
  {
   "cell_type": "markdown",
   "metadata": {},
   "source": [
    "# Exercise 6 (15 points)\n"
   ]
  },
  {
   "cell_type": "markdown",
   "metadata": {},
   "source": [
    "Calculate the average `danceability` and the total number of `streams` per country.\n",
    "\n",
    "Notes:\n",
    "\n",
    "- For this task you need to combine the songs and charts DataFrames appropriately into a single DataFrame.\n",
    "- If you did not manage to solve exercise 5, you can use the file `charts_backup.csv`.\n"
   ]
  },
  {
   "cell_type": "code",
   "execution_count": null,
   "metadata": {},
   "outputs": [
    {
     "data": {
      "text/html": [
       "<div>\n",
       "<style scoped>\n",
       "    .dataframe tbody tr th:only-of-type {\n",
       "        vertical-align: middle;\n",
       "    }\n",
       "\n",
       "    .dataframe tbody tr th {\n",
       "        vertical-align: top;\n",
       "    }\n",
       "\n",
       "    .dataframe thead th {\n",
       "        text-align: right;\n",
       "    }\n",
       "</style>\n",
       "<table border=\"1\" class=\"dataframe\">\n",
       "  <thead>\n",
       "    <tr style=\"text-align: right;\">\n",
       "      <th></th>\n",
       "      <th>total streams</th>\n",
       "      <th>average daceability</th>\n",
       "    </tr>\n",
       "    <tr>\n",
       "      <th>index</th>\n",
       "      <th></th>\n",
       "      <th></th>\n",
       "    </tr>\n",
       "  </thead>\n",
       "  <tbody>\n",
       "    <tr>\n",
       "      <th>de</th>\n",
       "      <td>491345726</td>\n",
       "      <td>0.553947</td>\n",
       "    </tr>\n",
       "    <tr>\n",
       "      <th>es</th>\n",
       "      <td>134341837</td>\n",
       "      <td>0.679203</td>\n",
       "    </tr>\n",
       "    <tr>\n",
       "      <th>gb</th>\n",
       "      <td>286075531</td>\n",
       "      <td>0.572602</td>\n",
       "    </tr>\n",
       "    <tr>\n",
       "      <th>us</th>\n",
       "      <td>747236256</td>\n",
       "      <td>0.598899</td>\n",
       "    </tr>\n",
       "  </tbody>\n",
       "</table>\n",
       "</div>"
      ],
      "text/plain": [
       "       total streams  average daceability\n",
       "index                                    \n",
       "de         491345726             0.553947\n",
       "es         134341837             0.679203\n",
       "gb         286075531             0.572602\n",
       "us         747236256             0.598899"
      ]
     },
     "execution_count": 12,
     "metadata": {},
     "output_type": "execute_result"
    }
   ],
   "source": [
    "def calc_avg_danceability_per_country():\n",
    "    danceability = {}\n",
    "    for country in countries:\n",
    "        df = pd.merge(charts[country], songs_df, \"inner\", \"song_id\")\n",
    "        danceability[country] = df.danceability.mean()\n",
    "    return danceability\n",
    "\n",
    "\n",
    "streams = pd.DataFrame.from_dict(\n",
    "    calc_streams_per_country(),\n",
    "    orient=\"index\",\n",
    "    columns=[\"total streams\"],\n",
    ").reset_index()\n",
    "danceability = pd.DataFrame.from_dict(\n",
    "    calc_avg_danceability_per_country(),\n",
    "    orient=\"index\",\n",
    "    columns=[\"average daceability\"],\n",
    ").reset_index()\n",
    "\n",
    "pd.merge(streams, danceability, on=\"index\").set_index(\"index\")"
   ]
  }
 ],
 "metadata": {
  "kernelspec": {
   "display_name": "tools",
   "language": "python",
   "name": "python3"
  },
  "language_info": {
   "codemirror_mode": {
    "name": "ipython",
    "version": 3
   },
   "file_extension": ".py",
   "mimetype": "text/x-python",
   "name": "python",
   "nbconvert_exporter": "python",
   "pygments_lexer": "ipython3",
   "version": "3.12.6"
  }
 },
 "nbformat": 4,
 "nbformat_minor": 2
}
