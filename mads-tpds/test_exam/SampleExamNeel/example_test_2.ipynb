{
 "cells": [
  {
   "cell_type": "markdown",
   "metadata": {},
   "source": [
    "# Portfolio Task 2: Programming Test\n"
   ]
  },
  {
   "cell_type": "markdown",
   "metadata": {},
   "source": [
    "# Task 2\n",
    "\n",
    "To solve the following exercises you need the following data files:\n",
    "\n",
    "- **songs.csv** contains details on individual songs: e.g. the song name, artist names, genre, its duration, and more variables\n",
    "- **charts_xx.csv**: there are 4 files, one for each of the countries Germany (de), United States (us), Great Britain (gb) and Spain (es). Each file contains information on the Top 200 Spotify charts for December 24 of the years 2017 to 2022 of that country: e.g. a song identifier, the position in the ranking, and the number of played streams\n",
    "- **charts_backup.csv**: _a backup file that combines all the charts_xx.csv files; to be used ONLY in exercise 6 in case you did not manage to solve exercise 5_\n"
   ]
  },
  {
   "cell_type": "markdown",
   "metadata": {},
   "source": [
    "Import packages\n"
   ]
  },
  {
   "cell_type": "code",
   "execution_count": 144,
   "metadata": {},
   "outputs": [],
   "source": [
    "import pandas as pd\n",
    "import seaborn as sns\n",
    "import matplotlib.pyplot as plt\n",
    "import numpy as np\n",
    "import glob as glob"
   ]
  },
  {
   "cell_type": "markdown",
   "metadata": {},
   "source": [
    "# Exercise 1 (15 points)\n"
   ]
  },
  {
   "cell_type": "markdown",
   "metadata": {},
   "source": [
    "Read the songs data and display the first 5 rows.\n"
   ]
  },
  {
   "cell_type": "code",
   "execution_count": 145,
   "metadata": {},
   "outputs": [
    {
     "data": {
      "text/html": [
       "<div>\n",
       "<style scoped>\n",
       "    .dataframe tbody tr th:only-of-type {\n",
       "        vertical-align: middle;\n",
       "    }\n",
       "\n",
       "    .dataframe tbody tr th {\n",
       "        vertical-align: top;\n",
       "    }\n",
       "\n",
       "    .dataframe thead th {\n",
       "        text-align: right;\n",
       "    }\n",
       "</style>\n",
       "<table border=\"1\" class=\"dataframe\">\n",
       "  <thead>\n",
       "    <tr style=\"text-align: right;\">\n",
       "      <th></th>\n",
       "      <th>song_id</th>\n",
       "      <th>song_name</th>\n",
       "      <th>artist_names</th>\n",
       "      <th>genre</th>\n",
       "      <th>duration_ms</th>\n",
       "      <th>danceability</th>\n",
       "      <th>valence</th>\n",
       "      <th>tempo</th>\n",
       "      <th>explicit</th>\n",
       "      <th>lyrics</th>\n",
       "    </tr>\n",
       "  </thead>\n",
       "  <tbody>\n",
       "    <tr>\n",
       "      <th>0</th>\n",
       "      <td>5XM67HdnPub0nMDqJEUPdy</td>\n",
       "      <td>The Best Side Of Life</td>\n",
       "      <td>Sarah Connor</td>\n",
       "      <td>pop</td>\n",
       "      <td>229333</td>\n",
       "      <td>0.631</td>\n",
       "      <td>0.554</td>\n",
       "      <td>90.947</td>\n",
       "      <td>False</td>\n",
       "      <td>Is calling me home \\n The best time of the yea...</td>\n",
       "    </tr>\n",
       "    <tr>\n",
       "      <th>1</th>\n",
       "      <td>1xK1Gg9SxG8fy2Ya373oqb</td>\n",
       "      <td>Bandido</td>\n",
       "      <td>Myke Towers, Juhn</td>\n",
       "      <td>Reggaeton</td>\n",
       "      <td>232853</td>\n",
       "      <td>0.713</td>\n",
       "      <td>0.682</td>\n",
       "      <td>168.021</td>\n",
       "      <td>False</td>\n",
       "      <td>Ella e' buena, pero le gustan lo' malo' (Malo'...</td>\n",
       "    </tr>\n",
       "    <tr>\n",
       "      <th>2</th>\n",
       "      <td>1mlGScrDQqHqmhdIqE8MmA</td>\n",
       "      <td>Besos En Guerra</td>\n",
       "      <td>Morat, Juanes</td>\n",
       "      <td>pop</td>\n",
       "      <td>231533</td>\n",
       "      <td>0.690</td>\n",
       "      <td>0.772</td>\n",
       "      <td>143.957</td>\n",
       "      <td>False</td>\n",
       "      <td>¿Quién te dijo esa mentira? \\n Que eras fácil ...</td>\n",
       "    </tr>\n",
       "    <tr>\n",
       "      <th>3</th>\n",
       "      <td>4J2HLNTxiVxxs6kWgTIN43</td>\n",
       "      <td>Porfa no te vayas</td>\n",
       "      <td>Beret, Morat</td>\n",
       "      <td>spanish</td>\n",
       "      <td>209712</td>\n",
       "      <td>0.589</td>\n",
       "      <td>0.792</td>\n",
       "      <td>171.976</td>\n",
       "      <td>False</td>\n",
       "      <td>Recuerdo aquel verano que pasé contigo \\n Y ca...</td>\n",
       "    </tr>\n",
       "    <tr>\n",
       "      <th>4</th>\n",
       "      <td>0e8nrvls4Qqv5Rfa2UhqmO</td>\n",
       "      <td>THATS WHAT I WANT</td>\n",
       "      <td>Lil Nas X</td>\n",
       "      <td>Hip-Hop</td>\n",
       "      <td>143901</td>\n",
       "      <td>0.737</td>\n",
       "      <td>0.546</td>\n",
       "      <td>87.981</td>\n",
       "      <td>True</td>\n",
       "      <td>One, two, three, four \\n  \\n Need a boy who ca...</td>\n",
       "    </tr>\n",
       "  </tbody>\n",
       "</table>\n",
       "</div>"
      ],
      "text/plain": [
       "                  song_id              song_name       artist_names  \\\n",
       "0  5XM67HdnPub0nMDqJEUPdy  The Best Side Of Life       Sarah Connor   \n",
       "1  1xK1Gg9SxG8fy2Ya373oqb                Bandido  Myke Towers, Juhn   \n",
       "2  1mlGScrDQqHqmhdIqE8MmA        Besos En Guerra      Morat, Juanes   \n",
       "3  4J2HLNTxiVxxs6kWgTIN43      Porfa no te vayas       Beret, Morat   \n",
       "4  0e8nrvls4Qqv5Rfa2UhqmO      THATS WHAT I WANT          Lil Nas X   \n",
       "\n",
       "       genre  duration_ms  danceability  valence    tempo explicit  \\\n",
       "0        pop       229333         0.631    0.554   90.947    False   \n",
       "1  Reggaeton       232853         0.713    0.682  168.021    False   \n",
       "2        pop       231533         0.690    0.772  143.957    False   \n",
       "3    spanish       209712         0.589    0.792  171.976    False   \n",
       "4    Hip-Hop       143901         0.737    0.546   87.981     True   \n",
       "\n",
       "                                              lyrics  \n",
       "0  Is calling me home \\n The best time of the yea...  \n",
       "1  Ella e' buena, pero le gustan lo' malo' (Malo'...  \n",
       "2  ¿Quién te dijo esa mentira? \\n Que eras fácil ...  \n",
       "3  Recuerdo aquel verano que pasé contigo \\n Y ca...  \n",
       "4  One, two, three, four \\n  \\n Need a boy who ca...  "
      ]
     },
     "execution_count": 145,
     "metadata": {},
     "output_type": "execute_result"
    }
   ],
   "source": [
    "df_songs = pd.read_csv('task2/data/songs.csv')\n",
    "df_songs.head(5)"
   ]
  },
  {
   "cell_type": "markdown",
   "metadata": {},
   "source": [
    "The column `duration_ms` contains the duration of songs in milliseconds. Derive from it a new column `duration` that contains the duration in minutes. Then delete the column `duration_ms`. Display the `song_name`, `artist_names` and `duration` of the 5 longest songs\n"
   ]
  },
  {
   "cell_type": "code",
   "execution_count": 146,
   "metadata": {},
   "outputs": [
    {
     "data": {
      "text/html": [
       "<div>\n",
       "<style scoped>\n",
       "    .dataframe tbody tr th:only-of-type {\n",
       "        vertical-align: middle;\n",
       "    }\n",
       "\n",
       "    .dataframe tbody tr th {\n",
       "        vertical-align: top;\n",
       "    }\n",
       "\n",
       "    .dataframe thead th {\n",
       "        text-align: right;\n",
       "    }\n",
       "</style>\n",
       "<table border=\"1\" class=\"dataframe\">\n",
       "  <thead>\n",
       "    <tr style=\"text-align: right;\">\n",
       "      <th></th>\n",
       "      <th>song_name</th>\n",
       "      <th>artist_names</th>\n",
       "      <th>duration</th>\n",
       "    </tr>\n",
       "  </thead>\n",
       "  <tbody>\n",
       "    <tr>\n",
       "      <th>274</th>\n",
       "      <td>All Too Well (10 Minute Version) (Taylor's Ver...</td>\n",
       "      <td>Taylor Swift</td>\n",
       "      <td>10.217117</td>\n",
       "    </tr>\n",
       "    <tr>\n",
       "      <th>1346</th>\n",
       "      <td>Weihnachtsoratorium, BWV 248: Part I: For the ...</td>\n",
       "      <td>Johann Sebastian Bach, Nikolaus Harnoncourt</td>\n",
       "      <td>7.977550</td>\n",
       "    </tr>\n",
       "    <tr>\n",
       "      <th>789</th>\n",
       "      <td>105 F Remix</td>\n",
       "      <td>KEVVO, Farruko, Chencho Corleone, Arcangel, Da...</td>\n",
       "      <td>7.736667</td>\n",
       "    </tr>\n",
       "    <tr>\n",
       "      <th>620</th>\n",
       "      <td>Only Fans - Remix</td>\n",
       "      <td>Young Martino, Lunay, Myke Towers, Jhay Cortez...</td>\n",
       "      <td>7.042950</td>\n",
       "    </tr>\n",
       "    <tr>\n",
       "      <th>1256</th>\n",
       "      <td>Te Boté - Remix</td>\n",
       "      <td>Nio Garcia, Casper Magico, Bad Bunny, Darell, ...</td>\n",
       "      <td>6.965333</td>\n",
       "    </tr>\n",
       "  </tbody>\n",
       "</table>\n",
       "</div>"
      ],
      "text/plain": [
       "                                              song_name  \\\n",
       "274   All Too Well (10 Minute Version) (Taylor's Ver...   \n",
       "1346  Weihnachtsoratorium, BWV 248: Part I: For the ...   \n",
       "789                                         105 F Remix   \n",
       "620                                   Only Fans - Remix   \n",
       "1256                                    Te Boté - Remix   \n",
       "\n",
       "                                           artist_names   duration  \n",
       "274                                        Taylor Swift  10.217117  \n",
       "1346        Johann Sebastian Bach, Nikolaus Harnoncourt   7.977550  \n",
       "789   KEVVO, Farruko, Chencho Corleone, Arcangel, Da...   7.736667  \n",
       "620   Young Martino, Lunay, Myke Towers, Jhay Cortez...   7.042950  \n",
       "1256  Nio Garcia, Casper Magico, Bad Bunny, Darell, ...   6.965333  "
      ]
     },
     "execution_count": 146,
     "metadata": {},
     "output_type": "execute_result"
    }
   ],
   "source": [
    "df_songs['duration'] = df_songs.duration_ms / 1000 / 60\n",
    "df_songs.drop(labels='duration_ms', axis=1, inplace=True)\n",
    "\n",
    "df_songs.sort_values(by='duration', ascending=False)[['song_name','artist_names','duration']].head(5)"
   ]
  },
  {
   "cell_type": "markdown",
   "metadata": {},
   "source": [
    "# Exercise 2 (15 points)\n"
   ]
  },
  {
   "cell_type": "markdown",
   "metadata": {},
   "source": [
    "Songs can be uniquely identified via their `song_id`, while a given `song_name` may be performed by several, different artists.\n",
    "How many song_ids and how many different song_names are contained in the data set? Print a short answer text.\n"
   ]
  },
  {
   "cell_type": "code",
   "execution_count": 147,
   "metadata": {},
   "outputs": [
    {
     "name": "stdout",
     "output_type": "stream",
     "text": [
      "There are 2132 different song_id, and there are  1851 different song_name\n"
     ]
    }
   ],
   "source": [
    "num_songs_ids = df_songs.song_id.nunique()\n",
    "num_songs_names = df_songs.song_name.nunique()\n",
    "\n",
    "print(f\"There are {num_songs_ids} different song_id, and there are  {num_songs_names} different song_name\")"
   ]
  },
  {
   "cell_type": "markdown",
   "metadata": {},
   "source": [
    "Which `song_name` is the most frequent? Display a subset of the songs data set that contains only rows with this song name.\n"
   ]
  },
  {
   "cell_type": "code",
   "execution_count": 156,
   "metadata": {},
   "outputs": [],
   "source": [
    "most_frequent_song_name = df_songs.song_name.mode()[0]\n",
    "most_frequent_song_name = df_songs.value_counts('song_name').index[0]\n",
    "most_frequent_song_name = df_songs.groupby('song_name').size().idxmax()\n",
    "\n",
    "# df_songs[df_songs.song_name == most_frequent_song_name]"
   ]
  },
  {
   "cell_type": "markdown",
   "metadata": {},
   "source": [
    "# Exercise 3 (15 points)\n"
   ]
  },
  {
   "cell_type": "markdown",
   "metadata": {},
   "source": [
    "Calculate the average `tempo` per genre, and display the 5 genres with the highest average tempo.\n"
   ]
  },
  {
   "cell_type": "code",
   "execution_count": 149,
   "metadata": {},
   "outputs": [
    {
     "data": {
      "text/html": [
       "<div>\n",
       "<style scoped>\n",
       "    .dataframe tbody tr th:only-of-type {\n",
       "        vertical-align: middle;\n",
       "    }\n",
       "\n",
       "    .dataframe tbody tr th {\n",
       "        vertical-align: top;\n",
       "    }\n",
       "\n",
       "    .dataframe thead th {\n",
       "        text-align: right;\n",
       "    }\n",
       "</style>\n",
       "<table border=\"1\" class=\"dataframe\">\n",
       "  <thead>\n",
       "    <tr style=\"text-align: right;\">\n",
       "      <th></th>\n",
       "      <th>tempo</th>\n",
       "    </tr>\n",
       "    <tr>\n",
       "      <th>genre</th>\n",
       "      <th></th>\n",
       "    </tr>\n",
       "  </thead>\n",
       "  <tbody>\n",
       "    <tr>\n",
       "      <th>Corridos tumbados</th>\n",
       "      <td>200.156</td>\n",
       "    </tr>\n",
       "    <tr>\n",
       "      <th>Rock and Roll</th>\n",
       "      <td>190.448</td>\n",
       "    </tr>\n",
       "    <tr>\n",
       "      <th>Psychedelic Rock</th>\n",
       "      <td>182.008</td>\n",
       "    </tr>\n",
       "    <tr>\n",
       "      <th>Classical</th>\n",
       "      <td>177.171</td>\n",
       "    </tr>\n",
       "    <tr>\n",
       "      <th>hardstyle</th>\n",
       "      <td>172.000</td>\n",
       "    </tr>\n",
       "  </tbody>\n",
       "</table>\n",
       "</div>"
      ],
      "text/plain": [
       "                     tempo\n",
       "genre                     \n",
       "Corridos tumbados  200.156\n",
       "Rock and Roll      190.448\n",
       "Psychedelic Rock   182.008\n",
       "Classical          177.171\n",
       "hardstyle          172.000"
      ]
     },
     "execution_count": 149,
     "metadata": {},
     "output_type": "execute_result"
    }
   ],
   "source": [
    "pd.DataFrame(df_songs.groupby('genre').tempo.mean().nlargest(5))"
   ]
  },
  {
   "cell_type": "markdown",
   "metadata": {},
   "source": [
    "If a song is marked as `explicit`, it means that it contains strong language, reference to violence, sexual activity, etc. What percentage of songs are marked as `explicit`? Print a short answer text.\n"
   ]
  },
  {
   "cell_type": "code",
   "execution_count": 150,
   "metadata": {},
   "outputs": [
    {
     "name": "stdout",
     "output_type": "stream",
     "text": [
      "A 29.22% of song are marked as explicit\n"
     ]
    }
   ],
   "source": [
    "percentage_explicit = df_songs[df_songs.explicit=='True'].shape[0] / df_songs.explicit.notna().sum() * 100\n",
    "print(f\"A {percentage_explicit:.2f}% of song are marked as explicit\")"
   ]
  },
  {
   "cell_type": "markdown",
   "metadata": {},
   "source": [
    "# Exercise 4 (15 points)\n"
   ]
  },
  {
   "cell_type": "markdown",
   "metadata": {},
   "source": [
    "How many songs use the words \"Christmas\" in the lyrics? Print a short answer text.\n"
   ]
  },
  {
   "cell_type": "code",
   "execution_count": 151,
   "metadata": {},
   "outputs": [
    {
     "name": "stdout",
     "output_type": "stream",
     "text": [
      "The number of songs that use the word \"Christmas\" is 282\n"
     ]
    }
   ],
   "source": [
    "number_christmas_songs = df_songs.lyrics.str.contains(\"CHRISTMAS\",case=False).sum()\n",
    "print(f\"The number of songs that use the word \\\"Christmas\\\" is {number_christmas_songs}\")"
   ]
  },
  {
   "cell_type": "markdown",
   "metadata": {},
   "source": [
    "Count for each song how often the word \"love\" occurs in the `lyrics`. Display the `song_name`, `artist_names` and the number of occurrences of \"love\" for the 5 songs with the highest number of occurences.\n"
   ]
  },
  {
   "cell_type": "code",
   "execution_count": 152,
   "metadata": {},
   "outputs": [
    {
     "data": {
      "text/html": [
       "<div>\n",
       "<style scoped>\n",
       "    .dataframe tbody tr th:only-of-type {\n",
       "        vertical-align: middle;\n",
       "    }\n",
       "\n",
       "    .dataframe tbody tr th {\n",
       "        vertical-align: top;\n",
       "    }\n",
       "\n",
       "    .dataframe thead th {\n",
       "        text-align: right;\n",
       "    }\n",
       "</style>\n",
       "<table border=\"1\" class=\"dataframe\">\n",
       "  <thead>\n",
       "    <tr style=\"text-align: right;\">\n",
       "      <th></th>\n",
       "      <th>song_name</th>\n",
       "      <th>love_count</th>\n",
       "    </tr>\n",
       "  </thead>\n",
       "  <tbody>\n",
       "    <tr>\n",
       "      <th>2099</th>\n",
       "      <td>My Lover</td>\n",
       "      <td>55.0</td>\n",
       "    </tr>\n",
       "    <tr>\n",
       "      <th>929</th>\n",
       "      <td>Lose You To Love Me</td>\n",
       "      <td>48.0</td>\n",
       "    </tr>\n",
       "    <tr>\n",
       "      <th>1628</th>\n",
       "      <td>Bring Me Love</td>\n",
       "      <td>34.0</td>\n",
       "    </tr>\n",
       "    <tr>\n",
       "      <th>1456</th>\n",
       "      <td>Bring Me Love</td>\n",
       "      <td>34.0</td>\n",
       "    </tr>\n",
       "    <tr>\n",
       "      <th>581</th>\n",
       "      <td>Bring Me Love</td>\n",
       "      <td>34.0</td>\n",
       "    </tr>\n",
       "  </tbody>\n",
       "</table>\n",
       "</div>"
      ],
      "text/plain": [
       "                song_name  love_count\n",
       "2099             My Lover        55.0\n",
       "929   Lose You To Love Me        48.0\n",
       "1628        Bring Me Love        34.0\n",
       "1456        Bring Me Love        34.0\n",
       "581         Bring Me Love        34.0"
      ]
     },
     "execution_count": 152,
     "metadata": {},
     "output_type": "execute_result"
    }
   ],
   "source": [
    "df_songs[\"love_count\"] = df_songs.lyrics.str.upper().str.count(\"LOVE\")\n",
    "df_songs[['song_name','love_count']].sort_values('love_count',ascending=False).head(5)"
   ]
  },
  {
   "cell_type": "markdown",
   "metadata": {},
   "source": [
    "# Exercise 5 (25 points)\n"
   ]
  },
  {
   "cell_type": "markdown",
   "metadata": {},
   "source": [
    "The files `charts_xx.csv` contain the top 200 songs of the respective country (de: Germany, us: United States, gb: Great Britain, es: Spain ) on the days December 24 of the years 2017 - 2022.\n",
    "\n",
    "Read in the four data sets and combine them appropriately into a single \"tidy\" data frame. Avoid repetitions in your code as much as possible.\n"
   ]
  },
  {
   "cell_type": "code",
   "execution_count": 153,
   "metadata": {},
   "outputs": [
    {
     "data": {
      "text/plain": [
       "date             object\n",
       "position        float64\n",
       "song_id          object\n",
       "song_name        object\n",
       "artist_names     object\n",
       "streams           int64\n",
       "country          object\n",
       "dtype: object"
      ]
     },
     "execution_count": 153,
     "metadata": {},
     "output_type": "execute_result"
    }
   ],
   "source": [
    "csv_files = glob.glob('task2/data/charts_*.csv')\n",
    "\n",
    "dataframes = []\n",
    "for file in csv_files:\n",
    "    df_results_country = pd.read_csv(file)\n",
    "    country = file.split('\\\\')[1].split('_')[1].split('.')[0]\n",
    "    df_results_country['country'] = country\n",
    "    dataframes.append(df_results_country)\n",
    "\n",
    "df_results = pd.concat(objs=dataframes)\n",
    "df_results.dtypes"
   ]
  },
  {
   "cell_type": "markdown",
   "metadata": {},
   "source": [
    "Display the total number of streams per country on the date 2022-12-24\n"
   ]
  },
  {
   "cell_type": "code",
   "execution_count": 154,
   "metadata": {},
   "outputs": [
    {
     "data": {
      "text/html": [
       "<div>\n",
       "<style scoped>\n",
       "    .dataframe tbody tr th:only-of-type {\n",
       "        vertical-align: middle;\n",
       "    }\n",
       "\n",
       "    .dataframe tbody tr th {\n",
       "        vertical-align: top;\n",
       "    }\n",
       "\n",
       "    .dataframe thead th {\n",
       "        text-align: right;\n",
       "    }\n",
       "</style>\n",
       "<table border=\"1\" class=\"dataframe\">\n",
       "  <thead>\n",
       "    <tr style=\"text-align: right;\">\n",
       "      <th></th>\n",
       "      <th>streams</th>\n",
       "    </tr>\n",
       "    <tr>\n",
       "      <th>country</th>\n",
       "      <th></th>\n",
       "    </tr>\n",
       "  </thead>\n",
       "  <tbody>\n",
       "    <tr>\n",
       "      <th>de</th>\n",
       "      <td>108837012</td>\n",
       "    </tr>\n",
       "    <tr>\n",
       "      <th>es</th>\n",
       "      <td>31182666</td>\n",
       "    </tr>\n",
       "    <tr>\n",
       "      <th>gb</th>\n",
       "      <td>59695507</td>\n",
       "    </tr>\n",
       "    <tr>\n",
       "      <th>us</th>\n",
       "      <td>161514161</td>\n",
       "    </tr>\n",
       "  </tbody>\n",
       "</table>\n",
       "</div>"
      ],
      "text/plain": [
       "           streams\n",
       "country           \n",
       "de       108837012\n",
       "es        31182666\n",
       "gb        59695507\n",
       "us       161514161"
      ]
     },
     "execution_count": 154,
     "metadata": {},
     "output_type": "execute_result"
    }
   ],
   "source": [
    "pd.DataFrame(df_results[df_results.date=='2022-12-24'].groupby('country').streams.sum())"
   ]
  },
  {
   "cell_type": "markdown",
   "metadata": {},
   "source": [
    "# Exercise 6 (15 points)\n"
   ]
  },
  {
   "cell_type": "markdown",
   "metadata": {},
   "source": [
    "Calculate the average `danceability` and the total number of `streams` per country.\n",
    "\n",
    "Notes:\n",
    "\n",
    "- For this task you need to combine the songs and charts DataFrames appropriately into a single DataFrame.\n",
    "- If you did not manage to solve exercise 5, you can use the file `charts_backup.csv`.\n"
   ]
  },
  {
   "cell_type": "code",
   "execution_count": 155,
   "metadata": {},
   "outputs": [
    {
     "data": {
      "text/html": [
       "<div>\n",
       "<style scoped>\n",
       "    .dataframe tbody tr th:only-of-type {\n",
       "        vertical-align: middle;\n",
       "    }\n",
       "\n",
       "    .dataframe tbody tr th {\n",
       "        vertical-align: top;\n",
       "    }\n",
       "\n",
       "    .dataframe thead th {\n",
       "        text-align: right;\n",
       "    }\n",
       "</style>\n",
       "<table border=\"1\" class=\"dataframe\">\n",
       "  <thead>\n",
       "    <tr style=\"text-align: right;\">\n",
       "      <th></th>\n",
       "      <th>mean_danceability</th>\n",
       "      <th>total_streams</th>\n",
       "    </tr>\n",
       "    <tr>\n",
       "      <th>country</th>\n",
       "      <th></th>\n",
       "      <th></th>\n",
       "    </tr>\n",
       "  </thead>\n",
       "  <tbody>\n",
       "    <tr>\n",
       "      <th>de</th>\n",
       "      <td>0.553947</td>\n",
       "      <td>491345726</td>\n",
       "    </tr>\n",
       "    <tr>\n",
       "      <th>es</th>\n",
       "      <td>0.679203</td>\n",
       "      <td>134341837</td>\n",
       "    </tr>\n",
       "    <tr>\n",
       "      <th>gb</th>\n",
       "      <td>0.572602</td>\n",
       "      <td>286075531</td>\n",
       "    </tr>\n",
       "    <tr>\n",
       "      <th>us</th>\n",
       "      <td>0.598899</td>\n",
       "      <td>747236256</td>\n",
       "    </tr>\n",
       "  </tbody>\n",
       "</table>\n",
       "</div>"
      ],
      "text/plain": [
       "         mean_danceability  total_streams\n",
       "country                                  \n",
       "de                0.553947      491345726\n",
       "es                0.679203      134341837\n",
       "gb                0.572602      286075531\n",
       "us                0.598899      747236256"
      ]
     },
     "execution_count": 155,
     "metadata": {},
     "output_type": "execute_result"
    }
   ],
   "source": [
    "df = pd.merge(left=df_results, left_on='song_id', right=df_songs, right_on='song_id', how='left')\n",
    "\n",
    "pd.DataFrame({\n",
    "    \"mean_danceability\":df[['danceability','country']].groupby('country').danceability.mean(),\n",
    "    \"total_streams\":df[['streams','country']].groupby('country').streams.sum()\n",
    "})"
   ]
  }
 ],
 "metadata": {
  "kernelspec": {
   "display_name": ".venv",
   "language": "python",
   "name": "python3"
  },
  "language_info": {
   "codemirror_mode": {
    "name": "ipython",
    "version": 3
   },
   "file_extension": ".py",
   "mimetype": "text/x-python",
   "name": "python",
   "nbconvert_exporter": "python",
   "pygments_lexer": "ipython3",
   "version": "3.12.0"
  }
 },
 "nbformat": 4,
 "nbformat_minor": 2
}
