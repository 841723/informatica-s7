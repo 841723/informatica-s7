{
 "cells": [
  {
   "cell_type": "markdown",
   "metadata": {},
   "source": [
    "Read the songs data and display the first 5 rows."
   ]
  },
  {
   "cell_type": "code",
   "execution_count": 12,
   "metadata": {},
   "outputs": [
    {
     "data": {
      "text/html": [
       "<div>\n",
       "<style scoped>\n",
       "    .dataframe tbody tr th:only-of-type {\n",
       "        vertical-align: middle;\n",
       "    }\n",
       "\n",
       "    .dataframe tbody tr th {\n",
       "        vertical-align: top;\n",
       "    }\n",
       "\n",
       "    .dataframe thead th {\n",
       "        text-align: right;\n",
       "    }\n",
       "</style>\n",
       "<table border=\"1\" class=\"dataframe\">\n",
       "  <thead>\n",
       "    <tr style=\"text-align: right;\">\n",
       "      <th></th>\n",
       "      <th>song_id</th>\n",
       "      <th>song_name</th>\n",
       "      <th>artist_names</th>\n",
       "      <th>genre</th>\n",
       "      <th>duration_ms</th>\n",
       "      <th>danceability</th>\n",
       "      <th>valence</th>\n",
       "      <th>tempo</th>\n",
       "      <th>explicit</th>\n",
       "      <th>lyrics</th>\n",
       "    </tr>\n",
       "  </thead>\n",
       "  <tbody>\n",
       "    <tr>\n",
       "      <th>0</th>\n",
       "      <td>5XM67HdnPub0nMDqJEUPdy</td>\n",
       "      <td>The Best Side Of Life</td>\n",
       "      <td>Sarah Connor</td>\n",
       "      <td>pop</td>\n",
       "      <td>229333</td>\n",
       "      <td>0.631</td>\n",
       "      <td>0.554</td>\n",
       "      <td>90.947</td>\n",
       "      <td>False</td>\n",
       "      <td>Is calling me home \\n The best time of the yea...</td>\n",
       "    </tr>\n",
       "    <tr>\n",
       "      <th>1</th>\n",
       "      <td>1xK1Gg9SxG8fy2Ya373oqb</td>\n",
       "      <td>Bandido</td>\n",
       "      <td>Myke Towers, Juhn</td>\n",
       "      <td>Reggaeton</td>\n",
       "      <td>232853</td>\n",
       "      <td>0.713</td>\n",
       "      <td>0.682</td>\n",
       "      <td>168.021</td>\n",
       "      <td>False</td>\n",
       "      <td>Ella e' buena, pero le gustan lo' malo' (Malo'...</td>\n",
       "    </tr>\n",
       "    <tr>\n",
       "      <th>2</th>\n",
       "      <td>1mlGScrDQqHqmhdIqE8MmA</td>\n",
       "      <td>Besos En Guerra</td>\n",
       "      <td>Morat, Juanes</td>\n",
       "      <td>pop</td>\n",
       "      <td>231533</td>\n",
       "      <td>0.690</td>\n",
       "      <td>0.772</td>\n",
       "      <td>143.957</td>\n",
       "      <td>False</td>\n",
       "      <td>¿Quién te dijo esa mentira? \\n Que eras fácil ...</td>\n",
       "    </tr>\n",
       "    <tr>\n",
       "      <th>3</th>\n",
       "      <td>4J2HLNTxiVxxs6kWgTIN43</td>\n",
       "      <td>Porfa no te vayas</td>\n",
       "      <td>Beret, Morat</td>\n",
       "      <td>spanish</td>\n",
       "      <td>209712</td>\n",
       "      <td>0.589</td>\n",
       "      <td>0.792</td>\n",
       "      <td>171.976</td>\n",
       "      <td>False</td>\n",
       "      <td>Recuerdo aquel verano que pasé contigo \\n Y ca...</td>\n",
       "    </tr>\n",
       "    <tr>\n",
       "      <th>4</th>\n",
       "      <td>0e8nrvls4Qqv5Rfa2UhqmO</td>\n",
       "      <td>THATS WHAT I WANT</td>\n",
       "      <td>Lil Nas X</td>\n",
       "      <td>Hip-Hop</td>\n",
       "      <td>143901</td>\n",
       "      <td>0.737</td>\n",
       "      <td>0.546</td>\n",
       "      <td>87.981</td>\n",
       "      <td>True</td>\n",
       "      <td>One, two, three, four \\n  \\n Need a boy who ca...</td>\n",
       "    </tr>\n",
       "  </tbody>\n",
       "</table>\n",
       "</div>"
      ],
      "text/plain": [
       "                  song_id              song_name       artist_names  \\\n",
       "0  5XM67HdnPub0nMDqJEUPdy  The Best Side Of Life       Sarah Connor   \n",
       "1  1xK1Gg9SxG8fy2Ya373oqb                Bandido  Myke Towers, Juhn   \n",
       "2  1mlGScrDQqHqmhdIqE8MmA        Besos En Guerra      Morat, Juanes   \n",
       "3  4J2HLNTxiVxxs6kWgTIN43      Porfa no te vayas       Beret, Morat   \n",
       "4  0e8nrvls4Qqv5Rfa2UhqmO      THATS WHAT I WANT          Lil Nas X   \n",
       "\n",
       "       genre  duration_ms  danceability  valence    tempo explicit  \\\n",
       "0        pop       229333         0.631    0.554   90.947    False   \n",
       "1  Reggaeton       232853         0.713    0.682  168.021    False   \n",
       "2        pop       231533         0.690    0.772  143.957    False   \n",
       "3    spanish       209712         0.589    0.792  171.976    False   \n",
       "4    Hip-Hop       143901         0.737    0.546   87.981     True   \n",
       "\n",
       "                                              lyrics  \n",
       "0  Is calling me home \\n The best time of the yea...  \n",
       "1  Ella e' buena, pero le gustan lo' malo' (Malo'...  \n",
       "2  ¿Quién te dijo esa mentira? \\n Que eras fácil ...  \n",
       "3  Recuerdo aquel verano que pasé contigo \\n Y ca...  \n",
       "4  One, two, three, four \\n  \\n Need a boy who ca...  "
      ]
     },
     "metadata": {},
     "output_type": "display_data"
    }
   ],
   "source": [
    "import pandas as pd\n",
    "df=pd.read_csv(\"data/songs.csv\")\n",
    "display(df.head(5))"
   ]
  },
  {
   "cell_type": "markdown",
   "metadata": {},
   "source": [
    "The column `duration_ms` contains the duration of songs in milliseconds. Derive from it a new column `duration` that contains the duration in minutes. Then delete the column `duration_ms`. Display the `song_name`, `artist_names` and `duration` of the 5 longest songs"
   ]
  },
  {
   "cell_type": "code",
   "execution_count": 13,
   "metadata": {},
   "outputs": [
    {
     "data": {
      "text/html": [
       "<div>\n",
       "<style scoped>\n",
       "    .dataframe tbody tr th:only-of-type {\n",
       "        vertical-align: middle;\n",
       "    }\n",
       "\n",
       "    .dataframe tbody tr th {\n",
       "        vertical-align: top;\n",
       "    }\n",
       "\n",
       "    .dataframe thead th {\n",
       "        text-align: right;\n",
       "    }\n",
       "</style>\n",
       "<table border=\"1\" class=\"dataframe\">\n",
       "  <thead>\n",
       "    <tr style=\"text-align: right;\">\n",
       "      <th></th>\n",
       "      <th>song_name</th>\n",
       "      <th>artist_names</th>\n",
       "      <th>duration</th>\n",
       "    </tr>\n",
       "  </thead>\n",
       "  <tbody>\n",
       "    <tr>\n",
       "      <th>274</th>\n",
       "      <td>All Too Well (10 Minute Version) (Taylor's Ver...</td>\n",
       "      <td>Taylor Swift</td>\n",
       "      <td>10.217117</td>\n",
       "    </tr>\n",
       "    <tr>\n",
       "      <th>1346</th>\n",
       "      <td>Weihnachtsoratorium, BWV 248: Part I: For the ...</td>\n",
       "      <td>Johann Sebastian Bach, Nikolaus Harnoncourt</td>\n",
       "      <td>7.977550</td>\n",
       "    </tr>\n",
       "    <tr>\n",
       "      <th>789</th>\n",
       "      <td>105 F Remix</td>\n",
       "      <td>KEVVO, Farruko, Chencho Corleone, Arcangel, Da...</td>\n",
       "      <td>7.736667</td>\n",
       "    </tr>\n",
       "    <tr>\n",
       "      <th>620</th>\n",
       "      <td>Only Fans - Remix</td>\n",
       "      <td>Young Martino, Lunay, Myke Towers, Jhay Cortez...</td>\n",
       "      <td>7.042950</td>\n",
       "    </tr>\n",
       "    <tr>\n",
       "      <th>1256</th>\n",
       "      <td>Te Boté - Remix</td>\n",
       "      <td>Nio Garcia, Casper Magico, Bad Bunny, Darell, ...</td>\n",
       "      <td>6.965333</td>\n",
       "    </tr>\n",
       "  </tbody>\n",
       "</table>\n",
       "</div>"
      ],
      "text/plain": [
       "                                              song_name  \\\n",
       "274   All Too Well (10 Minute Version) (Taylor's Ver...   \n",
       "1346  Weihnachtsoratorium, BWV 248: Part I: For the ...   \n",
       "789                                         105 F Remix   \n",
       "620                                   Only Fans - Remix   \n",
       "1256                                    Te Boté - Remix   \n",
       "\n",
       "                                           artist_names   duration  \n",
       "274                                        Taylor Swift  10.217117  \n",
       "1346        Johann Sebastian Bach, Nikolaus Harnoncourt   7.977550  \n",
       "789   KEVVO, Farruko, Chencho Corleone, Arcangel, Da...   7.736667  \n",
       "620   Young Martino, Lunay, Myke Towers, Jhay Cortez...   7.042950  \n",
       "1256  Nio Garcia, Casper Magico, Bad Bunny, Darell, ...   6.965333  "
      ]
     },
     "execution_count": 13,
     "metadata": {},
     "output_type": "execute_result"
    }
   ],
   "source": [
    "df['duration']=df['duration_ms']/1000/60\n",
    "df.drop(columns=['duration_ms'],axis=1)\n",
    "df.sort_values(by=['duration'],ascending=False,inplace=True)\n",
    "df[[\"song_name\",\"artist_names\",\"duration\"]].head(5)"
   ]
  },
  {
   "cell_type": "markdown",
   "metadata": {},
   "source": [
    "Songs can be uniquely identified via their `song_id`, while a given `song_name` may be performed by several, different artists.\n",
    "How many song_ids and how many different song_names are contained in the data set? Print a short answer text."
   ]
  },
  {
   "cell_type": "code",
   "execution_count": 14,
   "metadata": {},
   "outputs": [
    {
     "name": "stdout",
     "output_type": "stream",
     "text": [
      "2132 , 1851\n"
     ]
    }
   ],
   "source": [
    "print(f\"{df['song_id'].nunique()} , {df['song_name'].nunique()}\")"
   ]
  },
  {
   "cell_type": "markdown",
   "metadata": {},
   "source": [
    "Calculate the average `tempo` per genre, and display the 5 genres with the highest average tempo.\n"
   ]
  },
  {
   "cell_type": "code",
   "execution_count": 15,
   "metadata": {},
   "outputs": [
    {
     "data": {
      "text/plain": [
       "genre\n",
       "Corridos tumbados    200.156\n",
       "Rock and Roll        190.448\n",
       "Psychedelic Rock     182.008\n",
       "Classical            177.171\n",
       "hardstyle            172.000\n",
       "Name: tempo, dtype: float64"
      ]
     },
     "execution_count": 15,
     "metadata": {},
     "output_type": "execute_result"
    }
   ],
   "source": [
    "df.groupby('genre')['tempo'].mean().sort_values(ascending=False).head(5)\n"
   ]
  },
  {
   "cell_type": "markdown",
   "metadata": {},
   "source": [
    "If a song is marked as `explicit`, it means that it contains strong language, reference to violence, sexual activity, etc. What percentage of songs are marked as `explicit`? Print a short answer text.\n"
   ]
  },
  {
   "cell_type": "code",
   "execution_count": 16,
   "metadata": {},
   "outputs": [
    {
     "name": "stdout",
     "output_type": "stream",
     "text": [
      "29.22% percent of songs are explicit\n"
     ]
    }
   ],
   "source": [
    "ans=df.explicit.map(lambda x: 1 if x==\"True\" else 0).sum()*100/ len(df)\n",
    "print(f\"{round(ans,2)}% percent of songs are explicit\")"
   ]
  },
  {
   "cell_type": "markdown",
   "metadata": {},
   "source": [
    "How many songs use the words \"Christmas\" in the lyrics? Print a short answer text."
   ]
  },
  {
   "cell_type": "code",
   "execution_count": 17,
   "metadata": {},
   "outputs": [
    {
     "data": {
      "text/plain": [
       "280"
      ]
     },
     "execution_count": 17,
     "metadata": {},
     "output_type": "execute_result"
    }
   ],
   "source": [
    "df[\"lyrics\"].str.contains(\"Christmas\").sum()"
   ]
  },
  {
   "cell_type": "markdown",
   "metadata": {},
   "source": [
    "Count for each song how often the word \"love\" occurs in the `lyrics`. Display the `song_name`, `artist_names` and the number of occurrences of \"love\" for the 5 songs with the highest number of occurences."
   ]
  },
  {
   "cell_type": "code",
   "execution_count": 21,
   "metadata": {},
   "outputs": [
    {
     "ename": "KeyError",
     "evalue": "'song_name'",
     "output_type": "error",
     "traceback": [
      "\u001b[0;31m---------------------------------------------------------------------------\u001b[0m",
      "\u001b[0;31mKeyError\u001b[0m                                  Traceback (most recent call last)",
      "Cell \u001b[0;32mIn[21], line 1\u001b[0m\n\u001b[0;32m----> 1\u001b[0m \u001b[43mdf\u001b[49m\u001b[43m[\u001b[49m\u001b[38;5;124;43m\"\u001b[39;49m\u001b[38;5;124;43mlyrics\u001b[39;49m\u001b[38;5;124;43m\"\u001b[39;49m\u001b[43m]\u001b[49m\u001b[38;5;241;43m.\u001b[39;49m\u001b[43mstr\u001b[49m\u001b[38;5;241;43m.\u001b[39;49m\u001b[43mcontains\u001b[49m\u001b[43m(\u001b[49m\u001b[38;5;124;43m\"\u001b[39;49m\u001b[38;5;124;43mLove\u001b[39;49m\u001b[38;5;124;43m\"\u001b[39;49m\u001b[43m)\u001b[49m\u001b[38;5;241;43m.\u001b[39;49m\u001b[43mgroupby\u001b[49m\u001b[43m(\u001b[49m\u001b[38;5;124;43m\"\u001b[39;49m\u001b[38;5;124;43msong_name\u001b[39;49m\u001b[38;5;124;43m\"\u001b[39;49m\u001b[43m)\u001b[49m\n",
      "File \u001b[0;32m~/Desktop/Data_Science_WiSe_24_25/Tools_and_Programming_Languages/tools/lib/python3.12/site-packages/pandas/core/series.py:2247\u001b[0m, in \u001b[0;36mSeries.groupby\u001b[0;34m(self, by, axis, level, as_index, sort, group_keys, observed, dropna)\u001b[0m\n\u001b[1;32m   2244\u001b[0m     \u001b[38;5;28;01mraise\u001b[39;00m \u001b[38;5;167;01mTypeError\u001b[39;00m(\u001b[38;5;124m\"\u001b[39m\u001b[38;5;124mas_index=False only valid with DataFrame\u001b[39m\u001b[38;5;124m\"\u001b[39m)\n\u001b[1;32m   2245\u001b[0m axis \u001b[38;5;241m=\u001b[39m \u001b[38;5;28mself\u001b[39m\u001b[38;5;241m.\u001b[39m_get_axis_number(axis)\n\u001b[0;32m-> 2247\u001b[0m \u001b[38;5;28;01mreturn\u001b[39;00m \u001b[43mSeriesGroupBy\u001b[49m\u001b[43m(\u001b[49m\n\u001b[1;32m   2248\u001b[0m \u001b[43m    \u001b[49m\u001b[43mobj\u001b[49m\u001b[38;5;241;43m=\u001b[39;49m\u001b[38;5;28;43mself\u001b[39;49m\u001b[43m,\u001b[49m\n\u001b[1;32m   2249\u001b[0m \u001b[43m    \u001b[49m\u001b[43mkeys\u001b[49m\u001b[38;5;241;43m=\u001b[39;49m\u001b[43mby\u001b[49m\u001b[43m,\u001b[49m\n\u001b[1;32m   2250\u001b[0m \u001b[43m    \u001b[49m\u001b[43maxis\u001b[49m\u001b[38;5;241;43m=\u001b[39;49m\u001b[43maxis\u001b[49m\u001b[43m,\u001b[49m\n\u001b[1;32m   2251\u001b[0m \u001b[43m    \u001b[49m\u001b[43mlevel\u001b[49m\u001b[38;5;241;43m=\u001b[39;49m\u001b[43mlevel\u001b[49m\u001b[43m,\u001b[49m\n\u001b[1;32m   2252\u001b[0m \u001b[43m    \u001b[49m\u001b[43mas_index\u001b[49m\u001b[38;5;241;43m=\u001b[39;49m\u001b[43mas_index\u001b[49m\u001b[43m,\u001b[49m\n\u001b[1;32m   2253\u001b[0m \u001b[43m    \u001b[49m\u001b[43msort\u001b[49m\u001b[38;5;241;43m=\u001b[39;49m\u001b[43msort\u001b[49m\u001b[43m,\u001b[49m\n\u001b[1;32m   2254\u001b[0m \u001b[43m    \u001b[49m\u001b[43mgroup_keys\u001b[49m\u001b[38;5;241;43m=\u001b[39;49m\u001b[43mgroup_keys\u001b[49m\u001b[43m,\u001b[49m\n\u001b[1;32m   2255\u001b[0m \u001b[43m    \u001b[49m\u001b[43mobserved\u001b[49m\u001b[38;5;241;43m=\u001b[39;49m\u001b[43mobserved\u001b[49m\u001b[43m,\u001b[49m\n\u001b[1;32m   2256\u001b[0m \u001b[43m    \u001b[49m\u001b[43mdropna\u001b[49m\u001b[38;5;241;43m=\u001b[39;49m\u001b[43mdropna\u001b[49m\u001b[43m,\u001b[49m\n\u001b[1;32m   2257\u001b[0m \u001b[43m\u001b[49m\u001b[43m)\u001b[49m\n",
      "File \u001b[0;32m~/Desktop/Data_Science_WiSe_24_25/Tools_and_Programming_Languages/tools/lib/python3.12/site-packages/pandas/core/groupby/groupby.py:1329\u001b[0m, in \u001b[0;36mGroupBy.__init__\u001b[0;34m(self, obj, keys, axis, level, grouper, exclusions, selection, as_index, sort, group_keys, observed, dropna)\u001b[0m\n\u001b[1;32m   1326\u001b[0m \u001b[38;5;28mself\u001b[39m\u001b[38;5;241m.\u001b[39mdropna \u001b[38;5;241m=\u001b[39m dropna\n\u001b[1;32m   1328\u001b[0m \u001b[38;5;28;01mif\u001b[39;00m grouper \u001b[38;5;129;01mis\u001b[39;00m \u001b[38;5;28;01mNone\u001b[39;00m:\n\u001b[0;32m-> 1329\u001b[0m     grouper, exclusions, obj \u001b[38;5;241m=\u001b[39m \u001b[43mget_grouper\u001b[49m\u001b[43m(\u001b[49m\n\u001b[1;32m   1330\u001b[0m \u001b[43m        \u001b[49m\u001b[43mobj\u001b[49m\u001b[43m,\u001b[49m\n\u001b[1;32m   1331\u001b[0m \u001b[43m        \u001b[49m\u001b[43mkeys\u001b[49m\u001b[43m,\u001b[49m\n\u001b[1;32m   1332\u001b[0m \u001b[43m        \u001b[49m\u001b[43maxis\u001b[49m\u001b[38;5;241;43m=\u001b[39;49m\u001b[43maxis\u001b[49m\u001b[43m,\u001b[49m\n\u001b[1;32m   1333\u001b[0m \u001b[43m        \u001b[49m\u001b[43mlevel\u001b[49m\u001b[38;5;241;43m=\u001b[39;49m\u001b[43mlevel\u001b[49m\u001b[43m,\u001b[49m\n\u001b[1;32m   1334\u001b[0m \u001b[43m        \u001b[49m\u001b[43msort\u001b[49m\u001b[38;5;241;43m=\u001b[39;49m\u001b[43msort\u001b[49m\u001b[43m,\u001b[49m\n\u001b[1;32m   1335\u001b[0m \u001b[43m        \u001b[49m\u001b[43mobserved\u001b[49m\u001b[38;5;241;43m=\u001b[39;49m\u001b[38;5;28;43;01mFalse\u001b[39;49;00m\u001b[43m \u001b[49m\u001b[38;5;28;43;01mif\u001b[39;49;00m\u001b[43m \u001b[49m\u001b[43mobserved\u001b[49m\u001b[43m \u001b[49m\u001b[38;5;129;43;01mis\u001b[39;49;00m\u001b[43m \u001b[49m\u001b[43mlib\u001b[49m\u001b[38;5;241;43m.\u001b[39;49m\u001b[43mno_default\u001b[49m\u001b[43m \u001b[49m\u001b[38;5;28;43;01melse\u001b[39;49;00m\u001b[43m \u001b[49m\u001b[43mobserved\u001b[49m\u001b[43m,\u001b[49m\n\u001b[1;32m   1336\u001b[0m \u001b[43m        \u001b[49m\u001b[43mdropna\u001b[49m\u001b[38;5;241;43m=\u001b[39;49m\u001b[38;5;28;43mself\u001b[39;49m\u001b[38;5;241;43m.\u001b[39;49m\u001b[43mdropna\u001b[49m\u001b[43m,\u001b[49m\n\u001b[1;32m   1337\u001b[0m \u001b[43m    \u001b[49m\u001b[43m)\u001b[49m\n\u001b[1;32m   1339\u001b[0m \u001b[38;5;28;01mif\u001b[39;00m observed \u001b[38;5;129;01mis\u001b[39;00m lib\u001b[38;5;241m.\u001b[39mno_default:\n\u001b[1;32m   1340\u001b[0m     \u001b[38;5;28;01mif\u001b[39;00m \u001b[38;5;28many\u001b[39m(ping\u001b[38;5;241m.\u001b[39m_passed_categorical \u001b[38;5;28;01mfor\u001b[39;00m ping \u001b[38;5;129;01min\u001b[39;00m grouper\u001b[38;5;241m.\u001b[39mgroupings):\n",
      "File \u001b[0;32m~/Desktop/Data_Science_WiSe_24_25/Tools_and_Programming_Languages/tools/lib/python3.12/site-packages/pandas/core/groupby/grouper.py:1043\u001b[0m, in \u001b[0;36mget_grouper\u001b[0;34m(obj, key, axis, level, sort, observed, validate, dropna)\u001b[0m\n\u001b[1;32m   1041\u001b[0m         in_axis, level, gpr \u001b[38;5;241m=\u001b[39m \u001b[38;5;28;01mFalse\u001b[39;00m, gpr, \u001b[38;5;28;01mNone\u001b[39;00m\n\u001b[1;32m   1042\u001b[0m     \u001b[38;5;28;01melse\u001b[39;00m:\n\u001b[0;32m-> 1043\u001b[0m         \u001b[38;5;28;01mraise\u001b[39;00m \u001b[38;5;167;01mKeyError\u001b[39;00m(gpr)\n\u001b[1;32m   1044\u001b[0m \u001b[38;5;28;01melif\u001b[39;00m \u001b[38;5;28misinstance\u001b[39m(gpr, Grouper) \u001b[38;5;129;01mand\u001b[39;00m gpr\u001b[38;5;241m.\u001b[39mkey \u001b[38;5;129;01mis\u001b[39;00m \u001b[38;5;129;01mnot\u001b[39;00m \u001b[38;5;28;01mNone\u001b[39;00m:\n\u001b[1;32m   1045\u001b[0m     \u001b[38;5;66;03m# Add key to exclusions\u001b[39;00m\n\u001b[1;32m   1046\u001b[0m     exclusions\u001b[38;5;241m.\u001b[39madd(gpr\u001b[38;5;241m.\u001b[39mkey)\n",
      "\u001b[0;31mKeyError\u001b[0m: 'song_name'"
     ]
    }
   ],
   "source": [
    "df[\"lyrics\"].str.contains(\"Love\").groupby(\"song_name\")"
   ]
  }
 ],
 "metadata": {
  "kernelspec": {
   "display_name": "tools",
   "language": "python",
   "name": "python3"
  },
  "language_info": {
   "codemirror_mode": {
    "name": "ipython",
    "version": 3
   },
   "file_extension": ".py",
   "mimetype": "text/x-python",
   "name": "python",
   "nbconvert_exporter": "python",
   "pygments_lexer": "ipython3",
   "version": "3.12.6"
  }
 },
 "nbformat": 4,
 "nbformat_minor": 2
}
