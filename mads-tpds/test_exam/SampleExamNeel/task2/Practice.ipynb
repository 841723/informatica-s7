{
 "cells": [
  {
   "cell_type": "code",
   "execution_count": 8,
   "metadata": {},
   "outputs": [],
   "source": [
    "import pandas as pd\n",
    "import seaborn as sns\n",
    "import matplotlib.pyplot as plt\n",
    "import numpy as np"
   ]
  },
  {
   "cell_type": "code",
   "execution_count": 9,
   "metadata": {},
   "outputs": [
    {
     "data": {
      "text/html": [
       "<div>\n",
       "<style scoped>\n",
       "    .dataframe tbody tr th:only-of-type {\n",
       "        vertical-align: middle;\n",
       "    }\n",
       "\n",
       "    .dataframe tbody tr th {\n",
       "        vertical-align: top;\n",
       "    }\n",
       "\n",
       "    .dataframe thead th {\n",
       "        text-align: right;\n",
       "    }\n",
       "</style>\n",
       "<table border=\"1\" class=\"dataframe\">\n",
       "  <thead>\n",
       "    <tr style=\"text-align: right;\">\n",
       "      <th></th>\n",
       "      <th>song_id</th>\n",
       "      <th>song_name</th>\n",
       "      <th>artist_names</th>\n",
       "      <th>genre</th>\n",
       "      <th>duration_ms</th>\n",
       "      <th>danceability</th>\n",
       "      <th>valence</th>\n",
       "      <th>tempo</th>\n",
       "      <th>explicit</th>\n",
       "      <th>lyrics</th>\n",
       "    </tr>\n",
       "  </thead>\n",
       "  <tbody>\n",
       "    <tr>\n",
       "      <th>0</th>\n",
       "      <td>5XM67HdnPub0nMDqJEUPdy</td>\n",
       "      <td>The Best Side Of Life</td>\n",
       "      <td>Sarah Connor</td>\n",
       "      <td>pop</td>\n",
       "      <td>229333</td>\n",
       "      <td>0.631</td>\n",
       "      <td>0.554</td>\n",
       "      <td>90.947</td>\n",
       "      <td>False</td>\n",
       "      <td>Is calling me home \\n The best time of the yea...</td>\n",
       "    </tr>\n",
       "    <tr>\n",
       "      <th>1</th>\n",
       "      <td>1xK1Gg9SxG8fy2Ya373oqb</td>\n",
       "      <td>Bandido</td>\n",
       "      <td>Myke Towers, Juhn</td>\n",
       "      <td>Reggaeton</td>\n",
       "      <td>232853</td>\n",
       "      <td>0.713</td>\n",
       "      <td>0.682</td>\n",
       "      <td>168.021</td>\n",
       "      <td>False</td>\n",
       "      <td>Ella e' buena, pero le gustan lo' malo' (Malo'...</td>\n",
       "    </tr>\n",
       "    <tr>\n",
       "      <th>2</th>\n",
       "      <td>1mlGScrDQqHqmhdIqE8MmA</td>\n",
       "      <td>Besos En Guerra</td>\n",
       "      <td>Morat, Juanes</td>\n",
       "      <td>pop</td>\n",
       "      <td>231533</td>\n",
       "      <td>0.690</td>\n",
       "      <td>0.772</td>\n",
       "      <td>143.957</td>\n",
       "      <td>False</td>\n",
       "      <td>¿Quién te dijo esa mentira? \\n Que eras fácil ...</td>\n",
       "    </tr>\n",
       "    <tr>\n",
       "      <th>3</th>\n",
       "      <td>4J2HLNTxiVxxs6kWgTIN43</td>\n",
       "      <td>Porfa no te vayas</td>\n",
       "      <td>Beret, Morat</td>\n",
       "      <td>spanish</td>\n",
       "      <td>209712</td>\n",
       "      <td>0.589</td>\n",
       "      <td>0.792</td>\n",
       "      <td>171.976</td>\n",
       "      <td>False</td>\n",
       "      <td>Recuerdo aquel verano que pasé contigo \\n Y ca...</td>\n",
       "    </tr>\n",
       "    <tr>\n",
       "      <th>4</th>\n",
       "      <td>0e8nrvls4Qqv5Rfa2UhqmO</td>\n",
       "      <td>THATS WHAT I WANT</td>\n",
       "      <td>Lil Nas X</td>\n",
       "      <td>Hip-Hop</td>\n",
       "      <td>143901</td>\n",
       "      <td>0.737</td>\n",
       "      <td>0.546</td>\n",
       "      <td>87.981</td>\n",
       "      <td>True</td>\n",
       "      <td>One, two, three, four \\n  \\n Need a boy who ca...</td>\n",
       "    </tr>\n",
       "  </tbody>\n",
       "</table>\n",
       "</div>"
      ],
      "text/plain": [
       "                  song_id              song_name       artist_names  \\\n",
       "0  5XM67HdnPub0nMDqJEUPdy  The Best Side Of Life       Sarah Connor   \n",
       "1  1xK1Gg9SxG8fy2Ya373oqb                Bandido  Myke Towers, Juhn   \n",
       "2  1mlGScrDQqHqmhdIqE8MmA        Besos En Guerra      Morat, Juanes   \n",
       "3  4J2HLNTxiVxxs6kWgTIN43      Porfa no te vayas       Beret, Morat   \n",
       "4  0e8nrvls4Qqv5Rfa2UhqmO      THATS WHAT I WANT          Lil Nas X   \n",
       "\n",
       "       genre  duration_ms  danceability  valence    tempo explicit  \\\n",
       "0        pop       229333         0.631    0.554   90.947    False   \n",
       "1  Reggaeton       232853         0.713    0.682  168.021    False   \n",
       "2        pop       231533         0.690    0.772  143.957    False   \n",
       "3    spanish       209712         0.589    0.792  171.976    False   \n",
       "4    Hip-Hop       143901         0.737    0.546   87.981     True   \n",
       "\n",
       "                                              lyrics  \n",
       "0  Is calling me home \\n The best time of the yea...  \n",
       "1  Ella e' buena, pero le gustan lo' malo' (Malo'...  \n",
       "2  ¿Quién te dijo esa mentira? \\n Que eras fácil ...  \n",
       "3  Recuerdo aquel verano que pasé contigo \\n Y ca...  \n",
       "4  One, two, three, four \\n  \\n Need a boy who ca...  "
      ]
     },
     "metadata": {},
     "output_type": "display_data"
    }
   ],
   "source": [
    "songs_df=pd.read_csv('data/songs.csv')\n",
    "display(songs_df.head(5))\n"
   ]
  },
  {
   "cell_type": "markdown",
   "metadata": {},
   "source": [
    "The column `duration_ms` contains the duration of songs in milliseconds. Derive from it a new column `duration` that contains the duration in minutes. Then delete the column `duration_ms`. Display the `song_name`, `artist_names` and `duration` of the 5 longest songs\n"
   ]
  },
  {
   "cell_type": "code",
   "execution_count": 10,
   "metadata": {},
   "outputs": [
    {
     "data": {
      "text/html": [
       "<div>\n",
       "<style scoped>\n",
       "    .dataframe tbody tr th:only-of-type {\n",
       "        vertical-align: middle;\n",
       "    }\n",
       "\n",
       "    .dataframe tbody tr th {\n",
       "        vertical-align: top;\n",
       "    }\n",
       "\n",
       "    .dataframe thead th {\n",
       "        text-align: right;\n",
       "    }\n",
       "</style>\n",
       "<table border=\"1\" class=\"dataframe\">\n",
       "  <thead>\n",
       "    <tr style=\"text-align: right;\">\n",
       "      <th></th>\n",
       "      <th>song_name</th>\n",
       "      <th>artist_names</th>\n",
       "      <th>duration</th>\n",
       "    </tr>\n",
       "  </thead>\n",
       "  <tbody>\n",
       "    <tr>\n",
       "      <th>274</th>\n",
       "      <td>All Too Well (10 Minute Version) (Taylor's Ver...</td>\n",
       "      <td>Taylor Swift</td>\n",
       "      <td>10.217117</td>\n",
       "    </tr>\n",
       "    <tr>\n",
       "      <th>1346</th>\n",
       "      <td>Weihnachtsoratorium, BWV 248: Part I: For the ...</td>\n",
       "      <td>Johann Sebastian Bach, Nikolaus Harnoncourt</td>\n",
       "      <td>7.977550</td>\n",
       "    </tr>\n",
       "    <tr>\n",
       "      <th>789</th>\n",
       "      <td>105 F Remix</td>\n",
       "      <td>KEVVO, Farruko, Chencho Corleone, Arcangel, Da...</td>\n",
       "      <td>7.736667</td>\n",
       "    </tr>\n",
       "    <tr>\n",
       "      <th>620</th>\n",
       "      <td>Only Fans - Remix</td>\n",
       "      <td>Young Martino, Lunay, Myke Towers, Jhay Cortez...</td>\n",
       "      <td>7.042950</td>\n",
       "    </tr>\n",
       "    <tr>\n",
       "      <th>1256</th>\n",
       "      <td>Te Boté - Remix</td>\n",
       "      <td>Nio Garcia, Casper Magico, Bad Bunny, Darell, ...</td>\n",
       "      <td>6.965333</td>\n",
       "    </tr>\n",
       "  </tbody>\n",
       "</table>\n",
       "</div>"
      ],
      "text/plain": [
       "                                              song_name  \\\n",
       "274   All Too Well (10 Minute Version) (Taylor's Ver...   \n",
       "1346  Weihnachtsoratorium, BWV 248: Part I: For the ...   \n",
       "789                                         105 F Remix   \n",
       "620                                   Only Fans - Remix   \n",
       "1256                                    Te Boté - Remix   \n",
       "\n",
       "                                           artist_names   duration  \n",
       "274                                        Taylor Swift  10.217117  \n",
       "1346        Johann Sebastian Bach, Nikolaus Harnoncourt   7.977550  \n",
       "789   KEVVO, Farruko, Chencho Corleone, Arcangel, Da...   7.736667  \n",
       "620   Young Martino, Lunay, Myke Towers, Jhay Cortez...   7.042950  \n",
       "1256  Nio Garcia, Casper Magico, Bad Bunny, Darell, ...   6.965333  "
      ]
     },
     "execution_count": 10,
     "metadata": {},
     "output_type": "execute_result"
    }
   ],
   "source": [
    "songs_df[\"duration\"]=songs_df[\"duration_ms\"]/1000/60\n",
    "songs_df.drop(columns=[\"duration_ms\"], axis=1, inplace=True)\n",
    "songs_df.sort_values(by=[\"duration\"],ascending=False,inplace=True)\n",
    "songs_df[[\"song_name\",\"artist_names\",\"duration\"]].head(5)"
   ]
  },
  {
   "cell_type": "markdown",
   "metadata": {},
   "source": [
    "Songs can be uniquely identified via their `song_id`, while a given `song_name` may be performed by several, different artists.\n",
    "How many song_ids and how many different song_names are contained in the data set? Print a short answer text."
   ]
  },
  {
   "cell_type": "code",
   "execution_count": 11,
   "metadata": {},
   "outputs": [
    {
     "name": "stdout",
     "output_type": "stream",
     "text": [
      "there are 2132 songs \n",
      "and there are 1851 song names\n"
     ]
    }
   ],
   "source": [
    "print(\n",
    "f\"there are {songs_df['song_id'].nunique()} songs \\nand there are {songs_df['song_name'].nunique()} song names\"\n",
    ")\n",
    "\n"
   ]
  },
  {
   "cell_type": "markdown",
   "metadata": {},
   "source": []
  },
  {
   "cell_type": "markdown",
   "metadata": {},
   "source": [
    "Calculate the average `tempo` per genre, and display the 5 genres with the highest average tempo."
   ]
  },
  {
   "cell_type": "code",
   "execution_count": null,
   "metadata": {},
   "outputs": [],
   "source": []
  },
  {
   "cell_type": "code",
   "execution_count": 12,
   "metadata": {},
   "outputs": [
    {
     "data": {
      "text/plain": [
       "genre\n",
       "Corridos tumbados    200.156\n",
       "Rock and Roll        190.448\n",
       "Psychedelic Rock     182.008\n",
       "Classical            177.171\n",
       "hardstyle            172.000\n",
       "Name: tempo, dtype: float64"
      ]
     },
     "execution_count": 12,
     "metadata": {},
     "output_type": "execute_result"
    }
   ],
   "source": [
    "songs_df.groupby(by=[\"genre\"]).tempo.mean().sort_values(ascending=False).head(5)"
   ]
  },
  {
   "cell_type": "markdown",
   "metadata": {},
   "source": [
    "If a song is marked as `explicit`, it means that it contains strong language, reference to violence, sexual activity, etc. What percentage of songs are marked as `explicit`? Print a short answer text.\n"
   ]
  },
  {
   "cell_type": "code",
   "execution_count": 13,
   "metadata": {},
   "outputs": [
    {
     "name": "stdout",
     "output_type": "stream",
     "text": [
      "29.22% percent of songs are explicit\n"
     ]
    }
   ],
   "source": [
    "ans=songs_df.explicit.map(lambda x: 1 if x==\"True\" else 0).sum()*100/ len(songs_df)\n",
    "print(f\"{round(ans,2)}% percent of songs are explicit\")\n"
   ]
  },
  {
   "cell_type": "markdown",
   "metadata": {},
   "source": [
    "How many songs use the words \"Christmas\" in the lyrics? Print a short answer text."
   ]
  },
  {
   "cell_type": "code",
   "execution_count": 14,
   "metadata": {},
   "outputs": [
    {
     "name": "stdout",
     "output_type": "stream",
     "text": [
      "280 songs\n"
     ]
    },
    {
     "name": "stderr",
     "output_type": "stream",
     "text": [
      "/var/folders/_7/6pp17s8j4cqfpsp03pb4sszw0000gn/T/ipykernel_78924/2434764238.py:1: FutureWarning: Downcasting object dtype arrays on .fillna, .ffill, .bfill is deprecated and will change in a future version. Call result.infer_objects(copy=False) instead. To opt-in to the future behavior, set `pd.set_option('future.no_silent_downcasting', True)`\n",
      "  print(len(songs_df[songs_df[\"lyrics\"].str.contains(\"Christmas\").fillna(False)]),\"songs\")\n"
     ]
    }
   ],
   "source": [
    "print(len(songs_df[songs_df[\"lyrics\"].str.contains(\"Christmas\").fillna(False)]),\"songs\")"
   ]
  },
  {
   "cell_type": "markdown",
   "metadata": {},
   "source": [
    "Count for each song how often the word \"love\" occurs in the `lyrics`. Display the `song_name`, `artist_names` and the number of occurrences of \"love\" for the 5 songs with the highest number of occurences."
   ]
  },
  {
   "cell_type": "code",
   "execution_count": 15,
   "metadata": {},
   "outputs": [
    {
     "data": {
      "text/html": [
       "<div>\n",
       "<style scoped>\n",
       "    .dataframe tbody tr th:only-of-type {\n",
       "        vertical-align: middle;\n",
       "    }\n",
       "\n",
       "    .dataframe tbody tr th {\n",
       "        vertical-align: top;\n",
       "    }\n",
       "\n",
       "    .dataframe thead th {\n",
       "        text-align: right;\n",
       "    }\n",
       "</style>\n",
       "<table border=\"1\" class=\"dataframe\">\n",
       "  <thead>\n",
       "    <tr style=\"text-align: right;\">\n",
       "      <th></th>\n",
       "      <th>song_name</th>\n",
       "      <th>artist_names</th>\n",
       "      <th>love_count</th>\n",
       "    </tr>\n",
       "  </thead>\n",
       "  <tbody>\n",
       "    <tr>\n",
       "      <th>2099</th>\n",
       "      <td>My Lover</td>\n",
       "      <td>Not3s</td>\n",
       "      <td>55</td>\n",
       "    </tr>\n",
       "    <tr>\n",
       "      <th>929</th>\n",
       "      <td>Lose You To Love Me</td>\n",
       "      <td>Selena Gomez</td>\n",
       "      <td>48</td>\n",
       "    </tr>\n",
       "    <tr>\n",
       "      <th>1666</th>\n",
       "      <td>Is Your Love Enough?</td>\n",
       "      <td>Little Mix</td>\n",
       "      <td>32</td>\n",
       "    </tr>\n",
       "    <tr>\n",
       "      <th>514</th>\n",
       "      <td>Shape of You</td>\n",
       "      <td>Ed Sheeran</td>\n",
       "      <td>26</td>\n",
       "    </tr>\n",
       "    <tr>\n",
       "      <th>1091</th>\n",
       "      <td>SPIT IN MY FACE!</td>\n",
       "      <td>ThxSoMch</td>\n",
       "      <td>26</td>\n",
       "    </tr>\n",
       "  </tbody>\n",
       "</table>\n",
       "</div>"
      ],
      "text/plain": [
       "                 song_name  artist_names  love_count\n",
       "2099              My Lover         Not3s          55\n",
       "929    Lose You To Love Me  Selena Gomez          48\n",
       "1666  Is Your Love Enough?    Little Mix          32\n",
       "514           Shape of You    Ed Sheeran          26\n",
       "1091      SPIT IN MY FACE!      ThxSoMch          26"
      ]
     },
     "execution_count": 15,
     "metadata": {},
     "output_type": "execute_result"
    }
   ],
   "source": [
    "def love_fun(lyrics):\n",
    "    if type(lyrics)==float:\n",
    "        return 0\n",
    "    return len(lyrics.split(\"love\"))-1\n",
    "songs_df[\"love_count\"]=songs_df.lyrics.transform(love_fun)\n",
    "songs_df[[\"song_name\",\"artist_names\",\"love_count\"]].sort_values(\"love_count\",ascending=False).head(5)"
   ]
  },
  {
   "cell_type": "markdown",
   "metadata": {},
   "source": [
    "The files `charts_xx.csv` contain the top 200 songs of the respective country (de: Germany, us: United States, gb: Great Britain, es: Spain ) on the days December 24 of the years 2017 - 2022.\n",
    "\n",
    "Read in the four data sets and combine them appropriately into a single \"tidy\" data frame. Avoid repetitions in your code as much as possible."
   ]
  },
  {
   "cell_type": "code",
   "execution_count": 16,
   "metadata": {},
   "outputs": [
    {
     "data": {
      "text/html": [
       "<div>\n",
       "<style scoped>\n",
       "    .dataframe tbody tr th:only-of-type {\n",
       "        vertical-align: middle;\n",
       "    }\n",
       "\n",
       "    .dataframe tbody tr th {\n",
       "        vertical-align: top;\n",
       "    }\n",
       "\n",
       "    .dataframe thead th {\n",
       "        text-align: right;\n",
       "    }\n",
       "</style>\n",
       "<table border=\"1\" class=\"dataframe\">\n",
       "  <thead>\n",
       "    <tr style=\"text-align: right;\">\n",
       "      <th></th>\n",
       "      <th>date</th>\n",
       "      <th>position</th>\n",
       "      <th>song_id</th>\n",
       "      <th>song_name</th>\n",
       "      <th>artist_names</th>\n",
       "      <th>streams</th>\n",
       "      <th>country</th>\n",
       "    </tr>\n",
       "  </thead>\n",
       "  <tbody>\n",
       "    <tr>\n",
       "      <th>0</th>\n",
       "      <td>2022-12-24</td>\n",
       "      <td>1.0</td>\n",
       "      <td>0bYg9bo50gSsH3LtXe2SQn</td>\n",
       "      <td>All I Want for Christmas Is You</td>\n",
       "      <td>Mariah Carey</td>\n",
       "      <td>3267242</td>\n",
       "      <td>de</td>\n",
       "    </tr>\n",
       "    <tr>\n",
       "      <th>1</th>\n",
       "      <td>2022-12-24</td>\n",
       "      <td>2.0</td>\n",
       "      <td>2FRnf9qhLbvw8fu4IBXx78</td>\n",
       "      <td>Last Christmas</td>\n",
       "      <td>Wham!</td>\n",
       "      <td>3217134</td>\n",
       "      <td>de</td>\n",
       "    </tr>\n",
       "    <tr>\n",
       "      <th>2</th>\n",
       "      <td>2022-12-24</td>\n",
       "      <td>3.0</td>\n",
       "      <td>2TE4xW3ImvpltVU0cPcKUn</td>\n",
       "      <td>Merry Christmas Everyone</td>\n",
       "      <td>Shakin' Stevens</td>\n",
       "      <td>2797277</td>\n",
       "      <td>de</td>\n",
       "    </tr>\n",
       "    <tr>\n",
       "      <th>3</th>\n",
       "      <td>2022-12-24</td>\n",
       "      <td>4.0</td>\n",
       "      <td>1rv46mRwDqMEhOBZ7vODg3</td>\n",
       "      <td>It's Beginning to Look a Lot like Christmas</td>\n",
       "      <td>Michael Bublé</td>\n",
       "      <td>2350886</td>\n",
       "      <td>de</td>\n",
       "    </tr>\n",
       "    <tr>\n",
       "      <th>4</th>\n",
       "      <td>2022-12-24</td>\n",
       "      <td>5.0</td>\n",
       "      <td>27qAMKrDdKEs8HDXcvR24R</td>\n",
       "      <td>Driving Home for Christmas - 2019 Remaster</td>\n",
       "      <td>Chris Rea</td>\n",
       "      <td>2317764</td>\n",
       "      <td>de</td>\n",
       "    </tr>\n",
       "    <tr>\n",
       "      <th>...</th>\n",
       "      <td>...</td>\n",
       "      <td>...</td>\n",
       "      <td>...</td>\n",
       "      <td>...</td>\n",
       "      <td>...</td>\n",
       "      <td>...</td>\n",
       "      <td>...</td>\n",
       "    </tr>\n",
       "    <tr>\n",
       "      <th>4793</th>\n",
       "      <td>2017-12-24</td>\n",
       "      <td>NaN</td>\n",
       "      <td>1Qg9jWGDkKAGZXj5v2OG59</td>\n",
       "      <td>Wait</td>\n",
       "      <td>Maroon 5</td>\n",
       "      <td>218519</td>\n",
       "      <td>us</td>\n",
       "    </tr>\n",
       "    <tr>\n",
       "      <th>4794</th>\n",
       "      <td>2017-12-24</td>\n",
       "      <td>NaN</td>\n",
       "      <td>3YeJXuRSNS5FYwOsDu44kD</td>\n",
       "      <td>Dark Knight Dummo (feat. Travis Scott)</td>\n",
       "      <td>Trippie Redd, Travis Scott</td>\n",
       "      <td>218033</td>\n",
       "      <td>us</td>\n",
       "    </tr>\n",
       "    <tr>\n",
       "      <th>4795</th>\n",
       "      <td>2017-12-24</td>\n",
       "      <td>NaN</td>\n",
       "      <td>6tN6rdEfm6ZtuKsqpoh3on</td>\n",
       "      <td>Rudolph The Red Nosed Reindeer</td>\n",
       "      <td>DMX</td>\n",
       "      <td>216793</td>\n",
       "      <td>us</td>\n",
       "    </tr>\n",
       "    <tr>\n",
       "      <th>4796</th>\n",
       "      <td>2017-12-24</td>\n",
       "      <td>NaN</td>\n",
       "      <td>6SwRhMLwNqEi6alNPVG00n</td>\n",
       "      <td>LOYALTY. FEAT. RIHANNA.</td>\n",
       "      <td>Kendrick Lamar, Rihanna</td>\n",
       "      <td>216659</td>\n",
       "      <td>us</td>\n",
       "    </tr>\n",
       "    <tr>\n",
       "      <th>4797</th>\n",
       "      <td>2017-12-24</td>\n",
       "      <td>NaN</td>\n",
       "      <td>1dtIaSlyrLI04sqYa8nLyN</td>\n",
       "      <td>Rudolph the Red-Nosed Reindeer</td>\n",
       "      <td>Gene Autry</td>\n",
       "      <td>216400</td>\n",
       "      <td>us</td>\n",
       "    </tr>\n",
       "  </tbody>\n",
       "</table>\n",
       "<p>4798 rows × 7 columns</p>\n",
       "</div>"
      ],
      "text/plain": [
       "            date  position                 song_id  \\\n",
       "0     2022-12-24       1.0  0bYg9bo50gSsH3LtXe2SQn   \n",
       "1     2022-12-24       2.0  2FRnf9qhLbvw8fu4IBXx78   \n",
       "2     2022-12-24       3.0  2TE4xW3ImvpltVU0cPcKUn   \n",
       "3     2022-12-24       4.0  1rv46mRwDqMEhOBZ7vODg3   \n",
       "4     2022-12-24       5.0  27qAMKrDdKEs8HDXcvR24R   \n",
       "...          ...       ...                     ...   \n",
       "4793  2017-12-24       NaN  1Qg9jWGDkKAGZXj5v2OG59   \n",
       "4794  2017-12-24       NaN  3YeJXuRSNS5FYwOsDu44kD   \n",
       "4795  2017-12-24       NaN  6tN6rdEfm6ZtuKsqpoh3on   \n",
       "4796  2017-12-24       NaN  6SwRhMLwNqEi6alNPVG00n   \n",
       "4797  2017-12-24       NaN  1dtIaSlyrLI04sqYa8nLyN   \n",
       "\n",
       "                                        song_name                artist_names  \\\n",
       "0                 All I Want for Christmas Is You                Mariah Carey   \n",
       "1                                  Last Christmas                       Wham!   \n",
       "2                        Merry Christmas Everyone             Shakin' Stevens   \n",
       "3     It's Beginning to Look a Lot like Christmas               Michael Bublé   \n",
       "4      Driving Home for Christmas - 2019 Remaster                   Chris Rea   \n",
       "...                                           ...                         ...   \n",
       "4793                                         Wait                    Maroon 5   \n",
       "4794       Dark Knight Dummo (feat. Travis Scott)  Trippie Redd, Travis Scott   \n",
       "4795               Rudolph The Red Nosed Reindeer                         DMX   \n",
       "4796                      LOYALTY. FEAT. RIHANNA.     Kendrick Lamar, Rihanna   \n",
       "4797               Rudolph the Red-Nosed Reindeer                  Gene Autry   \n",
       "\n",
       "      streams country  \n",
       "0     3267242      de  \n",
       "1     3217134      de  \n",
       "2     2797277      de  \n",
       "3     2350886      de  \n",
       "4     2317764      de  \n",
       "...       ...     ...  \n",
       "4793   218519      us  \n",
       "4794   218033      us  \n",
       "4795   216793      us  \n",
       "4796   216659      us  \n",
       "4797   216400      us  \n",
       "\n",
       "[4798 rows x 7 columns]"
      ]
     },
     "metadata": {},
     "output_type": "display_data"
    }
   ],
   "source": [
    "# df_de=pd.read_csv(\"data/charts_de.csv\")\n",
    "# df_es=pd.read_csv(\"data/charts_es.csv\")\n",
    "# df_gb=pd.read_csv(\"data/charts_gb.csv\")\n",
    "# df_us=pd.read_csv(\"data/charts_us.csv\")\n",
    "\n",
    "# display(df_de)\n",
    "# display(df_es)\n",
    "# display(df_gb)\n",
    "# display(df_us)\n",
    "# chart_df=pd.merge(df_de, df_es, \"left\", \"song_id\")\n",
    "# chart_df=pd.merge(chart_df, df_gb, \"left\", \"song_id\")\n",
    "# # chart_df=pd.merge(chart_df, df_us, \"left\", \"song_id\")\n",
    "\n",
    "# display(chart_df)\n",
    "\n",
    "#############################################################\n",
    "charts_df = pd.DataFrame()\n",
    "charts = {}\n",
    "countries = [\"de\", \"es\", \"gb\", \"us\"]\n",
    "\n",
    "for country in countries:\n",
    "    charts[country] = pd.read_csv(f\"data/charts_{country}.csv\")\n",
    "    charts[country]['country'] = country  # Add country column\n",
    "    if charts_df.empty:\n",
    "        charts_df = charts[country]\n",
    "    else:\n",
    "        charts_df = pd.concat([charts_df, charts[country]], ignore_index=True)\n",
    "\n",
    "display(charts_df)\n",
    "\n",
    "\n"
   ]
  },
  {
   "cell_type": "markdown",
   "metadata": {},
   "source": [
    "\n",
    "# Display the total number of streams per country on the date 2022-12-24\n"
   ]
  },
  {
   "cell_type": "code",
   "execution_count": 17,
   "metadata": {},
   "outputs": [
    {
     "name": "stdout",
     "output_type": "stream",
     "text": [
      "country\n",
      "de    108837012\n",
      "es     31182666\n",
      "gb     59695507\n",
      "us    161514161\n",
      "Name: streams, dtype: int64\n"
     ]
    }
   ],
   "source": [
    "total_streams_per_country = charts_df[charts_df['date'] == '2022-12-24'].groupby('country')['streams'].sum()\n",
    "print(total_streams_per_country)"
   ]
  },
  {
   "cell_type": "code",
   "execution_count": 18,
   "metadata": {},
   "outputs": [
    {
     "data": {
      "text/plain": [
       "country\n",
       "de    108837012\n",
       "es     31182666\n",
       "gb     59695507\n",
       "us    161514161\n",
       "Name: streams, dtype: int64"
      ]
     },
     "execution_count": 18,
     "metadata": {},
     "output_type": "execute_result"
    }
   ],
   "source": [
    "Total_stream_by_country= charts_df[charts_df[\"date\"]==\"2022-12-24\"].groupby(\"country\")[\"streams\"].sum()\n",
    "Total_stream_by_country"
   ]
  },
  {
   "cell_type": "markdown",
   "metadata": {},
   "source": [
    "Calculate the average `danceability` and the total number of `streams` per country.\n",
    "\n",
    "Notes:\n",
    "\n",
    "- For this task you need to combine the songs and charts DataFrames appropriately into a single DataFrame.\n",
    "- If you did not manage to solve exercise 5, you can use the file `charts_backup.csv`.\n"
   ]
  },
  {
   "cell_type": "code",
   "execution_count": 19,
   "metadata": {},
   "outputs": [],
   "source": [
    "# df_songs = pd.read_csv(\"data/songs.csv\")\n",
    "# df_songs\n",
    "\n",
    "# # # Select the columns to keep from each DataFrame\n",
    "# # columns_to_keep = ['song_id', 'song_name', 'artist_names', 'duration', 'tempo', 'explicit', 'lyrics', 'genre']\n",
    "# df_songs.drop(columns=[\"song_name\",\"artist_names\"],axis=1,inplace=True)\n",
    "# # Merge the DataFrames\n",
    "# df = pd.merge(charts_df, df_songs, on=\"song_id\", how=\"inner\")\n",
    "# # Display the merged DataFrame\n",
    "# df\n",
    "\n",
    "# # Calculate the average `danceability` and the total number of `streams` per country.\n",
    "# result = df.groupby('country').agg({'danceability': 'mean', 'streams': 'sum'})\n",
    "# result\n",
    "\n"
   ]
  },
  {
   "cell_type": "markdown",
   "metadata": {},
   "source": [
    "Calculate the average `danceability` and the total number of `streams` per country.\n",
    "\n",
    "Notes:\n",
    "\n",
    "- For this task you need to combine the songs and charts DataFrames appropriately into a single DataFrame.\n",
    "- If you did not manage to solve exercise 5, you can use the file `charts_backup.csv`.\n"
   ]
  },
  {
   "cell_type": "code",
   "execution_count": 20,
   "metadata": {},
   "outputs": [
    {
     "data": {
      "text/html": [
       "<div>\n",
       "<style scoped>\n",
       "    .dataframe tbody tr th:only-of-type {\n",
       "        vertical-align: middle;\n",
       "    }\n",
       "\n",
       "    .dataframe tbody tr th {\n",
       "        vertical-align: top;\n",
       "    }\n",
       "\n",
       "    .dataframe thead th {\n",
       "        text-align: right;\n",
       "    }\n",
       "</style>\n",
       "<table border=\"1\" class=\"dataframe\">\n",
       "  <thead>\n",
       "    <tr style=\"text-align: right;\">\n",
       "      <th></th>\n",
       "      <th>streams</th>\n",
       "      <th>danceability</th>\n",
       "    </tr>\n",
       "    <tr>\n",
       "      <th>country</th>\n",
       "      <th></th>\n",
       "      <th></th>\n",
       "    </tr>\n",
       "  </thead>\n",
       "  <tbody>\n",
       "    <tr>\n",
       "      <th>de</th>\n",
       "      <td>491345726</td>\n",
       "      <td>0.553947</td>\n",
       "    </tr>\n",
       "    <tr>\n",
       "      <th>es</th>\n",
       "      <td>134341837</td>\n",
       "      <td>0.679203</td>\n",
       "    </tr>\n",
       "    <tr>\n",
       "      <th>gb</th>\n",
       "      <td>286075531</td>\n",
       "      <td>0.572602</td>\n",
       "    </tr>\n",
       "    <tr>\n",
       "      <th>us</th>\n",
       "      <td>747236256</td>\n",
       "      <td>0.598899</td>\n",
       "    </tr>\n",
       "  </tbody>\n",
       "</table>\n",
       "</div>"
      ],
      "text/plain": [
       "           streams  danceability\n",
       "country                         \n",
       "de       491345726      0.553947\n",
       "es       134341837      0.679203\n",
       "gb       286075531      0.572602\n",
       "us       747236256      0.598899"
      ]
     },
     "execution_count": 20,
     "metadata": {},
     "output_type": "execute_result"
    }
   ],
   "source": [
    "df_songs=pd.read_csv(\"data/songs.csv\")\n",
    "songs_df.drop(columns=[\"song_name\",\"artist_names\"])\n",
    "df=pd.merge(charts_df,songs_df,\"inner\",\"song_id\")\n",
    "df.groupby(\"country\").agg({'streams':'sum','danceability':'mean'})"
   ]
  }
 ],
 "metadata": {
  "kernelspec": {
   "display_name": "tools",
   "language": "python",
   "name": "python3"
  },
  "language_info": {
   "codemirror_mode": {
    "name": "ipython",
    "version": 3
   },
   "file_extension": ".py",
   "mimetype": "text/x-python",
   "name": "python",
   "nbconvert_exporter": "python",
   "pygments_lexer": "ipython3",
   "version": "3.12.6"
  }
 },
 "nbformat": 4,
 "nbformat_minor": 2
}
