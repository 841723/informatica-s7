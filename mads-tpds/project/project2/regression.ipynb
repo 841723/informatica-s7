{
 "cells": [
  {
   "cell_type": "markdown",
   "metadata": {},
   "source": [
    "# Supervised Machine Learning: Regression"
   ]
  },
  {
   "cell_type": "markdown",
   "metadata": {},
   "source": [
    "## 1. Task Description"
   ]
  },
  {
   "cell_type": "code",
   "execution_count": null,
   "metadata": {},
   "outputs": [],
   "source": [
    "#%pip install scikit-learn"
   ]
  },
  {
   "cell_type": "code",
   "execution_count": 2,
   "metadata": {},
   "outputs": [],
   "source": [
    "import pandas as pd\n",
    "import seaborn as sns\n",
    "from sklearn.model_selection import train_test_split\n",
    "from sklearn.linear_model import LinearRegression\n",
    "from sklearn.metrics import root_mean_squared_error"
   ]
  },
  {
   "cell_type": "code",
   "execution_count": 7,
   "metadata": {},
   "outputs": [],
   "source": [
    "df = pd.read_csv('used_cars_sample.csv')\n",
    "df.head()"
   ]
  },
  {
   "cell_type": "markdown",
   "metadata": {},
   "source": [
    "- We have a dataset about used cars and we want to train a machine learning model that predicts the price of the cars (**target** or **y**), based on the cars' characteristics (**features** or **X**)\n",
    "- This constitues a **supervised machine learning** task, because we know the true prices of the cars: we can use this information to train the model and to evaluate its performance\n",
    "- It is also a **regression** task, because the target variable is continuous (price) as opposed to categorical (e.g., \"expensive\" vs. \"cheap\")\n",
    "- Once we have a trained model, we can use it to predict the price of new cars with unknown prices\n",
    "\n",
    "**Note:** We use a very basic, stylized setup to build an intuition of the most important steps: we restrict ourselves to purely **numeric features** and only one algorithm, the **linear regression**. In practice, other feature types, preprocessing steps, algorithms, and hyperparameters could be considered, but this is beyond the scope of this course. "
   ]
  },
  {
   "cell_type": "code",
   "execution_count": 12,
   "metadata": {},
   "outputs": [],
   "source": [
    "X = df[['mileage','age','horsepower','fuel_consumption']]   # Features\n",
    "y = df['price']                                             # Target"
   ]
  },
  {
   "cell_type": "markdown",
   "metadata": {},
   "source": [
    "## 2. Data Inspection and potentially preprocessing"
   ]
  },
  {
   "cell_type": "code",
   "execution_count": null,
   "metadata": {},
   "outputs": [],
   "source": [
    "df.info()"
   ]
  },
  {
   "cell_type": "markdown",
   "metadata": {},
   "source": [
    "- Our dataset only contains numeric features and no missing values. Hence, we can ignore preprocessing steps related to handling missing values or categorical features.\n",
    "- But note: a linear regression model does not accept missing values. If there were missing values, we would have to either drop the corresponding rows (i.e. cars) or impute the missing values.\n"
   ]
  },
  {
   "cell_type": "code",
   "execution_count": null,
   "metadata": {},
   "outputs": [],
   "source": [
    "df.describe()"
   ]
  },
  {
   "cell_type": "markdown",
   "metadata": {},
   "source": [
    "We can use **scatterplots** to visualize the relationship between the target variable and each individual feature. This can help us to build intuition about patterns and relationships. Seaborns **lmplot** function is a convenient way to create scatterplots with a regression line."
   ]
  },
  {
   "cell_type": "code",
   "execution_count": null,
   "metadata": {},
   "outputs": [],
   "source": [
    "sns.lmplot(x='horsepower', y='price', data=df, line_kws={'color': 'red'})"
   ]
  },
  {
   "cell_type": "markdown",
   "metadata": {},
   "source": [
    "## 3. Train-Test Split"
   ]
  },
  {
   "cell_type": "markdown",
   "metadata": {},
   "source": [
    "- We want a model that does not only work on the specific dataset it has trained on, but **generalizes well to new, unseen data**.\n",
    "- The purpose of the train-test split is to **evaluate the model's performance on unseen data**.\n",
    "- We train the model on the training set and evaluate it on the test set. \n",
    "- If the model performs well on the training data only, but does not generalize to the test data, we call this **overfitting**.\n",
    "- Typically, we use a **larger training set** (e.g., 80% of the data) **and a smaller test set** (e.g., 20% of the data) so that the model has enough data to learn from, but still enough unseen data to evaluate its performance."
   ]
  },
  {
   "cell_type": "code",
   "execution_count": 13,
   "metadata": {},
   "outputs": [],
   "source": [
    "X_train, X_test, y_train, y_test = train_test_split(X, y, test_size=0.2, random_state=1) "
   ]
  },
  {
   "cell_type": "markdown",
   "metadata": {},
   "source": [
    "## 4. Fit linear regression model"
   ]
  },
  {
   "cell_type": "markdown",
   "metadata": {},
   "source": [
    "- The linear regression model tries to find the **best-fitting line** (or more precisely, hyperplane) through the data.\n",
    "- For any possible line we can calculate the error between the predicted and the true target values. The \"best\" line is the one that has the smalles **mean squared error** (MSE).\n",
    "- The assumption of linear regression is that the relationship between the features and the target variable is linear. This assumption is simple but often works well in practice.\n",
    "- Note that we **fit the linear regression on the training data**."
   ]
  },
  {
   "cell_type": "code",
   "execution_count": null,
   "metadata": {},
   "outputs": [],
   "source": [
    "model = LinearRegression()\n",
    "model.fit(X_train, y_train)"
   ]
  },
  {
   "cell_type": "markdown",
   "metadata": {},
   "source": [
    "## 5. Evaluate the model"
   ]
  },
  {
   "cell_type": "markdown",
   "metadata": {},
   "source": [
    "- We can use our trained model to **make predictions on the test data**\n",
    "- Then we can compare these predictions to the true prices of the cars in the test set\n",
    "- A common metric to evaluate regression models is the **root mean squared error** (RMSE). It gives us an idea of how far off our predictions are on average.\n",
    "- **In a real-world scenario**, we would try to improve the model by trying different features, algorithms, hyperparameters, and preprocessing steps, and **pick the model that achieves the best performance on the test set**."
   ]
  },
  {
   "cell_type": "code",
   "execution_count": null,
   "metadata": {},
   "outputs": [],
   "source": [
    "# Predict on the test set\n",
    "y_pred = model.predict(X_test)\n",
    "\n",
    "# Evaluate the model\n",
    "rmse = root_mean_squared_error(y_test, y_pred)\n",
    "print(f\"Root Mean Squared Error: {rmse}\")"
   ]
  },
  {
   "cell_type": "markdown",
   "metadata": {},
   "source": [
    "## 6. Predicting the price of a car"
   ]
  },
  {
   "cell_type": "markdown",
   "metadata": {},
   "source": [
    "Suppose you want to sell your car and you are interested in the price you could ask for it. You can now use the trained model to predict its price:"
   ]
  },
  {
   "cell_type": "code",
   "execution_count": null,
   "metadata": {},
   "outputs": [],
   "source": [
    "mycar = pd.DataFrame([{'mileage': 70000,'age': 12,'horsepower': 74,'fuel_consumption': 12}])\n",
    "mycar"
   ]
  },
  {
   "cell_type": "code",
   "execution_count": null,
   "metadata": {},
   "outputs": [],
   "source": [
    "print(f\"The predicted price of a car is {round(model.predict(mycar)[0])}\")"
   ]
  },
  {
   "cell_type": "markdown",
   "metadata": {},
   "source": [
    "## 7. Model interpretation"
   ]
  },
  {
   "cell_type": "markdown",
   "metadata": {},
   "source": [
    "- Apart from making predictions, we can also use the trained model to better understand, **how the individual features affect the price**\n",
    "- While the linear regression model is simple, it has the advantage that we can easily interpret the coefficients of the model."
   ]
  },
  {
   "cell_type": "code",
   "execution_count": null,
   "metadata": {},
   "outputs": [],
   "source": [
    "for coef, name in zip(model.coef_, model.feature_names_in_):\n",
    "    print(f\"A 1 unit increase in {name} is associated with a {coef:.2f} change in price.\")"
   ]
  }
 ],
 "metadata": {
  "kernelspec": {
   "display_name": "tpds",
   "language": "python",
   "name": "python3"
  },
  "language_info": {
   "codemirror_mode": {
    "name": "ipython",
    "version": 3
   },
   "file_extension": ".py",
   "mimetype": "text/x-python",
   "name": "python",
   "nbconvert_exporter": "python",
   "pygments_lexer": "ipython3",
   "version": "3.11.0"
  }
 },
 "nbformat": 4,
 "nbformat_minor": 2
}
