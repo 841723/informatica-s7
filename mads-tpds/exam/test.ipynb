{
 "cells": [
  {
   "cell_type": "markdown",
   "metadata": {},
   "source": [
    "# Instructions"
   ]
  },
  {
   "cell_type": "markdown",
   "metadata": {},
   "source": [
    "This programming test is all about \"air quality\". To solve all tasks you need the following 3 data files:\n",
    "\n",
    "- **pollutants1.csv** contains information on air pollutants measured at different sites on different days. The file has the following columns:\n",
    "    - `site_id`: unique identifier for the site\n",
    "    - `date`: date of the measurement\n",
    "    - `pm10`: particulate matter (german: Feinstaub) with a maximum diameter of 10 micrometers (µg/m³)\n",
    "    - `pm2.5`: particulate matter with a maximum diameter of 2.5 micrometers (µg/m³)\n",
    "- **pollutants2.csv** contains information on further air pollutants\n",
    "    - `site_id`: unique identifier for the site\n",
    "    - `date`: date of the measurement\n",
    "    - `pollutant`: name of the pollutant (no2: nitrogen dioxide, o3: ozone, so2: sulfur dioxide)\n",
    "    - `value`: measured value of the pollutant in µg/m³\n",
    "\n",
    "- **sites.csv** contains meta data on the sites\n",
    "\n",
    "**Notes**: \n",
    "\n",
    "- If you do not manage to prepare the full data set in exercises 1-3, then you may use the file **backup.csv** to solve the other exercises. \n",
    "- Overall you can get 110 points. Of these, 10 points are bonus points. Note that only a maximum of 100 points will be counted for your final score (composed of this test and the two projects).\n",
    "\n"
   ]
  },
  {
   "cell_type": "markdown",
   "metadata": {
    "vscode": {
     "languageId": "plaintext"
    }
   },
   "source": [
    "# Exercise 1 (15 points)"
   ]
  },
  {
   "cell_type": "markdown",
   "metadata": {
    "vscode": {
     "languageId": "plaintext"
    }
   },
   "source": [
    "Import packages here"
   ]
  },
  {
   "cell_type": "code",
   "execution_count": 153,
   "metadata": {},
   "outputs": [],
   "source": [
    "import pandas as pd\n",
    "import numpy as np\n",
    "import seaborn as sns\n",
    "import matplotlib.pyplot as plt\n"
   ]
  },
  {
   "cell_type": "markdown",
   "metadata": {
    "vscode": {
     "languageId": "plaintext"
    }
   },
   "source": [
    "Read in the data set `pollutants1.csv` and display the first five rows. "
   ]
  },
  {
   "cell_type": "code",
   "execution_count": 154,
   "metadata": {},
   "outputs": [
    {
     "data": {
      "text/html": [
       "<div>\n",
       "<style scoped>\n",
       "    .dataframe tbody tr th:only-of-type {\n",
       "        vertical-align: middle;\n",
       "    }\n",
       "\n",
       "    .dataframe tbody tr th {\n",
       "        vertical-align: top;\n",
       "    }\n",
       "\n",
       "    .dataframe thead th {\n",
       "        text-align: right;\n",
       "    }\n",
       "</style>\n",
       "<table border=\"1\" class=\"dataframe\">\n",
       "  <thead>\n",
       "    <tr style=\"text-align: right;\">\n",
       "      <th></th>\n",
       "      <th>date</th>\n",
       "      <th>pm10</th>\n",
       "      <th>pm2.5</th>\n",
       "    </tr>\n",
       "    <tr>\n",
       "      <th>site_id</th>\n",
       "      <th></th>\n",
       "      <th></th>\n",
       "      <th></th>\n",
       "    </tr>\n",
       "  </thead>\n",
       "  <tbody>\n",
       "    <tr>\n",
       "      <th>at0ill1</th>\n",
       "      <td>2023-01-01</td>\n",
       "      <td>18.279</td>\n",
       "      <td>16.07</td>\n",
       "    </tr>\n",
       "    <tr>\n",
       "      <th>at0ill1</th>\n",
       "      <td>2023-01-02</td>\n",
       "      <td>13.359</td>\n",
       "      <td>12.36</td>\n",
       "    </tr>\n",
       "    <tr>\n",
       "      <th>at0ill1</th>\n",
       "      <td>2023-01-03</td>\n",
       "      <td>11.934</td>\n",
       "      <td>10.135</td>\n",
       "    </tr>\n",
       "    <tr>\n",
       "      <th>at0ill1</th>\n",
       "      <td>2023-01-04</td>\n",
       "      <td>8.834</td>\n",
       "      <td>7.792</td>\n",
       "    </tr>\n",
       "    <tr>\n",
       "      <th>at0ill1</th>\n",
       "      <td>2023-01-05</td>\n",
       "      <td>5.947</td>\n",
       "      <td>5.075</td>\n",
       "    </tr>\n",
       "  </tbody>\n",
       "</table>\n",
       "</div>"
      ],
      "text/plain": [
       "               date    pm10   pm2.5\n",
       "site_id                            \n",
       "at0ill1  2023-01-01  18.279   16.07\n",
       "at0ill1  2023-01-02  13.359   12.36\n",
       "at0ill1  2023-01-03  11.934  10.135\n",
       "at0ill1  2023-01-04   8.834   7.792\n",
       "at0ill1  2023-01-05   5.947   5.075"
      ]
     },
     "execution_count": 154,
     "metadata": {},
     "output_type": "execute_result"
    }
   ],
   "source": [
    "df_1 = pd.read_csv('pollutants1.csv')\n",
    "df_1.set_index([\"site_id\"], inplace=True)\n",
    "df_1.head(5)"
   ]
  },
  {
   "cell_type": "markdown",
   "metadata": {},
   "source": [
    "Print the number of rows and columns in the dataset."
   ]
  },
  {
   "cell_type": "code",
   "execution_count": 155,
   "metadata": {},
   "outputs": [
    {
     "name": "stdout",
     "output_type": "stream",
     "text": [
      "There are 24062 rows and 3 columns\n"
     ]
    }
   ],
   "source": [
    "print(f\"There are {df_1.shape[0]} rows and {df_1.shape[1]} columns\")\n"
   ]
  },
  {
   "cell_type": "markdown",
   "metadata": {
    "vscode": {
     "languageId": "plaintext"
    }
   },
   "source": [
    "Pollutants are measured at specific sites which can be identified via their `site_id`. How many different sites are contained in the data?"
   ]
  },
  {
   "cell_type": "code",
   "execution_count": 156,
   "metadata": {},
   "outputs": [
    {
     "name": "stdout",
     "output_type": "stream",
     "text": [
      "Number of diferent sites:\n"
     ]
    },
    {
     "data": {
      "text/plain": [
       "67"
      ]
     },
     "execution_count": 156,
     "metadata": {},
     "output_type": "execute_result"
    }
   ],
   "source": [
    "print(\"Number of diferent sites:\")\n",
    "df_1.index.unique().shape[0]"
   ]
  },
  {
   "cell_type": "markdown",
   "metadata": {},
   "source": [
    "# Exercise 2 (25 points)"
   ]
  },
  {
   "cell_type": "markdown",
   "metadata": {
    "vscode": {
     "languageId": "plaintext"
    }
   },
   "source": [
    "Read in the data set `pollutants2.csv` and display the first five values."
   ]
  },
  {
   "cell_type": "code",
   "execution_count": 169,
   "metadata": {},
   "outputs": [
    {
     "data": {
      "text/html": [
       "<div>\n",
       "<style scoped>\n",
       "    .dataframe tbody tr th:only-of-type {\n",
       "        vertical-align: middle;\n",
       "    }\n",
       "\n",
       "    .dataframe tbody tr th {\n",
       "        vertical-align: top;\n",
       "    }\n",
       "\n",
       "    .dataframe thead th {\n",
       "        text-align: right;\n",
       "    }\n",
       "</style>\n",
       "<table border=\"1\" class=\"dataframe\">\n",
       "  <thead>\n",
       "    <tr style=\"text-align: right;\">\n",
       "      <th></th>\n",
       "      <th>site_id</th>\n",
       "      <th>date</th>\n",
       "      <th>pollutant</th>\n",
       "      <th>value</th>\n",
       "    </tr>\n",
       "  </thead>\n",
       "  <tbody>\n",
       "    <tr>\n",
       "      <th>0</th>\n",
       "      <td>at0ill1</td>\n",
       "      <td>2023-01-01</td>\n",
       "      <td>no2</td>\n",
       "      <td>6.234</td>\n",
       "    </tr>\n",
       "    <tr>\n",
       "      <th>1</th>\n",
       "      <td>at0ill1</td>\n",
       "      <td>2023-01-02</td>\n",
       "      <td>no2</td>\n",
       "      <td>9.243</td>\n",
       "    </tr>\n",
       "    <tr>\n",
       "      <th>2</th>\n",
       "      <td>at0ill1</td>\n",
       "      <td>2023-01-03</td>\n",
       "      <td>no2</td>\n",
       "      <td>17.199</td>\n",
       "    </tr>\n",
       "    <tr>\n",
       "      <th>3</th>\n",
       "      <td>at0ill1</td>\n",
       "      <td>2023-01-04</td>\n",
       "      <td>no2</td>\n",
       "      <td>6.280</td>\n",
       "    </tr>\n",
       "    <tr>\n",
       "      <th>4</th>\n",
       "      <td>at0ill1</td>\n",
       "      <td>2023-01-05</td>\n",
       "      <td>no2</td>\n",
       "      <td>4.881</td>\n",
       "    </tr>\n",
       "  </tbody>\n",
       "</table>\n",
       "</div>"
      ],
      "text/plain": [
       "   site_id        date pollutant   value\n",
       "0  at0ill1  2023-01-01       no2   6.234\n",
       "1  at0ill1  2023-01-02       no2   9.243\n",
       "2  at0ill1  2023-01-03       no2  17.199\n",
       "3  at0ill1  2023-01-04       no2   6.280\n",
       "4  at0ill1  2023-01-05       no2   4.881"
      ]
     },
     "execution_count": 169,
     "metadata": {},
     "output_type": "execute_result"
    }
   ],
   "source": [
    "df_2 = pd.read_csv('pollutants2.csv')\n",
    "df_2.head(5)"
   ]
  },
  {
   "cell_type": "markdown",
   "metadata": {
    "vscode": {
     "languageId": "plaintext"
    }
   },
   "source": [
    "Combine both data sets (pollutants1, pollutants2) _suitably_ into one data set. In the combined data, a single row should contain the measurements of all pollutants (`pm10`, `pm2.5`, `no2`, `so2`, `o3`) at one site on one day. Display the first five rows of the combined data and print its row number?"
   ]
  },
  {
   "cell_type": "code",
   "execution_count": 170,
   "metadata": {},
   "outputs": [
    {
     "data": {
      "text/html": [
       "<div>\n",
       "<style scoped>\n",
       "    .dataframe tbody tr th:only-of-type {\n",
       "        vertical-align: middle;\n",
       "    }\n",
       "\n",
       "    .dataframe tbody tr th {\n",
       "        vertical-align: top;\n",
       "    }\n",
       "\n",
       "    .dataframe thead th {\n",
       "        text-align: right;\n",
       "    }\n",
       "</style>\n",
       "<table border=\"1\" class=\"dataframe\">\n",
       "  <thead>\n",
       "    <tr style=\"text-align: right;\">\n",
       "      <th></th>\n",
       "      <th>site_id</th>\n",
       "      <th>pollutant</th>\n",
       "      <th>no2</th>\n",
       "      <th>so2</th>\n",
       "      <th>o3</th>\n",
       "      <th>date</th>\n",
       "      <th>pm10</th>\n",
       "      <th>pm2.5</th>\n",
       "    </tr>\n",
       "  </thead>\n",
       "  <tbody>\n",
       "    <tr>\n",
       "      <th>0</th>\n",
       "      <td>at0ill1</td>\n",
       "      <td>no2</td>\n",
       "      <td>6.234</td>\n",
       "      <td>0.38</td>\n",
       "      <td>28.1</td>\n",
       "      <td>2023-01-01</td>\n",
       "      <td>18.279</td>\n",
       "      <td>16.07</td>\n",
       "    </tr>\n",
       "    <tr>\n",
       "      <th>1</th>\n",
       "      <td>at0ill1</td>\n",
       "      <td>no2</td>\n",
       "      <td>6.234</td>\n",
       "      <td>0.38</td>\n",
       "      <td>28.1</td>\n",
       "      <td>2023-01-02</td>\n",
       "      <td>13.359</td>\n",
       "      <td>12.36</td>\n",
       "    </tr>\n",
       "    <tr>\n",
       "      <th>2</th>\n",
       "      <td>at0ill1</td>\n",
       "      <td>no2</td>\n",
       "      <td>6.234</td>\n",
       "      <td>0.38</td>\n",
       "      <td>28.1</td>\n",
       "      <td>2023-01-03</td>\n",
       "      <td>11.934</td>\n",
       "      <td>10.135</td>\n",
       "    </tr>\n",
       "    <tr>\n",
       "      <th>3</th>\n",
       "      <td>at0ill1</td>\n",
       "      <td>no2</td>\n",
       "      <td>6.234</td>\n",
       "      <td>0.38</td>\n",
       "      <td>28.1</td>\n",
       "      <td>2023-01-04</td>\n",
       "      <td>8.834</td>\n",
       "      <td>7.792</td>\n",
       "    </tr>\n",
       "    <tr>\n",
       "      <th>4</th>\n",
       "      <td>at0ill1</td>\n",
       "      <td>no2</td>\n",
       "      <td>6.234</td>\n",
       "      <td>0.38</td>\n",
       "      <td>28.1</td>\n",
       "      <td>2023-01-05</td>\n",
       "      <td>5.947</td>\n",
       "      <td>5.075</td>\n",
       "    </tr>\n",
       "  </tbody>\n",
       "</table>\n",
       "</div>"
      ],
      "text/plain": [
       "   site_id pollutant    no2   so2    o3        date    pm10   pm2.5\n",
       "0  at0ill1       no2  6.234  0.38  28.1  2023-01-01  18.279   16.07\n",
       "1  at0ill1       no2  6.234  0.38  28.1  2023-01-02  13.359   12.36\n",
       "2  at0ill1       no2  6.234  0.38  28.1  2023-01-03  11.934  10.135\n",
       "3  at0ill1       no2  6.234  0.38  28.1  2023-01-04   8.834   7.792\n",
       "4  at0ill1       no2  6.234  0.38  28.1  2023-01-05   5.947   5.075"
      ]
     },
     "metadata": {},
     "output_type": "display_data"
    },
    {
     "name": "stdout",
     "output_type": "stream",
     "text": [
      "Rows 24062\n"
     ]
    }
   ],
   "source": [
    "for pollutant_name in df_2.pollutant.unique().tolist():\n",
    "        df_2[pollutant_name] = df_2[(df_2.pollutant == pollutant_name)]['value']\n",
    "    \n",
    "\n",
    "df_2.drop(labels='value',axis=1, inplace=True)\n",
    "df_2 = df_2.groupby('site_id').first()\n",
    "df_2.reset_index(inplace=True)\n",
    "df_2.set_index(['site_id'], inplace=True)\n",
    "df_2.drop(labels='date',axis=1, inplace=True)\n",
    "\n",
    "df_u = pd.merge(left=df_2,left_index=True, right=df_1, right_index=True, how='inner')\n",
    "df_u.reset_index(inplace=True)\n",
    "\n",
    "display(df_u.head(5))\n",
    "print(f\"Rows {df_u.shape[0]}\")"
   ]
  },
  {
   "cell_type": "markdown",
   "metadata": {
    "vscode": {
     "languageId": "plaintext"
    }
   },
   "source": [
    "Briefly explain your steps and why you choose them."
   ]
  },
  {
   "cell_type": "markdown",
   "metadata": {},
   "source": [
    "1) For loop: for all the different pollutants create a new column and add a row for each pollutant (other pollutants values will be NaN)\n",
    "2) GroupBy.first(): for each site keep the first no NaN value of each column, (site_id\tdate\tpollutant) should be all same\n",
    "pollutants will be only not NaN 1 row\n",
    "3) Merge inner with other pollutants from other csv. Inner because we want all sites to match (my decission)"
   ]
  },
  {
   "cell_type": "markdown",
   "metadata": {},
   "source": [
    "# Exercise 3 (15 points)"
   ]
  },
  {
   "cell_type": "markdown",
   "metadata": {},
   "source": [
    "Read in the data set `sites.csv` and merge it suitably with the combined data set from exercise 2. Display the first five rows of the merged data set."
   ]
  },
  {
   "cell_type": "code",
   "execution_count": 171,
   "metadata": {},
   "outputs": [
    {
     "data": {
      "text/html": [
       "<div>\n",
       "<style scoped>\n",
       "    .dataframe tbody tr th:only-of-type {\n",
       "        vertical-align: middle;\n",
       "    }\n",
       "\n",
       "    .dataframe tbody tr th {\n",
       "        vertical-align: top;\n",
       "    }\n",
       "\n",
       "    .dataframe thead th {\n",
       "        text-align: right;\n",
       "    }\n",
       "</style>\n",
       "<table border=\"1\" class=\"dataframe\">\n",
       "  <thead>\n",
       "    <tr style=\"text-align: right;\">\n",
       "      <th></th>\n",
       "      <th>site_id</th>\n",
       "      <th>pollutant</th>\n",
       "      <th>no2</th>\n",
       "      <th>so2</th>\n",
       "      <th>o3</th>\n",
       "      <th>date</th>\n",
       "      <th>pm10</th>\n",
       "      <th>pm2.5</th>\n",
       "      <th>site_id_sites</th>\n",
       "      <th>site</th>\n",
       "      <th>country</th>\n",
       "      <th>site_type</th>\n",
       "      <th>site_area</th>\n",
       "      <th>elevation</th>\n",
       "    </tr>\n",
       "  </thead>\n",
       "  <tbody>\n",
       "    <tr>\n",
       "      <th>0</th>\n",
       "      <td>at0ill1</td>\n",
       "      <td>no2</td>\n",
       "      <td>6.234</td>\n",
       "      <td>0.38</td>\n",
       "      <td>28.10</td>\n",
       "      <td>2023-01-01</td>\n",
       "      <td>18.279</td>\n",
       "      <td>16.07</td>\n",
       "      <td>at0ill1</td>\n",
       "      <td>Illmitz am Neusiedler See</td>\n",
       "      <td>austria</td>\n",
       "      <td>background</td>\n",
       "      <td>rural_regional</td>\n",
       "      <td>117.0</td>\n",
       "    </tr>\n",
       "    <tr>\n",
       "      <th>1</th>\n",
       "      <td>at0ill1</td>\n",
       "      <td>no2</td>\n",
       "      <td>6.234</td>\n",
       "      <td>0.38</td>\n",
       "      <td>28.10</td>\n",
       "      <td>2023-01-02</td>\n",
       "      <td>13.359</td>\n",
       "      <td>12.36</td>\n",
       "      <td>at0ill1</td>\n",
       "      <td>Illmitz am Neusiedler See</td>\n",
       "      <td>austria</td>\n",
       "      <td>background</td>\n",
       "      <td>rural_regional</td>\n",
       "      <td>117.0</td>\n",
       "    </tr>\n",
       "    <tr>\n",
       "      <th>2</th>\n",
       "      <td>at0ill1</td>\n",
       "      <td>no2</td>\n",
       "      <td>6.234</td>\n",
       "      <td>0.38</td>\n",
       "      <td>28.10</td>\n",
       "      <td>2023-01-03</td>\n",
       "      <td>11.934</td>\n",
       "      <td>10.135</td>\n",
       "      <td>at0ill1</td>\n",
       "      <td>Illmitz am Neusiedler See</td>\n",
       "      <td>austria</td>\n",
       "      <td>background</td>\n",
       "      <td>rural_regional</td>\n",
       "      <td>117.0</td>\n",
       "    </tr>\n",
       "    <tr>\n",
       "      <th>3</th>\n",
       "      <td>at0ill1</td>\n",
       "      <td>no2</td>\n",
       "      <td>6.234</td>\n",
       "      <td>0.38</td>\n",
       "      <td>28.10</td>\n",
       "      <td>2023-01-04</td>\n",
       "      <td>8.834</td>\n",
       "      <td>7.792</td>\n",
       "      <td>at0ill1</td>\n",
       "      <td>Illmitz am Neusiedler See</td>\n",
       "      <td>austria</td>\n",
       "      <td>background</td>\n",
       "      <td>rural_regional</td>\n",
       "      <td>117.0</td>\n",
       "    </tr>\n",
       "    <tr>\n",
       "      <th>4</th>\n",
       "      <td>at0ill1</td>\n",
       "      <td>no2</td>\n",
       "      <td>6.234</td>\n",
       "      <td>0.38</td>\n",
       "      <td>28.10</td>\n",
       "      <td>2023-01-05</td>\n",
       "      <td>5.947</td>\n",
       "      <td>5.075</td>\n",
       "      <td>at0ill1</td>\n",
       "      <td>Illmitz am Neusiedler See</td>\n",
       "      <td>austria</td>\n",
       "      <td>background</td>\n",
       "      <td>rural_regional</td>\n",
       "      <td>117.0</td>\n",
       "    </tr>\n",
       "    <tr>\n",
       "      <th>...</th>\n",
       "      <td>...</td>\n",
       "      <td>...</td>\n",
       "      <td>...</td>\n",
       "      <td>...</td>\n",
       "      <td>...</td>\n",
       "      <td>...</td>\n",
       "      <td>...</td>\n",
       "      <td>...</td>\n",
       "      <td>...</td>\n",
       "      <td>...</td>\n",
       "      <td>...</td>\n",
       "      <td>...</td>\n",
       "      <td>...</td>\n",
       "      <td>...</td>\n",
       "    </tr>\n",
       "    <tr>\n",
       "      <th>24057</th>\n",
       "      <td>pt03083</td>\n",
       "      <td>no2</td>\n",
       "      <td>9.925</td>\n",
       "      <td>NaN</td>\n",
       "      <td>77.25</td>\n",
       "      <td>2023-12-27</td>\n",
       "      <td>13.754</td>\n",
       "      <td>5.612</td>\n",
       "      <td>pt03083</td>\n",
       "      <td>Laranjeiro</td>\n",
       "      <td>portugal</td>\n",
       "      <td>background</td>\n",
       "      <td>urban</td>\n",
       "      <td>63.0</td>\n",
       "    </tr>\n",
       "    <tr>\n",
       "      <th>24058</th>\n",
       "      <td>pt03083</td>\n",
       "      <td>no2</td>\n",
       "      <td>9.925</td>\n",
       "      <td>NaN</td>\n",
       "      <td>77.25</td>\n",
       "      <td>2023-12-28</td>\n",
       "      <td>13.238</td>\n",
       "      <td>4.188</td>\n",
       "      <td>pt03083</td>\n",
       "      <td>Laranjeiro</td>\n",
       "      <td>portugal</td>\n",
       "      <td>background</td>\n",
       "      <td>urban</td>\n",
       "      <td>63.0</td>\n",
       "    </tr>\n",
       "    <tr>\n",
       "      <th>24059</th>\n",
       "      <td>pt03083</td>\n",
       "      <td>no2</td>\n",
       "      <td>9.925</td>\n",
       "      <td>NaN</td>\n",
       "      <td>77.25</td>\n",
       "      <td>2023-12-29</td>\n",
       "      <td>15.954</td>\n",
       "      <td>7.617</td>\n",
       "      <td>pt03083</td>\n",
       "      <td>Laranjeiro</td>\n",
       "      <td>portugal</td>\n",
       "      <td>background</td>\n",
       "      <td>urban</td>\n",
       "      <td>63.0</td>\n",
       "    </tr>\n",
       "    <tr>\n",
       "      <th>24060</th>\n",
       "      <td>pt03083</td>\n",
       "      <td>no2</td>\n",
       "      <td>9.925</td>\n",
       "      <td>NaN</td>\n",
       "      <td>77.25</td>\n",
       "      <td>2023-12-30</td>\n",
       "      <td>28.319</td>\n",
       "      <td>15.081</td>\n",
       "      <td>pt03083</td>\n",
       "      <td>Laranjeiro</td>\n",
       "      <td>portugal</td>\n",
       "      <td>background</td>\n",
       "      <td>urban</td>\n",
       "      <td>63.0</td>\n",
       "    </tr>\n",
       "    <tr>\n",
       "      <th>24061</th>\n",
       "      <td>pt03083</td>\n",
       "      <td>no2</td>\n",
       "      <td>9.925</td>\n",
       "      <td>NaN</td>\n",
       "      <td>77.25</td>\n",
       "      <td>2023-12-31</td>\n",
       "      <td>27.900</td>\n",
       "      <td>8.4</td>\n",
       "      <td>pt03083</td>\n",
       "      <td>Laranjeiro</td>\n",
       "      <td>portugal</td>\n",
       "      <td>background</td>\n",
       "      <td>urban</td>\n",
       "      <td>63.0</td>\n",
       "    </tr>\n",
       "  </tbody>\n",
       "</table>\n",
       "<p>24062 rows × 14 columns</p>\n",
       "</div>"
      ],
      "text/plain": [
       "       site_id pollutant    no2   so2     o3        date    pm10   pm2.5  \\\n",
       "0      at0ill1       no2  6.234  0.38  28.10  2023-01-01  18.279   16.07   \n",
       "1      at0ill1       no2  6.234  0.38  28.10  2023-01-02  13.359   12.36   \n",
       "2      at0ill1       no2  6.234  0.38  28.10  2023-01-03  11.934  10.135   \n",
       "3      at0ill1       no2  6.234  0.38  28.10  2023-01-04   8.834   7.792   \n",
       "4      at0ill1       no2  6.234  0.38  28.10  2023-01-05   5.947   5.075   \n",
       "...        ...       ...    ...   ...    ...         ...     ...     ...   \n",
       "24057  pt03083       no2  9.925   NaN  77.25  2023-12-27  13.754   5.612   \n",
       "24058  pt03083       no2  9.925   NaN  77.25  2023-12-28  13.238   4.188   \n",
       "24059  pt03083       no2  9.925   NaN  77.25  2023-12-29  15.954   7.617   \n",
       "24060  pt03083       no2  9.925   NaN  77.25  2023-12-30  28.319  15.081   \n",
       "24061  pt03083       no2  9.925   NaN  77.25  2023-12-31  27.900     8.4   \n",
       "\n",
       "      site_id_sites                       site   country   site_type  \\\n",
       "0           at0ill1  Illmitz am Neusiedler See   austria  background   \n",
       "1           at0ill1  Illmitz am Neusiedler See   austria  background   \n",
       "2           at0ill1  Illmitz am Neusiedler See   austria  background   \n",
       "3           at0ill1  Illmitz am Neusiedler See   austria  background   \n",
       "4           at0ill1  Illmitz am Neusiedler See   austria  background   \n",
       "...             ...                        ...       ...         ...   \n",
       "24057       pt03083                 Laranjeiro  portugal  background   \n",
       "24058       pt03083                 Laranjeiro  portugal  background   \n",
       "24059       pt03083                 Laranjeiro  portugal  background   \n",
       "24060       pt03083                 Laranjeiro  portugal  background   \n",
       "24061       pt03083                 Laranjeiro  portugal  background   \n",
       "\n",
       "            site_area  elevation  \n",
       "0      rural_regional      117.0  \n",
       "1      rural_regional      117.0  \n",
       "2      rural_regional      117.0  \n",
       "3      rural_regional      117.0  \n",
       "4      rural_regional      117.0  \n",
       "...               ...        ...  \n",
       "24057           urban       63.0  \n",
       "24058           urban       63.0  \n",
       "24059           urban       63.0  \n",
       "24060           urban       63.0  \n",
       "24061           urban       63.0  \n",
       "\n",
       "[24062 rows x 14 columns]"
      ]
     },
     "execution_count": 171,
     "metadata": {},
     "output_type": "execute_result"
    }
   ],
   "source": [
    "df_sites = pd.read_csv('sites.csv')\n",
    "df_sites.rename({\"site_id\":\"site_id_sites\"},axis=1,inplace=True)\n",
    "df_merged = pd.merge(left=df_u, left_on=\"site_id\", right=df_sites, right_on=\"site_id_sites\", how=\"left\")\n",
    "df_merged"
   ]
  },
  {
   "cell_type": "markdown",
   "metadata": {},
   "source": [
    "Does the sites data set contain meta data on all sites that are contained in the combined data set from exercise 2? If not, which sites are missing?"
   ]
  },
  {
   "cell_type": "code",
   "execution_count": 173,
   "metadata": {},
   "outputs": [
    {
     "data": {
      "text/html": [
       "<div>\n",
       "<style scoped>\n",
       "    .dataframe tbody tr th:only-of-type {\n",
       "        vertical-align: middle;\n",
       "    }\n",
       "\n",
       "    .dataframe tbody tr th {\n",
       "        vertical-align: top;\n",
       "    }\n",
       "\n",
       "    .dataframe thead th {\n",
       "        text-align: right;\n",
       "    }\n",
       "</style>\n",
       "<table border=\"1\" class=\"dataframe\">\n",
       "  <thead>\n",
       "    <tr style=\"text-align: right;\">\n",
       "      <th></th>\n",
       "      <th>site_id</th>\n",
       "      <th>pollutant</th>\n",
       "      <th>no2</th>\n",
       "      <th>so2</th>\n",
       "      <th>o3</th>\n",
       "      <th>date</th>\n",
       "      <th>pm10</th>\n",
       "      <th>pm2.5</th>\n",
       "      <th>site_id_sites</th>\n",
       "      <th>site</th>\n",
       "      <th>country</th>\n",
       "      <th>site_type</th>\n",
       "      <th>site_area</th>\n",
       "      <th>elevation</th>\n",
       "    </tr>\n",
       "  </thead>\n",
       "  <tbody>\n",
       "    <tr>\n",
       "      <th>19373</th>\n",
       "      <td>nl00644</td>\n",
       "      <td>no2</td>\n",
       "      <td>5.076</td>\n",
       "      <td>0.597</td>\n",
       "      <td>63.408</td>\n",
       "      <td>2023-01-01</td>\n",
       "      <td>14.617</td>\n",
       "      <td>4.082</td>\n",
       "      <td>NaN</td>\n",
       "      <td>NaN</td>\n",
       "      <td>NaN</td>\n",
       "      <td>NaN</td>\n",
       "      <td>NaN</td>\n",
       "      <td>NaN</td>\n",
       "    </tr>\n",
       "    <tr>\n",
       "      <th>19374</th>\n",
       "      <td>nl00644</td>\n",
       "      <td>no2</td>\n",
       "      <td>5.076</td>\n",
       "      <td>0.597</td>\n",
       "      <td>63.408</td>\n",
       "      <td>2023-01-02</td>\n",
       "      <td>10.083</td>\n",
       "      <td>1.214</td>\n",
       "      <td>NaN</td>\n",
       "      <td>NaN</td>\n",
       "      <td>NaN</td>\n",
       "      <td>NaN</td>\n",
       "      <td>NaN</td>\n",
       "      <td>NaN</td>\n",
       "    </tr>\n",
       "    <tr>\n",
       "      <th>19375</th>\n",
       "      <td>nl00644</td>\n",
       "      <td>no2</td>\n",
       "      <td>5.076</td>\n",
       "      <td>0.597</td>\n",
       "      <td>63.408</td>\n",
       "      <td>2023-01-03</td>\n",
       "      <td>7.417</td>\n",
       "      <td>7.105</td>\n",
       "      <td>NaN</td>\n",
       "      <td>NaN</td>\n",
       "      <td>NaN</td>\n",
       "      <td>NaN</td>\n",
       "      <td>NaN</td>\n",
       "      <td>NaN</td>\n",
       "    </tr>\n",
       "    <tr>\n",
       "      <th>19376</th>\n",
       "      <td>nl00644</td>\n",
       "      <td>no2</td>\n",
       "      <td>5.076</td>\n",
       "      <td>0.597</td>\n",
       "      <td>63.408</td>\n",
       "      <td>2023-01-04</td>\n",
       "      <td>10.830</td>\n",
       "      <td>2.674</td>\n",
       "      <td>NaN</td>\n",
       "      <td>NaN</td>\n",
       "      <td>NaN</td>\n",
       "      <td>NaN</td>\n",
       "      <td>NaN</td>\n",
       "      <td>NaN</td>\n",
       "    </tr>\n",
       "    <tr>\n",
       "      <th>19377</th>\n",
       "      <td>nl00644</td>\n",
       "      <td>no2</td>\n",
       "      <td>5.076</td>\n",
       "      <td>0.597</td>\n",
       "      <td>63.408</td>\n",
       "      <td>2023-01-05</td>\n",
       "      <td>22.617</td>\n",
       "      <td>4.962</td>\n",
       "      <td>NaN</td>\n",
       "      <td>NaN</td>\n",
       "      <td>NaN</td>\n",
       "      <td>NaN</td>\n",
       "      <td>NaN</td>\n",
       "      <td>NaN</td>\n",
       "    </tr>\n",
       "    <tr>\n",
       "      <th>...</th>\n",
       "      <td>...</td>\n",
       "      <td>...</td>\n",
       "      <td>...</td>\n",
       "      <td>...</td>\n",
       "      <td>...</td>\n",
       "      <td>...</td>\n",
       "      <td>...</td>\n",
       "      <td>...</td>\n",
       "      <td>...</td>\n",
       "      <td>...</td>\n",
       "      <td>...</td>\n",
       "      <td>...</td>\n",
       "      <td>...</td>\n",
       "      <td>...</td>\n",
       "    </tr>\n",
       "    <tr>\n",
       "      <th>21511</th>\n",
       "      <td>pl0209a</td>\n",
       "      <td>no2</td>\n",
       "      <td>14.108</td>\n",
       "      <td>6.907</td>\n",
       "      <td>51.121</td>\n",
       "      <td>2023-12-27</td>\n",
       "      <td>17.171</td>\n",
       "      <td>13.03</td>\n",
       "      <td>NaN</td>\n",
       "      <td>NaN</td>\n",
       "      <td>NaN</td>\n",
       "      <td>NaN</td>\n",
       "      <td>NaN</td>\n",
       "      <td>NaN</td>\n",
       "    </tr>\n",
       "    <tr>\n",
       "      <th>21512</th>\n",
       "      <td>pl0209a</td>\n",
       "      <td>no2</td>\n",
       "      <td>14.108</td>\n",
       "      <td>6.907</td>\n",
       "      <td>51.121</td>\n",
       "      <td>2023-12-28</td>\n",
       "      <td>11.149</td>\n",
       "      <td>9.644</td>\n",
       "      <td>NaN</td>\n",
       "      <td>NaN</td>\n",
       "      <td>NaN</td>\n",
       "      <td>NaN</td>\n",
       "      <td>NaN</td>\n",
       "      <td>NaN</td>\n",
       "    </tr>\n",
       "    <tr>\n",
       "      <th>21513</th>\n",
       "      <td>pl0209a</td>\n",
       "      <td>no2</td>\n",
       "      <td>14.108</td>\n",
       "      <td>6.907</td>\n",
       "      <td>51.121</td>\n",
       "      <td>2023-12-29</td>\n",
       "      <td>5.279</td>\n",
       "      <td>4.03</td>\n",
       "      <td>NaN</td>\n",
       "      <td>NaN</td>\n",
       "      <td>NaN</td>\n",
       "      <td>NaN</td>\n",
       "      <td>NaN</td>\n",
       "      <td>NaN</td>\n",
       "    </tr>\n",
       "    <tr>\n",
       "      <th>21514</th>\n",
       "      <td>pl0209a</td>\n",
       "      <td>no2</td>\n",
       "      <td>14.108</td>\n",
       "      <td>6.907</td>\n",
       "      <td>51.121</td>\n",
       "      <td>2023-12-30</td>\n",
       "      <td>9.031</td>\n",
       "      <td>7.269</td>\n",
       "      <td>NaN</td>\n",
       "      <td>NaN</td>\n",
       "      <td>NaN</td>\n",
       "      <td>NaN</td>\n",
       "      <td>NaN</td>\n",
       "      <td>NaN</td>\n",
       "    </tr>\n",
       "    <tr>\n",
       "      <th>21515</th>\n",
       "      <td>pl0209a</td>\n",
       "      <td>no2</td>\n",
       "      <td>14.108</td>\n",
       "      <td>6.907</td>\n",
       "      <td>51.121</td>\n",
       "      <td>2023-12-31</td>\n",
       "      <td>146.947</td>\n",
       "      <td>137.29</td>\n",
       "      <td>NaN</td>\n",
       "      <td>NaN</td>\n",
       "      <td>NaN</td>\n",
       "      <td>NaN</td>\n",
       "      <td>NaN</td>\n",
       "      <td>NaN</td>\n",
       "    </tr>\n",
       "  </tbody>\n",
       "</table>\n",
       "<p>720 rows × 14 columns</p>\n",
       "</div>"
      ],
      "text/plain": [
       "       site_id pollutant     no2    so2      o3        date     pm10   pm2.5  \\\n",
       "19373  nl00644       no2   5.076  0.597  63.408  2023-01-01   14.617   4.082   \n",
       "19374  nl00644       no2   5.076  0.597  63.408  2023-01-02   10.083   1.214   \n",
       "19375  nl00644       no2   5.076  0.597  63.408  2023-01-03    7.417   7.105   \n",
       "19376  nl00644       no2   5.076  0.597  63.408  2023-01-04   10.830   2.674   \n",
       "19377  nl00644       no2   5.076  0.597  63.408  2023-01-05   22.617   4.962   \n",
       "...        ...       ...     ...    ...     ...         ...      ...     ...   \n",
       "21511  pl0209a       no2  14.108  6.907  51.121  2023-12-27   17.171   13.03   \n",
       "21512  pl0209a       no2  14.108  6.907  51.121  2023-12-28   11.149   9.644   \n",
       "21513  pl0209a       no2  14.108  6.907  51.121  2023-12-29    5.279    4.03   \n",
       "21514  pl0209a       no2  14.108  6.907  51.121  2023-12-30    9.031   7.269   \n",
       "21515  pl0209a       no2  14.108  6.907  51.121  2023-12-31  146.947  137.29   \n",
       "\n",
       "      site_id_sites site country site_type site_area  elevation  \n",
       "19373           NaN  NaN     NaN       NaN       NaN        NaN  \n",
       "19374           NaN  NaN     NaN       NaN       NaN        NaN  \n",
       "19375           NaN  NaN     NaN       NaN       NaN        NaN  \n",
       "19376           NaN  NaN     NaN       NaN       NaN        NaN  \n",
       "19377           NaN  NaN     NaN       NaN       NaN        NaN  \n",
       "...             ...  ...     ...       ...       ...        ...  \n",
       "21511           NaN  NaN     NaN       NaN       NaN        NaN  \n",
       "21512           NaN  NaN     NaN       NaN       NaN        NaN  \n",
       "21513           NaN  NaN     NaN       NaN       NaN        NaN  \n",
       "21514           NaN  NaN     NaN       NaN       NaN        NaN  \n",
       "21515           NaN  NaN     NaN       NaN       NaN        NaN  \n",
       "\n",
       "[720 rows x 14 columns]"
      ]
     },
     "execution_count": 173,
     "metadata": {},
     "output_type": "execute_result"
    }
   ],
   "source": [
    "df_merged[df_merged.site_id_sites.isna()]"
   ]
  },
  {
   "cell_type": "code",
   "execution_count": 161,
   "metadata": {},
   "outputs": [],
   "source": [
    "df = pd.read_csv('backup.csv')"
   ]
  },
  {
   "cell_type": "markdown",
   "metadata": {},
   "source": [
    "# Exercise 4 (20 points)"
   ]
  },
  {
   "cell_type": "markdown",
   "metadata": {
    "vscode": {
     "languageId": "plaintext"
    }
   },
   "source": [
    "Of all German sites with `site_type` \"traffic\" or \"background\", display the 5 observations with the highest `pm10` values. Display only the relevant columns (site, site_type, date, and pm10)."
   ]
  },
  {
   "cell_type": "code",
   "execution_count": 183,
   "metadata": {},
   "outputs": [
    {
     "data": {
      "text/html": [
       "<div>\n",
       "<style scoped>\n",
       "    .dataframe tbody tr th:only-of-type {\n",
       "        vertical-align: middle;\n",
       "    }\n",
       "\n",
       "    .dataframe tbody tr th {\n",
       "        vertical-align: top;\n",
       "    }\n",
       "\n",
       "    .dataframe thead th {\n",
       "        text-align: right;\n",
       "    }\n",
       "</style>\n",
       "<table border=\"1\" class=\"dataframe\">\n",
       "  <thead>\n",
       "    <tr style=\"text-align: right;\">\n",
       "      <th></th>\n",
       "      <th>site</th>\n",
       "      <th>site_type</th>\n",
       "      <th>date</th>\n",
       "      <th>pm10</th>\n",
       "    </tr>\n",
       "  </thead>\n",
       "  <tbody>\n",
       "    <tr>\n",
       "      <th>4735</th>\n",
       "      <td>B Friedrichshain-Frankfurter Allee</td>\n",
       "      <td>traffic</td>\n",
       "      <td>2023-12-31</td>\n",
       "      <td>790.900</td>\n",
       "    </tr>\n",
       "    <tr>\n",
       "      <th>5458</th>\n",
       "      <td>München/Stachus</td>\n",
       "      <td>traffic</td>\n",
       "      <td>2023-12-31</td>\n",
       "      <td>399.000</td>\n",
       "    </tr>\n",
       "    <tr>\n",
       "      <th>6903</th>\n",
       "      <td>Hamburg Habichtstraße</td>\n",
       "      <td>traffic</td>\n",
       "      <td>2023-12-31</td>\n",
       "      <td>362.430</td>\n",
       "    </tr>\n",
       "    <tr>\n",
       "      <th>7262</th>\n",
       "      <td>Leipzig-Mitte</td>\n",
       "      <td>traffic</td>\n",
       "      <td>2023-12-31</td>\n",
       "      <td>328.620</td>\n",
       "    </tr>\n",
       "    <tr>\n",
       "      <th>6878</th>\n",
       "      <td>Hamburg Habichtstraße</td>\n",
       "      <td>traffic</td>\n",
       "      <td>2023-12-06</td>\n",
       "      <td>66.703</td>\n",
       "    </tr>\n",
       "  </tbody>\n",
       "</table>\n",
       "</div>"
      ],
      "text/plain": [
       "                                    site site_type        date     pm10\n",
       "4735  B Friedrichshain-Frankfurter Allee   traffic  2023-12-31  790.900\n",
       "5458                     München/Stachus   traffic  2023-12-31  399.000\n",
       "6903               Hamburg Habichtstraße   traffic  2023-12-31  362.430\n",
       "7262                       Leipzig-Mitte   traffic  2023-12-31  328.620\n",
       "6878               Hamburg Habichtstraße   traffic  2023-12-06   66.703"
      ]
     },
     "execution_count": 183,
     "metadata": {},
     "output_type": "execute_result"
    }
   ],
   "source": [
    "df[(df.country == 'germany') & (df.site_type.isin([\"traffic\",\"backgroung\"]))] \\\n",
    "    [[\"site\", \"site_type\", \"date\", \"pm10\"]].sort_values(by='pm10', ascending=False).head(5)"
   ]
  },
  {
   "cell_type": "markdown",
   "metadata": {},
   "source": [
    "The World Health Organization recommends a maximum yearly average `pm10` value of 15 µg/m³. What is the percentage of sites that exceeds this value?"
   ]
  },
  {
   "cell_type": "code",
   "execution_count": 195,
   "metadata": {},
   "outputs": [
    {
     "name": "stdout",
     "output_type": "stream",
     "text": [
      "73.846%\n"
     ]
    }
   ],
   "source": [
    "df_gby_site = df.groupby('site_id').pm10.mean()\n",
    "exceed_pm10 = (df_gby_site > 15).sum() / df_gby_site.notna().sum()\n",
    "print(f\"{exceed_pm10*100:.3f}%\")"
   ]
  },
  {
   "cell_type": "markdown",
   "metadata": {},
   "source": [
    "# Exercise 5 (20 points)"
   ]
  },
  {
   "cell_type": "markdown",
   "metadata": {},
   "source": [
    "Visualize the following patterns related to ozone (`o3`) in the data:\n",
    "\n",
    "- Calculate the average ozone values per site and use a scatter plot to show how ozone is related to the `elevation` of the site\n",
    "- Use a line plot to show how ozone immissions at the site \"Schauinsland\" have developed over time\n",
    "\n",
    "Arrange both plots as subplots of a single figure. Create a title for the entire figure and titles for each subplot."
   ]
  },
  {
   "cell_type": "code",
   "execution_count": 164,
   "metadata": {},
   "outputs": [
    {
     "data": {
      "image/png": "[encoded data removed]",
      "text/plain": [
       "<Figure size 640x480 with 2 Axes>"
      ]
     },
     "metadata": {},
     "output_type": "display_data"
    }
   ],
   "source": [
    "data1 = pd.DataFrame(df.groupby('site_id').o3.mean())\n",
    "elevs = df[['site_id','elevation']].drop_duplicates()\n",
    "data1 = pd.merge(left=data1, left_index=True, right=elevs, right_on='site_id', how='inner')\n",
    "\n",
    "data2 = df[df.site == \"Schauinsland\"][['o3','date']]\n",
    "\n",
    "fig, ax = plt.subplots(ncols=2,nrows=1)\n",
    "sns.scatterplot(data=data1, x='site_id', y='elevation',ax=ax[0])\n",
    "sns.lineplot(data=data2, x='date', y='o3')\n",
    "\n",
    "fig.tight_layout()"
   ]
  },
  {
   "cell_type": "markdown",
   "metadata": {},
   "source": [
    "# Exercise 6 (15 points)"
   ]
  },
  {
   "cell_type": "markdown",
   "metadata": {},
   "source": [
    "Display for all sites in Hamburg the average value of `pm10`, `pm2.5` and `no2`. Hint: consider all sites that contain \"Hamburg\" in the site name."
   ]
  },
  {
   "cell_type": "code",
   "execution_count": 165,
   "metadata": {},
   "outputs": [
    {
     "data": {
      "text/html": [
       "<div>\n",
       "<style scoped>\n",
       "    .dataframe tbody tr th:only-of-type {\n",
       "        vertical-align: middle;\n",
       "    }\n",
       "\n",
       "    .dataframe tbody tr th {\n",
       "        vertical-align: top;\n",
       "    }\n",
       "\n",
       "    .dataframe thead th {\n",
       "        text-align: right;\n",
       "    }\n",
       "</style>\n",
       "<table border=\"1\" class=\"dataframe\">\n",
       "  <thead>\n",
       "    <tr style=\"text-align: right;\">\n",
       "      <th></th>\n",
       "      <th>pm10</th>\n",
       "      <th>pm2.5</th>\n",
       "      <th>no2</th>\n",
       "    </tr>\n",
       "  </thead>\n",
       "  <tbody>\n",
       "    <tr>\n",
       "      <th>Hamburg sites</th>\n",
       "      <td>15.565388</td>\n",
       "      <td>9.335079</td>\n",
       "      <td>24.648383</td>\n",
       "    </tr>\n",
       "  </tbody>\n",
       "</table>\n",
       "</div>"
      ],
      "text/plain": [
       "                    pm10     pm2.5        no2\n",
       "Hamburg sites  15.565388  9.335079  24.648383"
      ]
     },
     "execution_count": 165,
     "metadata": {},
     "output_type": "execute_result"
    }
   ],
   "source": [
    "df['pm2.5'] = pd.to_numeric(df['pm2.5'], errors='coerce')\n",
    "df_ham_sites = df[df.site.str.contains(\"HAMBURG\",case=False, na=False)]\n",
    "pd.DataFrame({\n",
    "    \"pm10\":df_ham_sites['pm10'].mean(),\n",
    "    \"pm2.5\":df_ham_sites['pm2.5'].mean(),\n",
    "    \"no2\":df_ham_sites['no2'].mean()\n",
    "}, index=[\"Hamburg sites\"])\n"
   ]
  }
 ],
 "metadata": {
  "kernelspec": {
   "display_name": ".venv",
   "language": "python",
   "name": "python3"
  },
  "language_info": {
   "codemirror_mode": {
    "name": "ipython",
    "version": 3
   },
   "file_extension": ".py",
   "mimetype": "text/x-python",
   "name": "python",
   "nbconvert_exporter": "python",
   "pygments_lexer": "ipython3",
   "version": "3.12.0"
  }
 },
 "nbformat": 4,
 "nbformat_minor": 2
}
