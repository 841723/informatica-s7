{
 "cells": [
  {
   "cell_type": "code",
   "execution_count": 3,
   "metadata": {
    "collapsed": false,
    "jupyter": {
     "outputs_hidden": false
    }
   },
   "outputs": [
    {
     "data": {
      "text/plain": [
       "FACHHOCHSCHULEKIEL"
      ]
     },
     "execution_count": 3,
     "metadata": {},
     "output_type": "execute_result"
    }
   ],
   "source": [
    "ES = ShiftCryptosystem(AlphabeticStrings())\n",
    "k = 3\n",
    "m = ES.encoding('fachhochschulekiel')\n",
    "m\n",
    "# m no es un string"
   ]
  },
  {
   "cell_type": "code",
   "execution_count": 5,
   "metadata": {
    "collapsed": false,
    "jupyter": {
     "outputs_hidden": false
    }
   },
   "outputs": [
    {
     "data": {
      "text/plain": [
       "IDFKKRFKVFKXOHNLHO"
      ]
     },
     "execution_count": 5,
     "metadata": {},
     "output_type": "execute_result"
    }
   ],
   "source": [
    "c = ES.enciphering(k,m)\n",
    "c\n",
    "# c mensaje cifrado"
   ]
  },
  {
   "cell_type": "code",
   "execution_count": 6,
   "metadata": {
    "collapsed": false,
    "jupyter": {
     "outputs_hidden": false
    }
   },
   "outputs": [
    {
     "data": {
      "text/plain": [
       "FACHHOCHSCHULEKIEL"
      ]
     },
     "execution_count": 6,
     "metadata": {},
     "output_type": "execute_result"
    }
   ],
   "source": [
    "mcomma = ES.deciphering(k,c)\n",
    "mcomma"
   ]
  },
  {
   "cell_type": "code",
   "execution_count": 9,
   "metadata": {
    "collapsed": false,
    "jupyter": {
     "outputs_hidden": false
    }
   },
   "outputs": [
    {
     "data": {
      "text/plain": [
       "True"
      ]
     },
     "execution_count": 9,
     "metadata": {},
     "output_type": "execute_result"
    }
   ],
   "source": [
    "mcomma == m"
   ]
  },
  {
   "cell_type": "code",
   "execution_count": 10,
   "metadata": {
    "collapsed": false,
    "jupyter": {
     "outputs_hidden": false
    }
   },
   "outputs": [
    {
     "data": {
      "text/plain": [
       "16"
      ]
     },
     "execution_count": 10,
     "metadata": {},
     "output_type": "execute_result"
    }
   ],
   "source": [
    "# random number between 1 and 25\n",
    "ES.random_key()"
   ]
  },
  {
   "cell_type": "code",
   "execution_count": 23,
   "metadata": {
    "collapsed": false,
    "jupyter": {
     "outputs_hidden": false
    }
   },
   "outputs": [
    {
     "name": "stdout",
     "output_type": "stream",
     "text": [
      "offset 0: ZKYZEBFLITFDDLEZTRKZFEZJEFCFEXVIJVTLIV\n",
      "offset 1: YJXYDAEKHSECCKDYSQJYEDYIDEBEDWUHIUSKHU\n",
      "offset 2: XIWXCZDJGRDBBJCXRPIXDCXHCDADCVTGHTRJGT\n",
      "offset 3: WHVWBYCIFQCAAIBWQOHWCBWGBCZCBUSFGSQIFS\n",
      "offset 4: VGUVAXBHEPBZZHAVPNGVBAVFABYBATREFRPHER\n",
      "offset 5: UFTUZWAGDOAYYGZUOMFUAZUEZAXAZSQDEQOGDQ\n",
      "offset 6: TESTYVZFCNZXXFYTNLETZYTDYZWZYRPCDPNFCP\n",
      "offset 7: SDRSXUYEBMYWWEXSMKDSYXSCXYVYXQOBCOMEBO\n",
      "offset 8: RCQRWTXDALXVVDWRLJCRXWRBWXUXWPNABNLDAN\n",
      "offset 9: QBPQVSWCZKWUUCVQKIBQWVQAVWTWVOMZAMKCZM\n",
      "offset 10: PAOPURVBYJVTTBUPJHAPVUPZUVSVUNLYZLJBYL\n",
      "offset 11: OZNOTQUAXIUSSATOIGZOUTOYTURUTMKXYKIAXK\n",
      "offset 12: NYMNSPTZWHTRRZSNHFYNTSNXSTQTSLJWXJHZWJ\n",
      "offset 13: MXLMROSYVGSQQYRMGEXMSRMWRSPSRKIVWIGYVI\n",
      "offset 14: LWKLQNRXUFRPPXQLFDWLRQLVQRORQJHUVHFXUH\n",
      "offset 15: KVJKPMQWTEQOOWPKECVKQPKUPQNQPIGTUGEWTG\n",
      "offset 16: JUIJOLPVSDPNNVOJDBUJPOJTOPMPOHFSTFDVSF\n",
      "offset 17: ITHINKOURCOMMUNICATIONISNOLONGERSECURE\n",
      "offset 18: HSGHMJNTQBNLLTMHBZSHNMHRMNKNMFDQRDBTQD\n",
      "offset 19: GRFGLIMSPAMKKSLGAYRGMLGQLMJMLECPQCASPC\n",
      "offset 20: FQEFKHLROZLJJRKFZXQFLKFPKLILKDBOPBZROB\n",
      "offset 21: EPDEJGKQNYKIIQJEYWPEKJEOJKHKJCANOAYQNA\n",
      "offset 22: DOCDIFJPMXJHHPIDXVODJIDNIJGJIBZMNZXPMZ\n",
      "offset 23: CNBCHEIOLWIGGOHCWUNCIHCMHIFIHAYLMYWOLY\n",
      "offset 24: BMABGDHNKVHFFNGBVTMBHGBLGHEHGZXKLXVNKX\n",
      "offset 25: ALZAFCGMJUGEEMFAUSLAGFAKFGDGFYWJKWUMJW\n"
     ]
    }
   ],
   "source": [
    "# EXCERCISE: break the ciphertext encoded with Caesar Cipher\n",
    "\n",
    "ciphermessage = ES.encoding('ZKYZEBFLITFDDLEZTRKZFEZJEFCFEXVIJVTLIV')\n",
    "\n",
    "for i in range(26):\n",
    "    possible = ES.deciphering(i,ciphermessage)\n",
    "    print(f\"offset {i}: {possible}\")"
   ]
  },
  {
   "cell_type": "code",
   "execution_count": 28,
   "metadata": {
    "collapsed": false,
    "jupyter": {
     "outputs_hidden": false
    }
   },
   "outputs": [
    {
     "data": {
      "text/plain": [
       "LKHXVEJWPFBUDIYMQNOASGCZRT"
      ]
     },
     "execution_count": 28,
     "metadata": {},
     "output_type": "execute_result"
    }
   ],
   "source": [
    "# monoalphabetic encryption\n",
    "ES2 = SubstitutionCryptosystem(AlphabeticStrings())\n",
    "k = ES2.random_key()\n",
    "k"
   ]
  },
  {
   "cell_type": "code",
   "execution_count": 34,
   "metadata": {
    "collapsed": false,
    "jupyter": {
     "outputs_hidden": false
    },
    "scrolled": true
   },
   "outputs": [
    {
     "name": "stdout",
     "output_type": "stream",
     "text": [
      "MEBXSKGMMEBXLK\n",
      "JBPGKUQJJBPGOU\n",
      "RASQTUHRRASQWU\n",
      "UDASQCIUUDASPC\n",
      "LNBCKSILLNBCQS\n"
     ]
    }
   ],
   "source": [
    "# EXCERCISE: encript 'EASYCOMEEASYGO' using monoalphabetic encryption, is there a pattern? Yes, same letters will be encripted as same, relative letter frequency could be an issue\n",
    "\n",
    "message2encript = ES2.encoding('EASYCOMEEASYGO')\n",
    "\n",
    "for _ in range(5):\n",
    "    print(ES2.enciphering(ES2.random_key(),message2encript))    "
   ]
  },
  {
   "cell_type": "code",
   "execution_count": 3,
   "metadata": {
    "collapsed": false,
    "jupyter": {
     "outputs_hidden": false
    }
   },
   "outputs": [
    {
     "data": {
      "text/plain": [
       "APQMRPWJSXLPW"
      ]
     },
     "execution_count": 3,
     "metadata": {},
     "output_type": "execute_result"
    }
   ],
   "source": [
    "key = 'fhkiel'\n",
    "\n",
    "ES3 = VigenereCryptosystem(AlphabeticStrings(),len(key))\n",
    "k = ES3.encoding(key)\n",
    "m = ES3.encoding('Vigenercipher')\n",
    "\n",
    "ES3.enciphering(k,m)"
   ]
  },
  {
   "cell_type": "code",
   "execution_count": null,
   "metadata": {
    "collapsed": false,
    "jupyter": {
     "outputs_hidden": false
    }
   },
   "outputs": [],
   "source": []
  }
 ],
 "metadata": {
  "kernelspec": {
   "display_name": "SageMath 10.4",
   "language": "sage",
   "name": "sagemath"
  },
  "language_info": {
   "codemirror_mode": {
    "name": "ipython",
    "version": 3
   },
   "file_extension": ".py",
   "mimetype": "text/x-python",
   "name": "python",
   "nbconvert_exporter": "python",
   "pygments_lexer": "ipython3",
   "version": "3.11.10"
  }
 },
 "nbformat": 4,
 "nbformat_minor": 4
}
