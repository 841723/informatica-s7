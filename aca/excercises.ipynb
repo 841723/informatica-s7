{
 "cells": [
  {
   "cell_type": "code",
   "execution_count": null,
   "metadata": {
    "collapsed": false,
    "jupyter": {
     "outputs_hidden": false
    }
   },
   "outputs": [],
   "source": [
    "# EXCERCISE 17/09: break the ciphertext encoded with Caesar Cipher\n",
    "\n",
    "ciphermessage = ES.encoding('ZKYZEBFLITFDDLEZTRKZFEZJEFCFEXVIJVTLIV')\n",
    "\n",
    "for i in range(26):\n",
    "    possible = ES.deciphering(i,ciphermessage)\n",
    "    print(f\"offset {i}: {possible}\")"
   ]
  },
  {
   "cell_type": "code",
   "execution_count": null,
   "metadata": {
    "collapsed": false,
    "jupyter": {
     "outputs_hidden": false
    }
   },
   "outputs": [],
   "source": [
    "# EXCERCISE 17/09: encript 'EASYCOMEEASYGO' using monoalphabetic encryption, is there a pattern? Yes, same letters will be encripted as same, relative letter frequency could be an issue\n",
    "\n",
    "message2encript = ES2.encoding('EASYCOMEEASYGO')\n",
    "\n",
    "for _ in range(5):\n",
    "    print(ES2.enciphering(ES2.random_key(),message2encript))   "
   ]
  },
  {
   "cell_type": "code",
   "execution_count": null,
   "metadata": {
    "collapsed": false,
    "jupyter": {
     "outputs_hidden": false
    }
   },
   "outputs": [],
   "source": []
  }
 ],
 "metadata": {
  "kernelspec": {
   "display_name": "SageMath 10.4",
   "language": "sage",
   "name": "sagemath"
  },
  "language_info": {
   "codemirror_mode": {
    "name": "ipython",
    "version": 3
   },
   "file_extension": ".py",
   "mimetype": "text/x-python",
   "name": "python",
   "nbconvert_exporter": "python",
   "pygments_lexer": "ipython3",
   "version": "3.11.10"
  }
 },
 "nbformat": 4,
 "nbformat_minor": 4
}
