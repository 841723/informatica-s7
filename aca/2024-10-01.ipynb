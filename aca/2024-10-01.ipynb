{
 "cells": [
  {
   "cell_type": "code",
   "execution_count": 112,
   "id": "9e2555de-2d20-4c0e-9783-87e95e1a0b16",
   "metadata": {},
   "outputs": [],
   "source": [
    "ciphertext = 'VVHQWVVRHMUSGJGTHKIHTSSEJCHLSFCBGVWCRLRYQTFSVGAHWKCUHWAUGLQHNSLRLJSHBLTSPISPRDXLJSVEEGHLQWKASSKUWEPWQTWVSPGOELKCQYFNSVWLJSNIQKGNRGYBWLWGOVIOKHKAZKQKXZGYHCECMEIUJOQKWFWVEFQHKIJRCLRLKBIENQFRJLJSDHGRHLSFQTWLAUQRHWDMWLGUSGIKKFLRYVCWVSPGPMLKASSJVOQXEGGVEYGGZMLJCXXLJSVPAIVWIKVRDRYGFRJLJSLVEGGVEYGGEIAPUUISFPBTGNWWMUCZRVTWGLRWUGUMNCZVILE'"
   ]
  },
  {
   "cell_type": "markdown",
   "id": "b5550991-1e33-44a9-820d-d1969f713f8f",
   "metadata": {},
   "source": [
    "#### probably key.len() = 5\n",
    "\n",
    "    284 - 244 =  40 multiplo de 5\n",
    "    276 - 186 =  90 multiplo de 5\n",
    "    258 -  78 = 180 multiplo de 5\n",
    "    227 - 102 = 125 multiplo de 5\n",
    "    ...."
   ]
  },
  {
   "cell_type": "code",
   "execution_count": 113,
   "id": "b19f9245-f375-48c7-b388-850d69a20edd",
   "metadata": {},
   "outputs": [
    {
     "data": {
      "text/plain": [
       "5"
      ]
     },
     "execution_count": 113,
     "metadata": {},
     "output_type": "execute_result"
    }
   ],
   "source": [
    "gcd([40,90,180,125])"
   ]
  },
  {
   "cell_type": "code",
   "execution_count": 114,
   "id": "6d656c99-b5fb-480d-865f-fa122e068ed3",
   "metadata": {},
   "outputs": [
    {
     "name": "stdout",
     "output_type": "stream",
     "text": [
      "\n",
      "for i:0\n",
      "\n",
      "for i:1\n",
      "\t0.04922372011938555\n",
      "\n",
      "for i:2\n",
      "\t0.051241109014370734\n",
      "\t0.055941230486685034\n",
      "\n",
      "for i:3\n",
      "\t0.05754403051700349\n",
      "\t0.05190082644628099\n",
      "\t0.04909090909090909\n",
      "\n",
      "for i:4\n",
      "\t0.05443460589345333\n",
      "\t0.06401509653070112\n",
      "\t0.058208738568732765\n",
      "\t0.05651397977394408\n",
      "\n",
      "for i:5\n",
      "\t0.08710180441078191\n",
      "\t0.08861340679522497\n",
      "\t0.07851239669421488\n",
      "\t0.08172635445362718\n",
      "\t0.0844811753902663\n",
      "\n",
      "for i:6\n",
      "\t0.0625\n",
      "\t0.05983471074380165\n",
      "\t0.05652892561983471\n",
      "\t0.07636363636363637\n",
      "\t0.06512396694214877\n",
      "\t0.05388429752066116\n",
      "\n",
      "for i:7\n",
      "\t0.06684027777777778\n",
      "\t0.058159722222222224\n",
      "\t0.0647351742870077\n",
      "\t0.057492077863286556\n",
      "\t0.06201901312811227\n",
      "\t0.0755998189225894\n",
      "\t0.07016749660479855\n",
      "\n",
      "for i:8\n",
      "\t0.06462585034013606\n",
      "\t0.05895691609977324\n",
      "\t0.06462585034013606\n",
      "\t0.06960142772159429\n",
      "\t0.0660321237358715\n",
      "\t0.091017251635931\n",
      "\t0.074360499702558\n",
      "\t0.07674003569303986\n",
      "\n",
      "for i:9\n",
      "\t0.07085463842220599\n",
      "\t0.0577063550036523\n",
      "\t0.0723155588020453\n",
      "\t0.0620891161431702\n",
      "\t0.0664718772826881\n",
      "\t0.0577063550036523\n",
      "\t0.07669831994156319\n",
      "\t0.07407407407407407\n",
      "\t0.06790123456790123\n"
     ]
    }
   ],
   "source": [
    "# program that counts how many letters (a,b,c,d,...) there is\n",
    "# program that divides a string into columns that have been ciphered with the same key-letter\n",
    "\n",
    "def letter_count(txt):\n",
    "    dict = {}\n",
    "    for i in txt:\n",
    "        if i in dict:\n",
    "            dict[i] += 1\n",
    "        else:\n",
    "            dict[i] = 1\n",
    "    return dict\n",
    "    \n",
    "def extract_columnar_substrings(txt,n):\n",
    "    lists = []\n",
    "    for i in range(n):\n",
    "        l = txt[0+i:len(txt):n]\n",
    "        lists.append(l)\n",
    "    return lists\n",
    "\n",
    "def get_frecuencies(dict):\n",
    "    len = 0\n",
    "    for key in dict:\n",
    "        len += dict[key]\n",
    "    cipherrelfreq = {}\n",
    "    for i in dict:\n",
    "        cipherrelfreq[i] = dict[i]/len\n",
    "    return cipherrelfreq\n",
    "\n",
    "def friedman(txt):\n",
    "    freqs = get_frecuencies(letter_count(txt))\n",
    "    sum = 0\n",
    "    for p in freqs:\n",
    "        sum += freqs[p]**2\n",
    "    return float(sum)\n",
    "\n",
    "def get_friedmans(txt):\n",
    "    for i in range(10):\n",
    "        substrs = extract_columnar_substrings(txt,i)\n",
    "        print(f\"\\nfor i:{i}\")\n",
    "        for j in range(i):\n",
    "           print(f\"\\t{friedman(substrs[j])}\")\n",
    "\n",
    "    \n",
    "get_friedmans(ciphertext)"
   ]
  },
  {
   "cell_type": "markdown",
   "id": "d60cf2b7-19b2-4c43-b2db-a02f475794b9",
   "metadata": {},
   "source": [
    "#### probably key.len() = 5\n",
    "\n",
    "    tiene la media mas alta"
   ]
  },
  {
   "cell_type": "code",
   "execution_count": 115,
   "id": "5b2159b1-173a-4a04-a8b8-5b86a016c937",
   "metadata": {},
   "outputs": [
    {
     "data": {
      "text/plain": [
       "L == -1/2*(1/35113504648896*I*sqrt(2638531010066242524572281036811035)*sqrt(123) + 1964135757209/1465668)^(1/3)*(I*sqrt(3) + 1) - 7862864963081/1293696288*(-I*sqrt(3) + 1)/(1/35113504648896*I*sqrt(2638531010066242524572281036811035)*sqrt(123) + 1964135757209/1465668)^(1/3) + 331/3"
      ]
     },
     "execution_count": 115,
     "metadata": {},
     "output_type": "execute_result"
    }
   ],
   "source": [
    "def IC(txt):\n",
    "    var('L')\n",
    "    n = len(txt)\n",
    "    I = (n*(n-L)/2*L*0.0656 + n^2*(L-1)/(2*L)*0.0385)/(n*(n-1)/2)\n",
    "    sol = solve(I == friedman(txt),L)\n",
    "    return sol[0]\n",
    "\n",
    "IC(ciphertext)"
   ]
  },
  {
   "cell_type": "markdown",
   "id": "477f518a-4249-4ee2-bcff-68fff36f6c6d",
   "metadata": {},
   "source": [
    "# L = 5"
   ]
  },
  {
   "cell_type": "code",
   "execution_count": 116,
   "id": "500257cb-8e29-44bd-860e-1c27028b1076",
   "metadata": {},
   "outputs": [
    {
     "name": "stdout",
     "output_type": "stream",
     "text": [
      "{'V': 5, 'U': 6, 'T': 3, 'C': 7, 'Q': 5, 'G': 9, 'N': 3, 'J': 8, 'P': 4, 'K': 8, 'Y': 1, 'F': 2, 'R': 2, 'D': 1, 'I': 1, 'W': 1, 'E': 1}\n",
      "{'V': 3, 'S': 12, 'H': 6, 'B': 3, 'R': 3, 'T': 3, 'A': 3, 'U': 2, 'G': 10, 'W': 3, 'C': 4, 'O': 3, 'Q': 2, 'Y': 1, 'M': 2, 'F': 3, 'P': 1, 'Z': 2}\n",
      "{'H': 5, 'R': 5, 'G': 3, 'K': 4, 'S': 3, 'L': 10, 'F': 1, 'P': 2, 'D': 3, 'V': 8, 'E': 3, 'W': 7, 'O': 1, 'Q': 3, 'N': 2, 'I': 1, 'Z': 1, 'X': 1, 'U': 2, 'B': 1}\n",
      "{'Q': 3, 'H': 3, 'J': 3, 'I': 11, 'E': 7, 'S': 5, 'V': 5, 'R': 7, 'W': 3, 'B': 1, 'X': 4, 'P': 2, 'Y': 1, 'L': 3, 'A': 1, 'C': 1, 'K': 1, 'M': 4, 'T': 1}\n",
      "{'W': 8, 'M': 1, 'G': 5, 'H': 2, 'J': 3, 'F': 4, 'Y': 5, 'V': 1, 'K': 4, 'A': 4, 'L': 12, 'S': 4, 'E': 4, 'Q': 1, 'O': 1, 'Z': 2, 'U': 2, 'N': 2, 'T': 1}\n"
     ]
    }
   ],
   "source": [
    "L = 5\n",
    "\n",
    "substr = extract_columnar_substrings(ciphertext,L)\n",
    "for i in range(L):\n",
    "    letts = letter_count(substr[i])\n",
    "    print(letts)\n",
    "    "
   ]
  },
  {
   "cell_type": "code",
   "execution_count": 117,
   "id": "d39705e2-173d-4148-b9a0-0b065bab78bb",
   "metadata": {},
   "outputs": [
    {
     "data": {
      "text/plain": [
       "THEMETHODUSEDFORTHEPREPARATIONANDREADINGOFCODEMESSAGESISSIMPLEINTHEEXTREMEANDATTHESAMETIMEIMPOSSIBLEOFTRANSLATIONUNLESSTHEKEYISKNOWNTHEEASEWITHWHICHTHEKEYMAYBECHANGEDISANOTHERPOINTINFAVOROFTHEADOPTIONOFTHISCODEBYTHOSEDESIRINGTOTRANSMITIMPORTANTMESSAGESWITHOUTTHESLIGHTESTDANGEROFTHEIRMESSAGESBEINGREADBYPOLITICALORBUSINESSRIVALSETC"
      ]
     },
     "execution_count": 117,
     "metadata": {},
     "output_type": "execute_result"
    }
   ],
   "source": [
    "key = 'CODES'\n",
    "ES = VigenereCryptosystem(AlphabeticStrings(),len(key))\n",
    "k = ES.encoding(key)\n",
    "c_ = ES.encoding(ciphertext)\n",
    "ES.deciphering(k,c_)"
   ]
  },
  {
   "cell_type": "code",
   "execution_count": null,
   "id": "e3716fe6-939a-47ce-a222-1ff9d0531351",
   "metadata": {},
   "outputs": [],
   "source": []
  }
 ],
 "metadata": {
  "kernelspec": {
   "display_name": "SageMath 10.4",
   "language": "sage",
   "name": "sagemath"
  },
  "language_info": {
   "codemirror_mode": {
    "name": "ipython",
    "version": 3
   },
   "file_extension": ".py",
   "mimetype": "text/x-python",
   "name": "python",
   "nbconvert_exporter": "python",
   "pygments_lexer": "ipython3",
   "version": "3.11.10"
  }
 },
 "nbformat": 4,
 "nbformat_minor": 5
}
