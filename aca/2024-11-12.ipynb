{
 "cells": [
  {
   "cell_type": "code",
   "execution_count": 1,
   "id": "41effdf9-0b2a-4a42-88df-2bb70860c801",
   "metadata": {},
   "outputs": [
    {
     "data": {
      "text/plain": [
       "True"
      ]
     },
     "execution_count": 1,
     "metadata": {},
     "output_type": "execute_result"
    }
   ],
   "source": [
    "p = 97894264418789999801 \n",
    "is_prime(p)"
   ]
  },
  {
   "cell_type": "code",
   "execution_count": 2,
   "id": "02160d48-9d21-45a4-939a-e3e50f9f3ec6",
   "metadata": {},
   "outputs": [
    {
     "data": {
      "text/plain": [
       "True"
      ]
     },
     "execution_count": 2,
     "metadata": {},
     "output_type": "execute_result"
    }
   ],
   "source": [
    "q = 98834564477777793711777492723217\n",
    "is_prime(q)"
   ]
  },
  {
   "cell_type": "code",
   "execution_count": 3,
   "id": "527a6745-911c-463f-91fd-aa9cf2d0d619",
   "metadata": {},
   "outputs": [
    {
     "data": {
      "text/plain": [
       "9675336988703528708938769679382199156200326378079817"
      ]
     },
     "execution_count": 3,
     "metadata": {},
     "output_type": "execute_result"
    }
   ],
   "source": [
    "N = p * q\n",
    "N"
   ]
  },
  {
   "cell_type": "code",
   "execution_count": 4,
   "id": "538deecc-f9a7-4d1f-9701-14cf326114c2",
   "metadata": {},
   "outputs": [
    {
     "data": {
      "text/plain": [
       "9675336988703528708839935114904323468224130095356800"
      ]
     },
     "execution_count": 4,
     "metadata": {},
     "output_type": "execute_result"
    }
   ],
   "source": [
    "phi_N = (p-1) * (q-1)\n",
    "phi_N"
   ]
  },
  {
   "cell_type": "code",
   "execution_count": 5,
   "id": "bd18e0df-8fe7-4a20-a265-41460e449eda",
   "metadata": {},
   "outputs": [
    {
     "data": {
      "text/plain": [
       "172.692644749966"
      ]
     },
     "execution_count": 5,
     "metadata": {},
     "output_type": "execute_result"
    }
   ],
   "source": [
    "# security parameter\n",
    "ln(float(N))/ln(2.)"
   ]
  },
  {
   "cell_type": "code",
   "execution_count": 6,
   "id": "fea1b0b6-fe30-4171-bfbd-906685b87437",
   "metadata": {},
   "outputs": [],
   "source": [
    "e = 3456764794545645789281"
   ]
  },
  {
   "cell_type": "code",
   "execution_count": 7,
   "id": "2223391e-adc3-47d0-8af6-dd91e843d95e",
   "metadata": {},
   "outputs": [
    {
     "data": {
      "text/plain": [
       "1"
      ]
     },
     "execution_count": 7,
     "metadata": {},
     "output_type": "execute_result"
    }
   ],
   "source": [
    "# e and phi_N have non commun divisors\n",
    "gcd(e,phi_N)"
   ]
  },
  {
   "cell_type": "code",
   "execution_count": 8,
   "id": "989ba2da-3fea-4d0b-beae-73ed6f1d9ff0",
   "metadata": {},
   "outputs": [],
   "source": [
    "pk = (N,e)"
   ]
  },
  {
   "cell_type": "code",
   "execution_count": 9,
   "id": "f9342ef4-7130-4418-9a3a-35f6eee38e65",
   "metadata": {},
   "outputs": [
    {
     "data": {
      "text/plain": [
       "(9675336988703528708938769679382199156200326378079817, 3456764794545645789281)"
      ]
     },
     "execution_count": 9,
     "metadata": {},
     "output_type": "execute_result"
    }
   ],
   "source": [
    "pk"
   ]
  },
  {
   "cell_type": "code",
   "execution_count": 10,
   "id": "f11dd48a-806a-4a65-9911-f3a37b045849",
   "metadata": {},
   "outputs": [
    {
     "data": {
      "text/plain": [
       "5969953573857183611951288676675130081819444136684321"
      ]
     },
     "execution_count": 10,
     "metadata": {},
     "output_type": "execute_result"
    }
   ],
   "source": [
    "d = inverse_mod(e, phi_N)\n",
    "d"
   ]
  },
  {
   "cell_type": "code",
   "execution_count": 11,
   "id": "1f972870-99f4-45a1-bf9d-9a1a99d3222d",
   "metadata": {},
   "outputs": [
    {
     "data": {
      "text/plain": [
       "5278125531626744262637141498758658042315585839850458"
      ]
     },
     "execution_count": 11,
     "metadata": {},
     "output_type": "execute_result"
    }
   ],
   "source": [
    "# c = m^e(mod N)\n",
    "\n",
    "m = 73410795\n",
    "c = power_mod(m,e,N)\n",
    "c"
   ]
  },
  {
   "cell_type": "code",
   "execution_count": 12,
   "id": "3b8e633f-7555-4766-b46b-6c2e16ff7705",
   "metadata": {},
   "outputs": [
    {
     "data": {
      "text/plain": [
       "True"
      ]
     },
     "execution_count": 12,
     "metadata": {},
     "output_type": "execute_result"
    }
   ],
   "source": [
    "# m' = c^d(mod N)\n",
    "\n",
    "m_prime = power_mod(c,d,N)\n",
    "m_prime == m"
   ]
  },
  {
   "cell_type": "code",
   "execution_count": 19,
   "id": "ec96fb03-f096-4af8-8d90-d7d007fab5c5",
   "metadata": {},
   "outputs": [
    {
     "data": {
      "text/plain": [
       "2"
      ]
     },
     "execution_count": 19,
     "metadata": {},
     "output_type": "execute_result"
    }
   ],
   "source": [
    "sqrt(36^2-(4*1*323))"
   ]
  },
  {
   "cell_type": "code",
   "execution_count": 16,
   "id": "651f1d7f-d821-424c-ae06-a409bf833350",
   "metadata": {},
   "outputs": [
    {
     "data": {
      "text/plain": [
       "1"
      ]
     },
     "execution_count": 16,
     "metadata": {},
     "output_type": "execute_result"
    }
   ],
   "source": [
    "18^2-323"
   ]
  },
  {
   "cell_type": "code",
   "execution_count": null,
   "id": "f24f4350-7aa6-467f-b046-a6e09611860f",
   "metadata": {},
   "outputs": [],
   "source": []
  }
 ],
 "metadata": {
  "kernelspec": {
   "display_name": "SageMath 10.4",
   "language": "sage",
   "name": "sagemath"
  },
  "language_info": {
   "codemirror_mode": {
    "name": "ipython",
    "version": 3
   },
   "file_extension": ".py",
   "mimetype": "text/x-python",
   "name": "python",
   "nbconvert_exporter": "python",
   "pygments_lexer": "ipython3",
   "version": "3.11.10"
  }
 },
 "nbformat": 4,
 "nbformat_minor": 5
}
