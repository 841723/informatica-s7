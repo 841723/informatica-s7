{
 "cells": [
  {
   "cell_type": "code",
   "execution_count": 1,
   "id": "6a12e4fd-198c-4771-98d8-ded4b55fad8f",
   "metadata": {},
   "outputs": [],
   "source": [
    "def rc4(key, count):\n",
    "    ks = []\n",
    "    l = len(key)\n",
    "    j = 0\n",
    "    s = [si for si in range(256)]\n",
    "    for i in range(256):\n",
    "        j = (j + s[i] + key[i % l]) % 256\n",
    "        s[i], s[j] = s[j], s[i]\n",
    "    i = 0\n",
    "    j = 0\n",
    "    for n in range(count):\n",
    "        i = (i + 1) % 256\n",
    "        j = (j + s[i]) % 256\n",
    "        s[i], s[j] = s[j], s[i]\n",
    "        ks.append(s[(s[i] + s[j]) % 256])\n",
    "    return ks\n",
    "\n",
    "def Gen(n):\n",
    "    l = round(n/8) # n: length of key in bits, l: number of bytes in key\n",
    "    k = []\n",
    "    for i in range(l):\n",
    "        k.append(randint(0, 256))\n",
    "    return k\n",
    "\n",
    "def Enc(k, m):\n",
    "    ks = rc4(k, len(m))\n",
    "    c = []\n",
    "    for i in range(len(m)):\n",
    "        c.append(ks[i]^^ord(m[i]))\n",
    "    return c\n",
    "\n",
    "def Dec(k, c):\n",
    "    ks = rc4(k, len(c))\n",
    "    m = ''\n",
    "    for i in range(len(c)):\n",
    "        m += chr(ks[i]^^c[i])\n",
    "    return m"
   ]
  },
  {
   "cell_type": "code",
   "execution_count": 5,
   "id": "af5fe655-fa8c-418c-95ce-48d7f50a95f3",
   "metadata": {},
   "outputs": [
    {
     "data": {
      "text/plain": [
       "[174, 168, 204, 161]"
      ]
     },
     "execution_count": 5,
     "metadata": {},
     "output_type": "execute_result"
    }
   ],
   "source": [
    "#rc4(0x04FF2E01,4)\n",
    "rc4([4,255,46,1],4)"
   ]
  },
  {
   "cell_type": "code",
   "execution_count": null,
   "id": "1deb8994-f577-4f28-a54a-ce93fea9b33b",
   "metadata": {},
   "outputs": [],
   "source": []
  }
 ],
 "metadata": {
  "kernelspec": {
   "display_name": "SageMath 10.4",
   "language": "sage",
   "name": "sagemath"
  },
  "language_info": {
   "codemirror_mode": {
    "name": "ipython",
    "version": 3
   },
   "file_extension": ".py",
   "mimetype": "text/x-python",
   "name": "python",
   "nbconvert_exporter": "python",
   "pygments_lexer": "ipython3",
   "version": "3.11.10"
  }
 },
 "nbformat": 4,
 "nbformat_minor": 5
}
